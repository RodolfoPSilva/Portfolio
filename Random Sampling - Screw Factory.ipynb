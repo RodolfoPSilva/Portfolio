{
 "cells": [
  {
   "cell_type": "markdown",
   "metadata": {},
   "source": [
    "## Caso: Fábrica de Parafusos\n",
    "Gerar um conjunto aleatório de dados (pop) que, neste caso, vai representar a nossa população (produção de parafusos) - estes dados representam o que realmente está a ser produzido pelas máquinas. Seleccionar um subconjunto aleatório desta população simula a escolha de um número aleatório de parafusos e medir o seu diâmetro."
   ]
  },
  {
   "cell_type": "markdown",
   "metadata": {},
   "source": [
    "Importar módulos necessários"
   ]
  },
  {
   "cell_type": "code",
   "execution_count": 1,
   "metadata": {},
   "outputs": [],
   "source": [
    "import numpy as np\n",
    "import matplotlib.pyplot as plt\n",
    "import seaborn as sns"
   ]
  },
  {
   "cell_type": "markdown",
   "metadata": {},
   "source": [
    "Definir *seed* para reprodutibilidade"
   ]
  },
  {
   "cell_type": "code",
   "execution_count": 2,
   "metadata": {},
   "outputs": [],
   "source": [
    "np.random.seed(42)"
   ]
  },
  {
   "cell_type": "markdown",
   "metadata": {},
   "source": [
    "___"
   ]
  },
  {
   "cell_type": "code",
   "execution_count": 3,
   "metadata": {},
   "outputs": [],
   "source": [
    "mu = 2.995\n",
    "sd = 0.001"
   ]
  },
  {
   "cell_type": "code",
   "execution_count": 4,
   "metadata": {},
   "outputs": [],
   "source": [
    "pop = np.random.normal(mu, sd, 10**6)"
   ]
  },
  {
   "cell_type": "markdown",
   "metadata": {},
   "source": [
    "Vamos tirar algumas amostras para tentar perceber se a produção está a ser feita conforme as especificações que pretendemos (a máquina deverá estar calibrada para produzir parafusos com um diâmetro de diâmetro de 3mm)"
   ]
  },
  {
   "cell_type": "markdown",
   "metadata": {},
   "source": [
    "Primeiro, vamos criar uma função para nos auxiliar na análise das amostras:"
   ]
  },
  {
   "cell_type": "code",
   "execution_count": 5,
   "metadata": {},
   "outputs": [],
   "source": [
    "def analyse_data(np_array):\n",
    "    print(f\"N = {len(np_array)}\",                                      # tamanho do array\n",
    "          f\"Alguns elementos: {np_array[:5]},\\n\\t\\t  {np_array[-5:]}\", # primeiros 5  e últimos 5 elementos\n",
    "          f\"Min: {np_array.min()} | Máx: {np_array.max()}\",            # Mínimo e máximo\n",
    "          f\"Média = {np_array.mean()}\",                                # Média\n",
    "          f\"Mediana = {np.median(np_array)}\",                          # Mediana\n",
    "          f\"Dsv. padrão = {np_array.std()}\",                           # Desvio padrão\n",
    "          \"Distribuição:\",\n",
    "          sep='\\n\\n')                                                  # separa cada elemento a imprimir com 2 novas linhas\n",
    "    # Plot\n",
    "    sns.displot(np_array)\n",
    "    plt.axvline(np_array.mean(), color='#444444', ls='--')\n",
    "    plt.text(np_array.mean()+.001, 1, f'Média: {np_array.mean().round(3)}', dict(size=10, color='#444444'))\n",
    "    plt.show()"
   ]
  },
  {
   "cell_type": "markdown",
   "metadata": {},
   "source": [
    "---"
   ]
  },
  {
   "cell_type": "markdown",
   "metadata": {},
   "source": [
    "### Amostra de 10 parafusos:"
   ]
  },
  {
   "cell_type": "code",
   "execution_count": 6,
   "metadata": {},
   "outputs": [],
   "source": [
    "s1 = np.random.choice(pop, 10, replace=False)"
   ]
  },
  {
   "cell_type": "code",
   "execution_count": 7,
   "metadata": {},
   "outputs": [
    {
     "name": "stdout",
     "output_type": "stream",
     "text": [
      "N = 10\n",
      "\n",
      "Alguns elementos: [2.99420343 2.9956143  2.99264685 2.99398941 2.99610422],\n",
      "\t\t  [2.9940564  2.99682872 2.99520604 2.99467915 2.99356047]\n",
      "\n",
      "Min: 2.9926468529147745 | Máx: 2.9968287203226076\n",
      "\n",
      "Média = 2.9946888995282874\n",
      "\n",
      "Mediana = 2.9944412928215165\n",
      "\n",
      "Dsv. padrão = 0.001194746690454679\n",
      "\n",
      "Distribuição:\n"
     ]
    },
    {
     "data": {
      "image/png": "[encoded data removed]",
      "text/plain": [
       "<Figure size 360x360 with 1 Axes>"
      ]
     },
     "metadata": {
      "needs_background": "light"
     },
     "output_type": "display_data"
    }
   ],
   "source": [
    "analyse_data(s1)"
   ]
  },
  {
   "cell_type": "markdown",
   "metadata": {},
   "source": [
    "### Amostra de 100 parafusos:"
   ]
  },
  {
   "cell_type": "code",
   "execution_count": 8,
   "metadata": {},
   "outputs": [],
   "source": [
    "s2 = np.random.choice(pop, 100, replace=False)"
   ]
  },
  {
   "cell_type": "code",
   "execution_count": 9,
   "metadata": {},
   "outputs": [
    {
     "name": "stdout",
     "output_type": "stream",
     "text": [
      "N = 100\n",
      "\n",
      "Alguns elementos: [2.99349648 2.99599667 2.99549909 2.99410328 2.99475285],\n",
      "\t\t  [2.99476599 2.99564519 2.99559887 2.99795814 2.99453498]\n",
      "\n",
      "Min: 2.9924704399223057 | Máx: 2.998007607297536\n",
      "\n",
      "Média = 2.994990384479741\n",
      "\n",
      "Mediana = 2.995090866441955\n",
      "\n",
      "Dsv. padrão = 0.0011251648968528677\n",
      "\n",
      "Distribuição:\n"
     ]
    },
    {
     "data": {
      "image/png": "[encoded data removed]",
      "text/plain": [
       "<Figure size 360x360 with 1 Axes>"
      ]
     },
     "metadata": {
      "needs_background": "light"
     },
     "output_type": "display_data"
    }
   ],
   "source": [
    "analyse_data(s2)"
   ]
  },
  {
   "cell_type": "markdown",
   "metadata": {},
   "source": [
    "### Amostra de 500 parafusos:"
   ]
  },
  {
   "cell_type": "code",
   "execution_count": 10,
   "metadata": {},
   "outputs": [],
   "source": [
    "s3 = np.random.choice(pop, 500, replace=False)"
   ]
  },
  {
   "cell_type": "code",
   "execution_count": 11,
   "metadata": {},
   "outputs": [
    {
     "name": "stdout",
     "output_type": "stream",
     "text": [
      "N = 500\n",
      "\n",
      "Alguns elementos: [2.99579768 2.99398096 2.99647737 2.99396338 2.99514179],\n",
      "\t\t  [2.99490145 2.99279451 2.99442879 2.99467649 2.99321363]\n",
      "\n",
      "Min: 2.991821015025539 | Máx: 2.9978670242980137\n",
      "\n",
      "Média = 2.99496949599491\n",
      "\n",
      "Mediana = 2.994966350269839\n",
      "\n",
      "Dsv. padrão = 0.0009777719683520788\n",
      "\n",
      "Distribuição:\n"
     ]
    },
    {
     "data": {
      "image/png": "[encoded data removed]",
      "text/plain": [
       "<Figure size 360x360 with 1 Axes>"
      ]
     },
     "metadata": {
      "needs_background": "light"
     },
     "output_type": "display_data"
    }
   ],
   "source": [
    "analyse_data(s3)"
   ]
  },
  {
   "cell_type": "markdown",
   "metadata": {},
   "source": [
    "---"
   ]
  },
  {
   "cell_type": "markdown",
   "metadata": {},
   "source": [
    "Análise da população: (neste caso é possível porque o conjunto de dados existe. Se estivéssemos na fábrica, isso significaria medir TODOS os parafusos já produzidos e, eventualmente, todos os que irão ser produzidos até nova calibração/manutenção - dependendo da definição da população)"
   ]
  },
  {
   "cell_type": "code",
   "execution_count": 12,
   "metadata": {},
   "outputs": [
    {
     "name": "stdout",
     "output_type": "stream",
     "text": [
      "N = 1000000\n",
      "\n",
      "Alguns elementos: [2.99549671 2.99486174 2.99564769 2.99652303 2.99476585],\n",
      "\t\t  [2.995433   2.99510177 2.99488702 2.99646914 2.99547643]\n",
      "\n",
      "Min: 2.990170563991489 | Máx: 2.999678949100377\n",
      "\n",
      "Média = 2.994998400243546\n",
      "\n",
      "Mediana = 2.9949990043392836\n",
      "\n",
      "Dsv. padrão = 0.0010001880368047309\n",
      "\n",
      "Distribuição:\n"
     ]
    },
    {
     "data": {
      "image/png": "[encoded data removed]",
      "text/plain": [
       "<Figure size 360x360 with 1 Axes>"
      ]
     },
     "metadata": {
      "needs_background": "light"
     },
     "output_type": "display_data"
    }
   ],
   "source": [
    "analyse_data(pop)"
   ]
  }
 ],
 "metadata": {
  "kernelspec": {
   "display_name": "Python 3",
   "language": "python",
   "name": "python3"
  },
  "language_info": {
   "codemirror_mode": {
    "name": "ipython",
    "version": 3
   },
   "file_extension": ".py",
   "mimetype": "text/x-python",
   "name": "python",
   "nbconvert_exporter": "python",
   "pygments_lexer": "ipython3",
   "version": "3.8.3"
  }
 },
 "nbformat": 4,
 "nbformat_minor": 4
}
