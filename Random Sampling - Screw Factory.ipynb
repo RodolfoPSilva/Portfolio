{
 "cells": [
  {
   "cell_type": "markdown",
   "metadata": {},
   "source": [
    "## Case: Screw Factory\n",
    "**Generate a random set of data (pop) that, in this case, will represent our population (screw production) - this data represents what is actually being produced by the machines. Selecting a random subset of this population simulates choosing a random number of screws and measuring their diameter.**"
   ]
  },
  {
   "cell_type": "markdown",
   "metadata": {
    "colab_type": "text",
    "id": "kM8RrKdNUJ_j"
   },
   "source": [
    "**Necessary packages**"
   ]
  },
  {
   "cell_type": "code",
   "execution_count": 1,
   "metadata": {},
   "outputs": [],
   "source": [
    "import numpy as np\n",
    "import matplotlib.pyplot as plt\n",
    "import seaborn as sns"
   ]
  },
  {
   "cell_type": "markdown",
   "metadata": {},
   "source": [
    "**Set * seed * for reproducibility**"
   ]
  },
  {
   "cell_type": "code",
   "execution_count": 2,
   "metadata": {},
   "outputs": [],
   "source": [
    "np.random.seed(42)"
   ]
  },
  {
   "cell_type": "markdown",
   "metadata": {},
   "source": [
    "___"
   ]
  },
  {
   "cell_type": "code",
   "execution_count": 3,
   "metadata": {},
   "outputs": [],
   "source": [
    "mu = 2.995\n",
    "sd = 0.001"
   ]
  },
  {
   "cell_type": "code",
   "execution_count": 4,
   "metadata": {},
   "outputs": [],
   "source": [
    "pop = np.random.normal(mu, sd, 10**6)"
   ]
  },
  {
   "cell_type": "markdown",
   "metadata": {},
   "source": [
    "**Let's take some samples to try to understand if the production is being carried out according to the specifications we want (the machine must be calibrated to produce screws with a diameter of 3mm)**"
   ]
  },
  {
   "cell_type": "markdown",
   "metadata": {},
   "source": [
    "**First, let's create a function to help us analyze the samples:**"
   ]
  },
  {
   "cell_type": "code",
   "execution_count": 5,
   "metadata": {},
   "outputs": [],
   "source": [
    "def analyse_data(np_array):\n",
    "    print(f\"N = {len(np_array)}\",                                     # array size\n",
    "          f\"Some elements: {np_array[:5]},\\n\\t\\t  {np_array[-5:]}\",   # first 5 and last 5 elements\n",
    "          f\"Min: {np_array.min()} | Max: {np_array.max()}\",           # Minimum and Maximum\n",
    "          f\"Mean = {np_array.mean()}\",                                # Mean\n",
    "          f\"Median = {np.median(np_array)}\",                          # Median\n",
    "          f\"Std = {np_array.std()}\",                                  # Standard Deviation\n",
    "          \"Distribution:\",\n",
    "          sep='\\n\\n')                                                  # Separates each element to print with 2 new lines\n",
    "# Plot\n",
    "    sns.displot(np_array)\n",
    "    plt.axvline(np_array.mean(), color='#444444', ls='--')\n",
    "    plt.text(np_array.mean()+.001, 1, f'Mean: {np_array.mean().round(3)}', dict(size=10, color='#444444'))\n",
    "    plt.show()"
   ]
  },
  {
   "cell_type": "markdown",
   "metadata": {},
   "source": [
    "---"
   ]
  },
  {
   "cell_type": "markdown",
   "metadata": {},
   "source": [
    "### Sample of 10 screws:"
   ]
  },
  {
   "cell_type": "code",
   "execution_count": 6,
   "metadata": {},
   "outputs": [],
   "source": [
    "s1 = np.random.choice(pop, 10, replace=False)"
   ]
  },
  {
   "cell_type": "code",
   "execution_count": 7,
   "metadata": {},
   "outputs": [
    {
     "name": "stdout",
     "output_type": "stream",
     "text": [
      "N = 10\n",
      "\n",
      "Some elements: [2.99420343 2.9956143  2.99264685 2.99398941 2.99610422],\n",
      "\t\t  [2.9940564  2.99682872 2.99520604 2.99467915 2.99356047]\n",
      "\n",
      "Min: 2.9926468529147745 | Max: 2.9968287203226076\n",
      "\n",
      "Mean = 2.9946888995282874\n",
      "\n",
      "Median = 2.9944412928215165\n",
      "\n",
      "Std = 0.001194746690454679\n",
      "\n",
      "Distribution:\n"
     ]
    },
    {
     "data": {
      "image/png": "[encoded data removed]",
      "text/plain": [
       "<Figure size 360x360 with 1 Axes>"
      ]
     },
     "metadata": {
      "needs_background": "light"
     },
     "output_type": "display_data"
    }
   ],
   "source": [
    "analyse_data(s1)"
   ]
  },
  {
   "cell_type": "markdown",
   "metadata": {},
   "source": [
    "### Sample of 100 screws:"
   ]
  },
  {
   "cell_type": "code",
   "execution_count": 8,
   "metadata": {},
   "outputs": [],
   "source": [
    "s2 = np.random.choice(pop, 100, replace=False)"
   ]
  },
  {
   "cell_type": "code",
   "execution_count": 9,
   "metadata": {},
   "outputs": [
    {
     "name": "stdout",
     "output_type": "stream",
     "text": [
      "N = 100\n",
      "\n",
      "Some elements: [2.99349648 2.99599667 2.99549909 2.99410328 2.99475285],\n",
      "\t\t  [2.99476599 2.99564519 2.99559887 2.99795814 2.99453498]\n",
      "\n",
      "Min: 2.9924704399223057 | Max: 2.998007607297536\n",
      "\n",
      "Mean = 2.994990384479741\n",
      "\n",
      "Median = 2.995090866441955\n",
      "\n",
      "Std = 0.0011251648968528677\n",
      "\n",
      "Distribution:\n"
     ]
    },
    {
     "data": {
      "image/png": "[encoded data removed]",
      "text/plain": [
       "<Figure size 360x360 with 1 Axes>"
      ]
     },
     "metadata": {
      "needs_background": "light"
     },
     "output_type": "display_data"
    }
   ],
   "source": [
    "analyse_data(s2)"
   ]
  },
  {
   "cell_type": "markdown",
   "metadata": {},
   "source": [
    "### Sample of 500 screws:"
   ]
  },
  {
   "cell_type": "code",
   "execution_count": 10,
   "metadata": {},
   "outputs": [],
   "source": [
    "s3 = np.random.choice(pop, 500, replace=False)"
   ]
  },
  {
   "cell_type": "code",
   "execution_count": 11,
   "metadata": {},
   "outputs": [
    {
     "name": "stdout",
     "output_type": "stream",
     "text": [
      "N = 500\n",
      "\n",
      "Some elements: [2.99579768 2.99398096 2.99647737 2.99396338 2.99514179],\n",
      "\t\t  [2.99490145 2.99279451 2.99442879 2.99467649 2.99321363]\n",
      "\n",
      "Min: 2.991821015025539 | Max: 2.9978670242980137\n",
      "\n",
      "Mean = 2.99496949599491\n",
      "\n",
      "Median = 2.994966350269839\n",
      "\n",
      "Std = 0.0009777719683520788\n",
      "\n",
      "Distribution:\n"
     ]
    },
    {
     "data": {
      "image/png": "[encoded data removed]",
      "text/plain": [
       "<Figure size 360x360 with 1 Axes>"
      ]
     },
     "metadata": {
      "needs_background": "light"
     },
     "output_type": "display_data"
    }
   ],
   "source": [
    "analyse_data(s3)"
   ]
  },
  {
   "cell_type": "markdown",
   "metadata": {},
   "source": [
    "---"
   ]
  },
  {
   "cell_type": "markdown",
   "metadata": {},
   "source": [
    "**Population analysis: (in this case it is possible because the data set exists. If we were at the factory, this would mean measuring ALL the screws already produced and, eventually, all those that will be produced until new calibration / maintenance - depending on the definition of the population)**"
   ]
  },
  {
   "cell_type": "code",
   "execution_count": 12,
   "metadata": {},
   "outputs": [
    {
     "name": "stdout",
     "output_type": "stream",
     "text": [
      "N = 1000000\n",
      "\n",
      "Some elements: [2.99549671 2.99486174 2.99564769 2.99652303 2.99476585],\n",
      "\t\t  [2.995433   2.99510177 2.99488702 2.99646914 2.99547643]\n",
      "\n",
      "Min: 2.990170563991489 | Max: 2.999678949100377\n",
      "\n",
      "Mean = 2.994998400243546\n",
      "\n",
      "Median = 2.9949990043392836\n",
      "\n",
      "Std = 0.0010001880368047309\n",
      "\n",
      "Distribution:\n"
     ]
    },
    {
     "data": {
      "image/png": "[encoded data removed]",
      "text/plain": [
       "<Figure size 360x360 with 1 Axes>"
      ]
     },
     "metadata": {
      "needs_background": "light"
     },
     "output_type": "display_data"
    }
   ],
   "source": [
    "analyse_data(pop)"
   ]
  }
 ],
 "metadata": {
  "kernelspec": {
   "display_name": "Python 3",
   "language": "python",
   "name": "python3"
  },
  "language_info": {
   "codemirror_mode": {
    "name": "ipython",
    "version": 3
   },
   "file_extension": ".py",
   "mimetype": "text/x-python",
   "name": "python",
   "nbconvert_exporter": "python",
   "pygments_lexer": "ipython3",
   "version": "3.8.3"
  }
 },
 "nbformat": 4,
 "nbformat_minor": 4
}
