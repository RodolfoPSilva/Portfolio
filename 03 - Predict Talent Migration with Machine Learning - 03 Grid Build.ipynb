{
 "cells": [
  {
   "cell_type": "markdown",
   "metadata": {},
   "source": [
    "## Predict Talent Migration with Machine Learning - 03 Grid Build\n",
    "\n",
    "---\n",
    "\n",
    "<p style=\"text-align: center;\">\n",
    "Project split into 5 Notebooks:</br>\n",
    "</br>\n",
    "Predict Talent Migration with Machine Learning - 01 Exploratory Analysis</br>\n",
    "*</br>\n",
    "Predict Talent Migration with Machine Learning - 02 Modeling</br>\n",
    "*</br>\n",
    "Predict Talent Migration with Machine Learning - 03 Grid Build</br>\n",
    "*</br>\n",
    "Predict Talent Migration with Machine Learning - 04 Final Take Model A</br>\n",
    "*</br>\n",
    "Predict Talent Migration with Machine Learning - 05 Final Take Model B</br> </p> \n",
    "         \n",
    "---\n",
    "\n",
    "This project aims to create a machine learning model that allows the prediction of employees departure from an Organization. </br>\n",
    "We will focus our forecast on the Organization's best employees (Top Performers), although a comparison between employees in general will be made. Top Performers will be identified through the creation of a condition, which will be based on the classification of employees evaluation cycles. An analysis on model performance will also be presented, concerning the model's ability to predict the employees departure by **Generation** and **Gender.**\n",
    "\n",
    "Employees are evaluated on a semiannual basis and our data concerns the last 3 evaluation cycles, between January 1st 2018 to September 31st 2019.\n",
    "\n",
    "Ratings per evaluation are: </br>\n",
    "\n",
    "  - Mid Year 2018 (MY2018): **0,1,2,3,4,5** </br>\n",
    "  - Year End 2018 (YE2018): **0,1,2,3,4,5** </br>\n",
    "  - Mid Year 2019: **0,1,2,3***.</br>\n",
    "             \n",
    "**Data from the Organization shows a change of ratings scale was purpousely made to decrease results granularity.*"
   ]
  },
  {
   "cell_type": "code",
   "execution_count": 1,
   "metadata": {},
   "outputs": [],
   "source": [
    "import random\n",
    "import pandas as pd\n",
    "import numpy as np\n",
    "import seaborn as sns\n",
    "from matplotlib import pyplot\n",
    "\n",
    "from sklearn.linear_model import LogisticRegression\n",
    "from sklearn.ensemble import RandomForestRegressor\n",
    "from sklearn.ensemble import GradientBoostingClassifier\n",
    "\n",
    "from sklearn.model_selection import cross_val_score, train_test_split\n",
    "from sklearn.pipeline import Pipeline\n",
    "from sklearn.compose import ColumnTransformer\n",
    "from sklearn.impute import SimpleImputer\n",
    "from sklearn.preprocessing import KBinsDiscretizer, PowerTransformer, OneHotEncoder\n",
    "\n",
    "from sklearn.model_selection import KFold\n",
    "from sklearn.inspection import permutation_importance\n",
    "\n",
    "from category_encoders.ordinal import OrdinalEncoder\n",
    "\n",
    "from sklearn.model_selection import GridSearchCV\n",
    "\n",
    "from sklearn.metrics import roc_auc_score"
   ]
  },
  {
   "cell_type": "markdown",
   "metadata": {},
   "source": [
    "---"
   ]
  },
  {
   "cell_type": "markdown",
   "metadata": {},
   "source": [
    "## Data:"
   ]
  },
  {
   "cell_type": "markdown",
   "metadata": {},
   "source": [
    "**From the previous notebook \"Predict Talent Migration with Machine Learning - 02 Modeling\" we analysed our models performance with our train dataset. From that we selected the models with the best performance (Random Forest + Gradient Boosting) with and without overestimating variables.**"
   ]
  },
  {
   "cell_type": "code",
   "execution_count": 2,
   "metadata": {},
   "outputs": [],
   "source": [
    "df = pd.read_csv('projeto_final.csv', index_col = False)"
   ]
  },
  {
   "cell_type": "code",
   "execution_count": 3,
   "metadata": {},
   "outputs": [],
   "source": [
    "X = df.copy()"
   ]
  },
  {
   "cell_type": "code",
   "execution_count": 4,
   "metadata": {},
   "outputs": [],
   "source": [
    "y = df.pop('Out')"
   ]
  },
  {
   "cell_type": "code",
   "execution_count": 5,
   "metadata": {},
   "outputs": [],
   "source": [
    "X_train, X_test, y_train, y_test = train_test_split(X, y, test_size=0.2)"
   ]
  },
  {
   "cell_type": "markdown",
   "metadata": {},
   "source": [
    "---"
   ]
  },
  {
   "cell_type": "markdown",
   "metadata": {},
   "source": [
    "## Best Models Without Overestimating Features:"
   ]
  },
  {
   "cell_type": "markdown",
   "metadata": {},
   "source": [
    "Data transformation:"
   ]
  },
  {
   "cell_type": "code",
   "execution_count": 6,
   "metadata": {},
   "outputs": [],
   "source": [
    "transf_v12 = ColumnTransformer(\n",
    "    [('cat', OrdinalEncoder(), ['Generation', 'Gender', 'MProximity', 'Rehire', 'Contract Type', 'PeopleManager', 'Country', 'CostCenterH', 'TopPerformer']),\n",
    "     ('null', SimpleImputer (missing_values= np.nan, strategy = 'median'), ['PayIncrease', 'Age']), \n",
    "     ('other', \"passthrough\", ['Tenure', 'Dependents', 'EmployeeCount', 'HireCount', 'MTenure', 'HomeOffice'])\n",
    "    ])\n"
   ]
  },
  {
   "cell_type": "markdown",
   "metadata": {},
   "source": [
    "**Random Forest:**"
   ]
  },
  {
   "cell_type": "code",
   "execution_count": 7,
   "metadata": {},
   "outputs": [
    {
     "data": {
      "text/plain": [
       "[('Feature Eng',\n",
       "  ColumnTransformer(transformers=[('cat', OrdinalEncoder(),\n",
       "                                   ['Generation', 'Gender', 'MProximity',\n",
       "                                    'Rehire', 'Contract Type', 'PeopleManager',\n",
       "                                    'Country', 'CostCenterH', 'TopPerformer']),\n",
       "                                  ('null', SimpleImputer(strategy='median'),\n",
       "                                   ['PayIncrease', 'Age']),\n",
       "                                  ('other', 'passthrough',\n",
       "                                   ['Tenure', 'Dependents', 'EmployeeCount',\n",
       "                                    'HireCount', 'MTenure', 'HomeOffice'])])),\n",
       " ('Random Forest', RandomForestRegressor())]"
      ]
     },
     "execution_count": 7,
     "metadata": {},
     "output_type": "execute_result"
    }
   ],
   "source": [
    "model_for_12 = Pipeline([\n",
    "    ('Feature Eng', transf_v12),\n",
    "    ('Random Forest', RandomForestRegressor())\n",
    "])\n",
    "\n",
    "model_for_12.steps"
   ]
  },
  {
   "cell_type": "code",
   "execution_count": 8,
   "metadata": {},
   "outputs": [],
   "source": [
    "results_for_12 = cross_val_score(model_for_12, X_train, y_train, cv = KFold(n_splits = 5, shuffle = True), scoring = \"roc_auc\")\n",
    "results_for_12_mean = results_for_12.mean()\n",
    "results_for_12_std = results_for_12.std()"
   ]
  },
  {
   "cell_type": "code",
   "execution_count": 9,
   "metadata": {},
   "outputs": [
    {
     "data": {
      "text/plain": [
       "0.8802391937839198"
      ]
     },
     "execution_count": 9,
     "metadata": {},
     "output_type": "execute_result"
    }
   ],
   "source": [
    "results_for_12_mean"
   ]
  },
  {
   "cell_type": "code",
   "execution_count": 10,
   "metadata": {},
   "outputs": [
    {
     "data": {
      "text/plain": [
       "0.007826395558931245"
      ]
     },
     "execution_count": 10,
     "metadata": {},
     "output_type": "execute_result"
    }
   ],
   "source": [
    "results_for_12_std"
   ]
  },
  {
   "cell_type": "markdown",
   "metadata": {},
   "source": [
    "---"
   ]
  },
  {
   "cell_type": "code",
   "execution_count": 11,
   "metadata": {},
   "outputs": [
    {
     "data": {
      "text/plain": [
       "{'memory': None,\n",
       " 'steps': [('Feature Eng',\n",
       "   ColumnTransformer(transformers=[('cat', OrdinalEncoder(),\n",
       "                                    ['Generation', 'Gender', 'MProximity',\n",
       "                                     'Rehire', 'Contract Type', 'PeopleManager',\n",
       "                                     'Country', 'CostCenterH', 'TopPerformer']),\n",
       "                                   ('null', SimpleImputer(strategy='median'),\n",
       "                                    ['PayIncrease', 'Age']),\n",
       "                                   ('other', 'passthrough',\n",
       "                                    ['Tenure', 'Dependents', 'EmployeeCount',\n",
       "                                     'HireCount', 'MTenure', 'HomeOffice'])])),\n",
       "  ('Random Forest', RandomForestRegressor())],\n",
       " 'verbose': False,\n",
       " 'Feature Eng': ColumnTransformer(transformers=[('cat', OrdinalEncoder(),\n",
       "                                  ['Generation', 'Gender', 'MProximity',\n",
       "                                   'Rehire', 'Contract Type', 'PeopleManager',\n",
       "                                   'Country', 'CostCenterH', 'TopPerformer']),\n",
       "                                 ('null', SimpleImputer(strategy='median'),\n",
       "                                  ['PayIncrease', 'Age']),\n",
       "                                 ('other', 'passthrough',\n",
       "                                  ['Tenure', 'Dependents', 'EmployeeCount',\n",
       "                                   'HireCount', 'MTenure', 'HomeOffice'])]),\n",
       " 'Random Forest': RandomForestRegressor(),\n",
       " 'Feature Eng__n_jobs': None,\n",
       " 'Feature Eng__remainder': 'drop',\n",
       " 'Feature Eng__sparse_threshold': 0.3,\n",
       " 'Feature Eng__transformer_weights': None,\n",
       " 'Feature Eng__transformers': [('cat',\n",
       "   OrdinalEncoder(),\n",
       "   ['Generation',\n",
       "    'Gender',\n",
       "    'MProximity',\n",
       "    'Rehire',\n",
       "    'Contract Type',\n",
       "    'PeopleManager',\n",
       "    'Country',\n",
       "    'CostCenterH',\n",
       "    'TopPerformer']),\n",
       "  ('null', SimpleImputer(strategy='median'), ['PayIncrease', 'Age']),\n",
       "  ('other',\n",
       "   'passthrough',\n",
       "   ['Tenure',\n",
       "    'Dependents',\n",
       "    'EmployeeCount',\n",
       "    'HireCount',\n",
       "    'MTenure',\n",
       "    'HomeOffice'])],\n",
       " 'Feature Eng__verbose': False,\n",
       " 'Feature Eng__cat': OrdinalEncoder(),\n",
       " 'Feature Eng__null': SimpleImputer(strategy='median'),\n",
       " 'Feature Eng__other': 'passthrough',\n",
       " 'Feature Eng__cat__cols': None,\n",
       " 'Feature Eng__cat__drop_invariant': False,\n",
       " 'Feature Eng__cat__handle_missing': 'value',\n",
       " 'Feature Eng__cat__handle_unknown': 'value',\n",
       " 'Feature Eng__cat__mapping': None,\n",
       " 'Feature Eng__cat__return_df': True,\n",
       " 'Feature Eng__cat__verbose': 0,\n",
       " 'Feature Eng__null__add_indicator': False,\n",
       " 'Feature Eng__null__copy': True,\n",
       " 'Feature Eng__null__fill_value': None,\n",
       " 'Feature Eng__null__missing_values': nan,\n",
       " 'Feature Eng__null__strategy': 'median',\n",
       " 'Feature Eng__null__verbose': 0,\n",
       " 'Random Forest__bootstrap': True,\n",
       " 'Random Forest__ccp_alpha': 0.0,\n",
       " 'Random Forest__criterion': 'mse',\n",
       " 'Random Forest__max_depth': None,\n",
       " 'Random Forest__max_features': 'auto',\n",
       " 'Random Forest__max_leaf_nodes': None,\n",
       " 'Random Forest__max_samples': None,\n",
       " 'Random Forest__min_impurity_decrease': 0.0,\n",
       " 'Random Forest__min_impurity_split': None,\n",
       " 'Random Forest__min_samples_leaf': 1,\n",
       " 'Random Forest__min_samples_split': 2,\n",
       " 'Random Forest__min_weight_fraction_leaf': 0.0,\n",
       " 'Random Forest__n_estimators': 100,\n",
       " 'Random Forest__n_jobs': None,\n",
       " 'Random Forest__oob_score': False,\n",
       " 'Random Forest__random_state': None,\n",
       " 'Random Forest__verbose': 0,\n",
       " 'Random Forest__warm_start': False}"
      ]
     },
     "execution_count": 11,
     "metadata": {},
     "output_type": "execute_result"
    }
   ],
   "source": [
    "model_for_12.get_params()"
   ]
  },
  {
   "cell_type": "code",
   "execution_count": 12,
   "metadata": {},
   "outputs": [],
   "source": [
    "params_rf = {\n",
    "    'Random Forest__n_estimators': [10, 20, 50, 100],\n",
    "    'Random Forest__max_depth': [1, 3, 9, None], \n",
    "    'Random Forest__max_features': ['sqrt', 'log2', None]\n",
    "}"
   ]
  },
  {
   "cell_type": "code",
   "execution_count": 13,
   "metadata": {},
   "outputs": [],
   "source": [
    "clf_rf = GridSearchCV(estimator = model_for_12, param_grid = params_rf, scoring = 'roc_auc' , cv = KFold(n_splits=5, shuffle=True, random_state=0), n_jobs = -1)"
   ]
  },
  {
   "cell_type": "markdown",
   "metadata": {},
   "source": [
    "## Fit & Save:"
   ]
  },
  {
   "cell_type": "code",
   "execution_count": 14,
   "metadata": {},
   "outputs": [],
   "source": [
    "#clf_rf.fit(X_train, y_train)"
   ]
  },
  {
   "cell_type": "code",
   "execution_count": 15,
   "metadata": {},
   "outputs": [],
   "source": [
    "#clf_rf.cv_results_"
   ]
  },
  {
   "cell_type": "code",
   "execution_count": 16,
   "metadata": {},
   "outputs": [],
   "source": [
    "#results_1 = pd.DataFrame(clf_rf.cv_results_)"
   ]
  },
  {
   "cell_type": "code",
   "execution_count": 17,
   "metadata": {},
   "outputs": [],
   "source": [
    "#results_1.to_csv('results_1.csv')"
   ]
  },
  {
   "cell_type": "markdown",
   "metadata": {},
   "source": [
    "---"
   ]
  },
  {
   "cell_type": "markdown",
   "metadata": {},
   "source": [
    "**Gradient Boosting:**"
   ]
  },
  {
   "cell_type": "code",
   "execution_count": 18,
   "metadata": {},
   "outputs": [],
   "source": [
    "model_boost_12 = Pipeline([\n",
    "    ('Feature Eng', transf_v12),\n",
    "    ('Gradient Boosting', GradientBoostingClassifier())\n",
    "])"
   ]
  },
  {
   "cell_type": "code",
   "execution_count": 19,
   "metadata": {},
   "outputs": [],
   "source": [
    "results_boost_12 = cross_val_score(model_boost_12, X_train, y_train, cv = KFold(n_splits = 5, shuffle = True), scoring = \"roc_auc\")\n",
    "results_boost_12_mean = results_boost_12.mean()\n",
    "results_boost_12_std = results_boost_12.std()"
   ]
  },
  {
   "cell_type": "code",
   "execution_count": 20,
   "metadata": {},
   "outputs": [
    {
     "data": {
      "text/plain": [
       "0.8744620770808875"
      ]
     },
     "execution_count": 20,
     "metadata": {},
     "output_type": "execute_result"
    }
   ],
   "source": [
    "results_boost_12_mean"
   ]
  },
  {
   "cell_type": "code",
   "execution_count": 21,
   "metadata": {},
   "outputs": [
    {
     "data": {
      "text/plain": [
       "0.01842666231848989"
      ]
     },
     "execution_count": 21,
     "metadata": {},
     "output_type": "execute_result"
    }
   ],
   "source": [
    "results_boost_12_std"
   ]
  },
  {
   "cell_type": "markdown",
   "metadata": {},
   "source": [
    "---"
   ]
  },
  {
   "cell_type": "code",
   "execution_count": 22,
   "metadata": {},
   "outputs": [
    {
     "data": {
      "text/plain": [
       "{'memory': None,\n",
       " 'steps': [('Feature Eng',\n",
       "   ColumnTransformer(transformers=[('cat', OrdinalEncoder(),\n",
       "                                    ['Generation', 'Gender', 'MProximity',\n",
       "                                     'Rehire', 'Contract Type', 'PeopleManager',\n",
       "                                     'Country', 'CostCenterH', 'TopPerformer']),\n",
       "                                   ('null', SimpleImputer(strategy='median'),\n",
       "                                    ['PayIncrease', 'Age']),\n",
       "                                   ('other', 'passthrough',\n",
       "                                    ['Tenure', 'Dependents', 'EmployeeCount',\n",
       "                                     'HireCount', 'MTenure', 'HomeOffice'])])),\n",
       "  ('Gradient Boosting', GradientBoostingClassifier())],\n",
       " 'verbose': False,\n",
       " 'Feature Eng': ColumnTransformer(transformers=[('cat', OrdinalEncoder(),\n",
       "                                  ['Generation', 'Gender', 'MProximity',\n",
       "                                   'Rehire', 'Contract Type', 'PeopleManager',\n",
       "                                   'Country', 'CostCenterH', 'TopPerformer']),\n",
       "                                 ('null', SimpleImputer(strategy='median'),\n",
       "                                  ['PayIncrease', 'Age']),\n",
       "                                 ('other', 'passthrough',\n",
       "                                  ['Tenure', 'Dependents', 'EmployeeCount',\n",
       "                                   'HireCount', 'MTenure', 'HomeOffice'])]),\n",
       " 'Gradient Boosting': GradientBoostingClassifier(),\n",
       " 'Feature Eng__n_jobs': None,\n",
       " 'Feature Eng__remainder': 'drop',\n",
       " 'Feature Eng__sparse_threshold': 0.3,\n",
       " 'Feature Eng__transformer_weights': None,\n",
       " 'Feature Eng__transformers': [('cat',\n",
       "   OrdinalEncoder(),\n",
       "   ['Generation',\n",
       "    'Gender',\n",
       "    'MProximity',\n",
       "    'Rehire',\n",
       "    'Contract Type',\n",
       "    'PeopleManager',\n",
       "    'Country',\n",
       "    'CostCenterH',\n",
       "    'TopPerformer']),\n",
       "  ('null', SimpleImputer(strategy='median'), ['PayIncrease', 'Age']),\n",
       "  ('other',\n",
       "   'passthrough',\n",
       "   ['Tenure',\n",
       "    'Dependents',\n",
       "    'EmployeeCount',\n",
       "    'HireCount',\n",
       "    'MTenure',\n",
       "    'HomeOffice'])],\n",
       " 'Feature Eng__verbose': False,\n",
       " 'Feature Eng__cat': OrdinalEncoder(),\n",
       " 'Feature Eng__null': SimpleImputer(strategy='median'),\n",
       " 'Feature Eng__other': 'passthrough',\n",
       " 'Feature Eng__cat__cols': None,\n",
       " 'Feature Eng__cat__drop_invariant': False,\n",
       " 'Feature Eng__cat__handle_missing': 'value',\n",
       " 'Feature Eng__cat__handle_unknown': 'value',\n",
       " 'Feature Eng__cat__mapping': None,\n",
       " 'Feature Eng__cat__return_df': True,\n",
       " 'Feature Eng__cat__verbose': 0,\n",
       " 'Feature Eng__null__add_indicator': False,\n",
       " 'Feature Eng__null__copy': True,\n",
       " 'Feature Eng__null__fill_value': None,\n",
       " 'Feature Eng__null__missing_values': nan,\n",
       " 'Feature Eng__null__strategy': 'median',\n",
       " 'Feature Eng__null__verbose': 0,\n",
       " 'Gradient Boosting__ccp_alpha': 0.0,\n",
       " 'Gradient Boosting__criterion': 'friedman_mse',\n",
       " 'Gradient Boosting__init': None,\n",
       " 'Gradient Boosting__learning_rate': 0.1,\n",
       " 'Gradient Boosting__loss': 'deviance',\n",
       " 'Gradient Boosting__max_depth': 3,\n",
       " 'Gradient Boosting__max_features': None,\n",
       " 'Gradient Boosting__max_leaf_nodes': None,\n",
       " 'Gradient Boosting__min_impurity_decrease': 0.0,\n",
       " 'Gradient Boosting__min_impurity_split': None,\n",
       " 'Gradient Boosting__min_samples_leaf': 1,\n",
       " 'Gradient Boosting__min_samples_split': 2,\n",
       " 'Gradient Boosting__min_weight_fraction_leaf': 0.0,\n",
       " 'Gradient Boosting__n_estimators': 100,\n",
       " 'Gradient Boosting__n_iter_no_change': None,\n",
       " 'Gradient Boosting__presort': 'deprecated',\n",
       " 'Gradient Boosting__random_state': None,\n",
       " 'Gradient Boosting__subsample': 1.0,\n",
       " 'Gradient Boosting__tol': 0.0001,\n",
       " 'Gradient Boosting__validation_fraction': 0.1,\n",
       " 'Gradient Boosting__verbose': 0,\n",
       " 'Gradient Boosting__warm_start': False}"
      ]
     },
     "execution_count": 22,
     "metadata": {},
     "output_type": "execute_result"
    }
   ],
   "source": [
    "model_boost_12.get_params()"
   ]
  },
  {
   "cell_type": "code",
   "execution_count": 23,
   "metadata": {},
   "outputs": [],
   "source": [
    "params_gb = {\n",
    "    'Gradient Boosting__n_estimators': [10, 20, 50, 100],\n",
    "    'Gradient Boosting__max_depth': [1, 3, 9, None], \n",
    "    'Gradient Boosting__learning_rate': [0.001, 0.01, 0.1]\n",
    "}"
   ]
  },
  {
   "cell_type": "code",
   "execution_count": 24,
   "metadata": {},
   "outputs": [],
   "source": [
    "clf_gb = GridSearchCV(estimator = model_boost_12, param_grid = params_gb, scoring = 'roc_auc' , cv = KFold(n_splits=5, shuffle=True, random_state=0), n_jobs = -1)"
   ]
  },
  {
   "cell_type": "markdown",
   "metadata": {},
   "source": [
    "## Fit & Save:"
   ]
  },
  {
   "cell_type": "code",
   "execution_count": 25,
   "metadata": {},
   "outputs": [],
   "source": [
    "#clf_gb.fit(X_train, y_train)"
   ]
  },
  {
   "cell_type": "code",
   "execution_count": 26,
   "metadata": {},
   "outputs": [],
   "source": [
    "#clf_gb.cv_results_"
   ]
  },
  {
   "cell_type": "code",
   "execution_count": 27,
   "metadata": {},
   "outputs": [],
   "source": [
    "#results_2 = pd.DataFrame(clf_gb.cv_results_)"
   ]
  },
  {
   "cell_type": "code",
   "execution_count": 28,
   "metadata": {},
   "outputs": [],
   "source": [
    "#results_2.to_csv(\"results_2.csv\")"
   ]
  },
  {
   "cell_type": "markdown",
   "metadata": {},
   "source": [
    "---"
   ]
  },
  {
   "cell_type": "markdown",
   "metadata": {},
   "source": [
    "## Best Models With Overestimating Features:"
   ]
  },
  {
   "cell_type": "markdown",
   "metadata": {},
   "source": [
    "Data transformation:"
   ]
  },
  {
   "cell_type": "code",
   "execution_count": 30,
   "metadata": {},
   "outputs": [],
   "source": [
    "transf_v6 = ColumnTransformer(\n",
    "    [('cat', OrdinalEncoder(), ['Generation', 'Gender', 'MProximity']),\n",
    "     ('null', SimpleImputer (missing_values= np.nan, strategy = 'median'), ['PayIncrease']), \n",
    "     ('other', \"passthrough\", ['Tenure', 'Dependents', 'TimeJobProfile', 'TimeinPosition'])\n",
    "    ])"
   ]
  },
  {
   "cell_type": "markdown",
   "metadata": {},
   "source": [
    "**Random Forest:**"
   ]
  },
  {
   "cell_type": "code",
   "execution_count": 31,
   "metadata": {},
   "outputs": [
    {
     "data": {
      "text/plain": [
       "[('Feature Eng',\n",
       "  ColumnTransformer(transformers=[('cat', OrdinalEncoder(),\n",
       "                                   ['Generation', 'Gender', 'MProximity']),\n",
       "                                  ('null', SimpleImputer(strategy='median'),\n",
       "                                   ['PayIncrease']),\n",
       "                                  ('other', 'passthrough',\n",
       "                                   ['Tenure', 'Dependents', 'TimeJobProfile',\n",
       "                                    'TimeinPosition'])])),\n",
       " ('Random Forest', RandomForestRegressor())]"
      ]
     },
     "execution_count": 31,
     "metadata": {},
     "output_type": "execute_result"
    }
   ],
   "source": [
    "model_for_6 = Pipeline([\n",
    "    ('Feature Eng', transf_v6),\n",
    "    ('Random Forest', RandomForestRegressor())\n",
    "     ])\n",
    "\n",
    "model_for_6.steps"
   ]
  },
  {
   "cell_type": "code",
   "execution_count": 32,
   "metadata": {},
   "outputs": [],
   "source": [
    "results_for_6 = cross_val_score(model_for_6, X_train, y_train, cv = KFold(n_splits = 5, shuffle = True), scoring = \"roc_auc\")\n",
    "results_for_6_mean = results_for_6.mean()\n",
    "results_for_6_std = results_for_6.std()"
   ]
  },
  {
   "cell_type": "code",
   "execution_count": 33,
   "metadata": {},
   "outputs": [
    {
     "data": {
      "text/plain": [
       "0.9781951815336406"
      ]
     },
     "execution_count": 33,
     "metadata": {},
     "output_type": "execute_result"
    }
   ],
   "source": [
    "results_for_6_mean"
   ]
  },
  {
   "cell_type": "code",
   "execution_count": 34,
   "metadata": {},
   "outputs": [
    {
     "data": {
      "text/plain": [
       "0.003077569187063055"
      ]
     },
     "execution_count": 34,
     "metadata": {},
     "output_type": "execute_result"
    }
   ],
   "source": [
    "results_for_6_std"
   ]
  },
  {
   "cell_type": "code",
   "execution_count": 35,
   "metadata": {},
   "outputs": [
    {
     "data": {
      "text/plain": [
       "{'memory': None,\n",
       " 'steps': [('Feature Eng',\n",
       "   ColumnTransformer(transformers=[('cat', OrdinalEncoder(),\n",
       "                                    ['Generation', 'Gender', 'MProximity']),\n",
       "                                   ('null', SimpleImputer(strategy='median'),\n",
       "                                    ['PayIncrease']),\n",
       "                                   ('other', 'passthrough',\n",
       "                                    ['Tenure', 'Dependents', 'TimeJobProfile',\n",
       "                                     'TimeinPosition'])])),\n",
       "  ('Random Forest', RandomForestRegressor())],\n",
       " 'verbose': False,\n",
       " 'Feature Eng': ColumnTransformer(transformers=[('cat', OrdinalEncoder(),\n",
       "                                  ['Generation', 'Gender', 'MProximity']),\n",
       "                                 ('null', SimpleImputer(strategy='median'),\n",
       "                                  ['PayIncrease']),\n",
       "                                 ('other', 'passthrough',\n",
       "                                  ['Tenure', 'Dependents', 'TimeJobProfile',\n",
       "                                   'TimeinPosition'])]),\n",
       " 'Random Forest': RandomForestRegressor(),\n",
       " 'Feature Eng__n_jobs': None,\n",
       " 'Feature Eng__remainder': 'drop',\n",
       " 'Feature Eng__sparse_threshold': 0.3,\n",
       " 'Feature Eng__transformer_weights': None,\n",
       " 'Feature Eng__transformers': [('cat',\n",
       "   OrdinalEncoder(),\n",
       "   ['Generation', 'Gender', 'MProximity']),\n",
       "  ('null', SimpleImputer(strategy='median'), ['PayIncrease']),\n",
       "  ('other',\n",
       "   'passthrough',\n",
       "   ['Tenure', 'Dependents', 'TimeJobProfile', 'TimeinPosition'])],\n",
       " 'Feature Eng__verbose': False,\n",
       " 'Feature Eng__cat': OrdinalEncoder(),\n",
       " 'Feature Eng__null': SimpleImputer(strategy='median'),\n",
       " 'Feature Eng__other': 'passthrough',\n",
       " 'Feature Eng__cat__cols': None,\n",
       " 'Feature Eng__cat__drop_invariant': False,\n",
       " 'Feature Eng__cat__handle_missing': 'value',\n",
       " 'Feature Eng__cat__handle_unknown': 'value',\n",
       " 'Feature Eng__cat__mapping': None,\n",
       " 'Feature Eng__cat__return_df': True,\n",
       " 'Feature Eng__cat__verbose': 0,\n",
       " 'Feature Eng__null__add_indicator': False,\n",
       " 'Feature Eng__null__copy': True,\n",
       " 'Feature Eng__null__fill_value': None,\n",
       " 'Feature Eng__null__missing_values': nan,\n",
       " 'Feature Eng__null__strategy': 'median',\n",
       " 'Feature Eng__null__verbose': 0,\n",
       " 'Random Forest__bootstrap': True,\n",
       " 'Random Forest__ccp_alpha': 0.0,\n",
       " 'Random Forest__criterion': 'mse',\n",
       " 'Random Forest__max_depth': None,\n",
       " 'Random Forest__max_features': 'auto',\n",
       " 'Random Forest__max_leaf_nodes': None,\n",
       " 'Random Forest__max_samples': None,\n",
       " 'Random Forest__min_impurity_decrease': 0.0,\n",
       " 'Random Forest__min_impurity_split': None,\n",
       " 'Random Forest__min_samples_leaf': 1,\n",
       " 'Random Forest__min_samples_split': 2,\n",
       " 'Random Forest__min_weight_fraction_leaf': 0.0,\n",
       " 'Random Forest__n_estimators': 100,\n",
       " 'Random Forest__n_jobs': None,\n",
       " 'Random Forest__oob_score': False,\n",
       " 'Random Forest__random_state': None,\n",
       " 'Random Forest__verbose': 0,\n",
       " 'Random Forest__warm_start': False}"
      ]
     },
     "execution_count": 35,
     "metadata": {},
     "output_type": "execute_result"
    }
   ],
   "source": [
    "model_for_6.get_params()"
   ]
  },
  {
   "cell_type": "code",
   "execution_count": 36,
   "metadata": {},
   "outputs": [],
   "source": [
    "clf_rf_fp = GridSearchCV(estimator = model_for_6, param_grid = params_rf, scoring = 'roc_auc' , cv = KFold(n_splits=5, shuffle=True, random_state=0), n_jobs = -1)"
   ]
  },
  {
   "cell_type": "markdown",
   "metadata": {},
   "source": [
    "## Fit & Save:"
   ]
  },
  {
   "cell_type": "code",
   "execution_count": 37,
   "metadata": {},
   "outputs": [],
   "source": [
    "#clf_rf_fp.fit(X_train, y_train)"
   ]
  },
  {
   "cell_type": "code",
   "execution_count": 38,
   "metadata": {},
   "outputs": [],
   "source": [
    "#clf_rf_fp.cv_results_"
   ]
  },
  {
   "cell_type": "code",
   "execution_count": 39,
   "metadata": {},
   "outputs": [],
   "source": [
    "#results_3 = pd.DataFrame(clf_rf_fp.cv_results_)"
   ]
  },
  {
   "cell_type": "code",
   "execution_count": 40,
   "metadata": {},
   "outputs": [],
   "source": [
    "#results_3.to_csv('results_3.csv')"
   ]
  },
  {
   "cell_type": "markdown",
   "metadata": {},
   "source": [
    "---"
   ]
  },
  {
   "cell_type": "markdown",
   "metadata": {},
   "source": [
    "Data transformation:"
   ]
  },
  {
   "cell_type": "code",
   "execution_count": 41,
   "metadata": {},
   "outputs": [],
   "source": [
    "transf_v13 = ColumnTransformer(\n",
    "    [('cat', OrdinalEncoder(), ['Generation', 'Gender', 'MProximity', 'Rehire', 'Contract Type', 'PeopleManager', 'Country', 'CostCenterH', 'TopPerformer']),\n",
    "     ('null', SimpleImputer (missing_values= np.nan, strategy = 'median'), ['PayIncrease', 'Age']), \n",
    "     ('other', \"passthrough\", ['Tenure', 'Dependents', 'EmployeeCount', 'HireCount', 'MTenure', 'HomeOffice','TimeinPosition', 'TimeJobProfile', 'MTimeJobProfile', 'TerminationCount'])\n",
    "    ])"
   ]
  },
  {
   "cell_type": "markdown",
   "metadata": {},
   "source": [
    "**Gradient Boosting:**"
   ]
  },
  {
   "cell_type": "code",
   "execution_count": 42,
   "metadata": {},
   "outputs": [],
   "source": [
    "model_boost_13 = Pipeline([\n",
    "    ('Feature Eng', transf_v13),\n",
    "    ('Gradient Boosting', GradientBoostingClassifier())\n",
    "])"
   ]
  },
  {
   "cell_type": "code",
   "execution_count": 43,
   "metadata": {},
   "outputs": [],
   "source": [
    "results_boost_13 = cross_val_score(model_boost_13, X_train, y_train, cv = KFold(n_splits = 5, shuffle = True), scoring = \"roc_auc\")\n",
    "results_boost_13_mean = results_boost_13.mean()\n",
    "results_boost_13_std = results_boost_13.std()"
   ]
  },
  {
   "cell_type": "code",
   "execution_count": 44,
   "metadata": {},
   "outputs": [
    {
     "data": {
      "text/plain": [
       "0.9673606061148897"
      ]
     },
     "execution_count": 44,
     "metadata": {},
     "output_type": "execute_result"
    }
   ],
   "source": [
    "results_boost_13_mean"
   ]
  },
  {
   "cell_type": "code",
   "execution_count": 45,
   "metadata": {},
   "outputs": [
    {
     "data": {
      "text/plain": [
       "0.005089812768855205"
      ]
     },
     "execution_count": 45,
     "metadata": {},
     "output_type": "execute_result"
    }
   ],
   "source": [
    "results_boost_13_std"
   ]
  },
  {
   "cell_type": "markdown",
   "metadata": {},
   "source": [
    "---"
   ]
  },
  {
   "cell_type": "code",
   "execution_count": 46,
   "metadata": {},
   "outputs": [],
   "source": [
    "clf_gb_fp = GridSearchCV(estimator = model_boost_13, param_grid = params_gb, scoring = 'roc_auc' , cv = KFold(n_splits=5, shuffle=True, random_state=0), n_jobs = -1)"
   ]
  },
  {
   "cell_type": "markdown",
   "metadata": {},
   "source": [
    "## Fit & Save:"
   ]
  },
  {
   "cell_type": "code",
   "execution_count": 47,
   "metadata": {},
   "outputs": [],
   "source": [
    "#clf_gb_fp.fit(X_train, y_train)"
   ]
  },
  {
   "cell_type": "code",
   "execution_count": 48,
   "metadata": {},
   "outputs": [],
   "source": [
    "#clf_gb_fp.cv_results_"
   ]
  },
  {
   "cell_type": "code",
   "execution_count": 49,
   "metadata": {},
   "outputs": [],
   "source": [
    "#results_4 = pd.DataFrame(clf_gb_fp.cv_results_)"
   ]
  },
  {
   "cell_type": "code",
   "execution_count": 50,
   "metadata": {},
   "outputs": [],
   "source": [
    "#results_4.to_csv(\"results_4.csv\")"
   ]
  },
  {
   "cell_type": "markdown",
   "metadata": {},
   "source": [
    "---"
   ]
  }
 ],
 "metadata": {
  "kernelspec": {
   "display_name": "Python 3",
   "language": "python",
   "name": "python3"
  },
  "language_info": {
   "codemirror_mode": {
    "name": "ipython",
    "version": 3
   },
   "file_extension": ".py",
   "mimetype": "text/x-python",
   "name": "python",
   "nbconvert_exporter": "python",
   "pygments_lexer": "ipython3",
   "version": "3.8.3"
  }
 },
 "nbformat": 4,
 "nbformat_minor": 4
}
