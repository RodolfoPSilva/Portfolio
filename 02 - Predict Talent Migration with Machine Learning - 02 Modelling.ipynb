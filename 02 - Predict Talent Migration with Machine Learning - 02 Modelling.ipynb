{
 "cells": [
  {
   "cell_type": "markdown",
   "metadata": {},
   "source": [
    "## Predict Talent Migration with Machine Learning - 02 Modelling\n",
    "\n",
    "---\n",
    "\n",
    "<p style=\"text-align: center;\">\n",
    "Project split into 5 Notebooks:</br>\n",
    "</br>\n",
    "Predict Talent Migration with Machine Learning - 01 Exploratory Analysis</br>\n",
    "*</br>\n",
    "Predict Talent Migration with Machine Learning - 02 Modeling</br>\n",
    "*</br>\n",
    "Predict Talent Migration with Machine Learning - 03 Grid Build</br>\n",
    "*</br>\n",
    "Predict Talent Migration with Machine Learning - 04 Final Take Model A</br>\n",
    "*</br>\n",
    "Predict Talent Migration with Machine Learning - 05 Final Take Model B</br> </p> \n",
    "         \n",
    "---\n",
    "\n",
    "This project aims to create a machine learning model that allows the prediction of employees departure from an Organization. </br>\n",
    "We will focus our forecast on the Organization's best employees (Top Performers), although a comparison between employees in general will be made. Top Performers will be identified through the creation of a condition, which will be based on the classification of employees evaluation cycles. An analysis on model performance will also be presented, concerning the model's ability to predict the employees departure by **Generation** and **Gender.**\n",
    "\n",
    "Employees are evaluated on a semiannual basis and our data concerns the last 3 evaluation cycles, between January 1st 2018 to September 31st 2019.\n",
    "\n",
    "Ratings per evaluation are: </br>\n",
    "\n",
    "  - Mid Year 2018 (MY2018): **0,1,2,3,4,5** </br>\n",
    "  - Year End 2018 (YE2018): **0,1,2,3,4,5** </br>\n",
    "  - Mid Year 2019: **0,1,2,3***.</br>\n",
    "             \n",
    "**Data from the Organization shows a change of ratings scale was purpousely made to decrease results granularity.*"
   ]
  },
  {
   "cell_type": "code",
   "execution_count": 144,
   "metadata": {},
   "outputs": [],
   "source": [
    "import random\n",
    "import pandas as pd\n",
    "import numpy as np\n",
    "import seaborn as sns\n",
    "from matplotlib import pyplot\n",
    "\n",
    "from sklearn.linear_model import LogisticRegression\n",
    "from sklearn.ensemble import RandomForestRegressor\n",
    "from sklearn.ensemble import GradientBoostingClassifier\n",
    "\n",
    "from sklearn.model_selection import cross_val_score, train_test_split\n",
    "from sklearn.pipeline import Pipeline\n",
    "from sklearn.compose import ColumnTransformer\n",
    "from sklearn.impute import SimpleImputer\n",
    "from sklearn.preprocessing import KBinsDiscretizer, PowerTransformer, OneHotEncoder\n",
    "\n",
    "from sklearn.model_selection import KFold\n",
    "from sklearn.inspection import permutation_importance\n",
    "\n",
    "from category_encoders.ordinal import OrdinalEncoder\n",
    "\n",
    "from sklearn.metrics import roc_auc_score"
   ]
  },
  {
   "cell_type": "markdown",
   "metadata": {},
   "source": [
    "## Data:"
   ]
  },
  {
   "cell_type": "markdown",
   "metadata": {},
   "source": [
    "**From the previous notebook \"Predict Talent Migration with Machine Learning - 01 Exploratory Analysis \", a modified dataset was saved and will now be our starting point for the modeling phase.**"
   ]
  },
  {
   "cell_type": "code",
   "execution_count": 145,
   "metadata": {},
   "outputs": [],
   "source": [
    "df = pd.read_csv('projeto_final.csv', index_col = False)"
   ]
  },
  {
   "cell_type": "code",
   "execution_count": 146,
   "metadata": {},
   "outputs": [
    {
     "data": {
      "text/html": [
       "<div>\n",
       "<style scoped>\n",
       "    .dataframe tbody tr th:only-of-type {\n",
       "        vertical-align: middle;\n",
       "    }\n",
       "\n",
       "    .dataframe tbody tr th {\n",
       "        vertical-align: top;\n",
       "    }\n",
       "\n",
       "    .dataframe thead th {\n",
       "        text-align: right;\n",
       "    }\n",
       "</style>\n",
       "<table border=\"1\" class=\"dataframe\">\n",
       "  <thead>\n",
       "    <tr style=\"text-align: right;\">\n",
       "      <th></th>\n",
       "      <th>Id</th>\n",
       "      <th>Rehire</th>\n",
       "      <th>Age</th>\n",
       "      <th>Generation</th>\n",
       "      <th>CostCenterH</th>\n",
       "      <th>Gender</th>\n",
       "      <th>Dependents</th>\n",
       "      <th>ManagementLevel</th>\n",
       "      <th>EmployeeCount</th>\n",
       "      <th>HireCount</th>\n",
       "      <th>...</th>\n",
       "      <th>OfficeLocation</th>\n",
       "      <th>Country</th>\n",
       "      <th>ModNationality</th>\n",
       "      <th>2ndNationality</th>\n",
       "      <th>MOfficeLocation</th>\n",
       "      <th>MCountry</th>\n",
       "      <th>Out</th>\n",
       "      <th>MTimeJobProfile</th>\n",
       "      <th>MTimeinPosition</th>\n",
       "      <th>TopPerformer</th>\n",
       "    </tr>\n",
       "  </thead>\n",
       "  <tbody>\n",
       "    <tr>\n",
       "      <th>0</th>\n",
       "      <td>0</td>\n",
       "      <td>No</td>\n",
       "      <td>37.0</td>\n",
       "      <td>Generation Y / Millennials (1981 -1996)</td>\n",
       "      <td>Technology</td>\n",
       "      <td>Male</td>\n",
       "      <td>1</td>\n",
       "      <td>Lead</td>\n",
       "      <td>7</td>\n",
       "      <td>7</td>\n",
       "      <td>...</td>\n",
       "      <td>Porto - Lionesa</td>\n",
       "      <td>Portugal</td>\n",
       "      <td>Portugal</td>\n",
       "      <td>0</td>\n",
       "      <td>Porto - Lionesa</td>\n",
       "      <td>Portugal</td>\n",
       "      <td>0</td>\n",
       "      <td>18.215000</td>\n",
       "      <td>19.611000</td>\n",
       "      <td>0</td>\n",
       "    </tr>\n",
       "    <tr>\n",
       "      <th>1</th>\n",
       "      <td>1</td>\n",
       "      <td>No</td>\n",
       "      <td>43.0</td>\n",
       "      <td>Generation X (1965 -1980)</td>\n",
       "      <td>Technology</td>\n",
       "      <td>Male</td>\n",
       "      <td>1</td>\n",
       "      <td>Head</td>\n",
       "      <td>6</td>\n",
       "      <td>8</td>\n",
       "      <td>...</td>\n",
       "      <td>Porto - Lionesa</td>\n",
       "      <td>Portugal</td>\n",
       "      <td>Portugal</td>\n",
       "      <td>0</td>\n",
       "      <td>Porto - Lionesa</td>\n",
       "      <td>Portugal</td>\n",
       "      <td>0</td>\n",
       "      <td>35.496667</td>\n",
       "      <td>36.891667</td>\n",
       "      <td>0</td>\n",
       "    </tr>\n",
       "    <tr>\n",
       "      <th>2</th>\n",
       "      <td>2</td>\n",
       "      <td>No</td>\n",
       "      <td>40.0</td>\n",
       "      <td>Generation X (1965 -1980)</td>\n",
       "      <td>Operations</td>\n",
       "      <td>Male</td>\n",
       "      <td>0</td>\n",
       "      <td>Manager</td>\n",
       "      <td>6</td>\n",
       "      <td>1</td>\n",
       "      <td>...</td>\n",
       "      <td>Porto - Boavista</td>\n",
       "      <td>Portugal</td>\n",
       "      <td>Portugal</td>\n",
       "      <td>0</td>\n",
       "      <td>London</td>\n",
       "      <td>UK</td>\n",
       "      <td>0</td>\n",
       "      <td>15.852333</td>\n",
       "      <td>17.248333</td>\n",
       "      <td>0</td>\n",
       "    </tr>\n",
       "    <tr>\n",
       "      <th>3</th>\n",
       "      <td>3</td>\n",
       "      <td>No</td>\n",
       "      <td>38.0</td>\n",
       "      <td>Generation Y / Millennials (1981 -1996)</td>\n",
       "      <td>Content</td>\n",
       "      <td>Male</td>\n",
       "      <td>1</td>\n",
       "      <td>Individual Contributor</td>\n",
       "      <td>8</td>\n",
       "      <td>1</td>\n",
       "      <td>...</td>\n",
       "      <td>Guimarães</td>\n",
       "      <td>Portugal</td>\n",
       "      <td>Portugal</td>\n",
       "      <td>0</td>\n",
       "      <td>Guimarães</td>\n",
       "      <td>Portugal</td>\n",
       "      <td>0</td>\n",
       "      <td>15.204333</td>\n",
       "      <td>16.600333</td>\n",
       "      <td>0</td>\n",
       "    </tr>\n",
       "    <tr>\n",
       "      <th>4</th>\n",
       "      <td>4</td>\n",
       "      <td>No</td>\n",
       "      <td>37.0</td>\n",
       "      <td>Generation Y / Millennials (1981 -1996)</td>\n",
       "      <td>Operations</td>\n",
       "      <td>Female</td>\n",
       "      <td>2</td>\n",
       "      <td>Individual Contributor</td>\n",
       "      <td>11</td>\n",
       "      <td>3</td>\n",
       "      <td>...</td>\n",
       "      <td>Porto - Boavista</td>\n",
       "      <td>Portugal</td>\n",
       "      <td>Portugal</td>\n",
       "      <td>0</td>\n",
       "      <td>Porto - Lionesa</td>\n",
       "      <td>Portugal</td>\n",
       "      <td>0</td>\n",
       "      <td>7.836000</td>\n",
       "      <td>9.232000</td>\n",
       "      <td>0</td>\n",
       "    </tr>\n",
       "  </tbody>\n",
       "</table>\n",
       "<p>5 rows × 46 columns</p>\n",
       "</div>"
      ],
      "text/plain": [
       "   Id Rehire   Age                               Generation CostCenterH  \\\n",
       "0   0     No  37.0  Generation Y / Millennials (1981 -1996)  Technology   \n",
       "1   1     No  43.0                Generation X (1965 -1980)  Technology   \n",
       "2   2     No  40.0                Generation X (1965 -1980)  Operations   \n",
       "3   3     No  38.0  Generation Y / Millennials (1981 -1996)     Content   \n",
       "4   4     No  37.0  Generation Y / Millennials (1981 -1996)  Operations   \n",
       "\n",
       "   Gender  Dependents         ManagementLevel  EmployeeCount  HireCount  ...  \\\n",
       "0    Male           1                    Lead              7          7  ...   \n",
       "1    Male           1                    Head              6          8  ...   \n",
       "2    Male           0                 Manager              6          1  ...   \n",
       "3    Male           1  Individual Contributor              8          1  ...   \n",
       "4  Female           2  Individual Contributor             11          3  ...   \n",
       "\n",
       "     OfficeLocation   Country  ModNationality 2ndNationality  MOfficeLocation  \\\n",
       "0   Porto - Lionesa  Portugal        Portugal              0  Porto - Lionesa   \n",
       "1   Porto - Lionesa  Portugal        Portugal              0  Porto - Lionesa   \n",
       "2  Porto - Boavista  Portugal        Portugal              0           London   \n",
       "3         Guimarães  Portugal        Portugal              0        Guimarães   \n",
       "4  Porto - Boavista  Portugal        Portugal              0  Porto - Lionesa   \n",
       "\n",
       "   MCountry Out  MTimeJobProfile MTimeinPosition TopPerformer  \n",
       "0  Portugal   0        18.215000       19.611000            0  \n",
       "1  Portugal   0        35.496667       36.891667            0  \n",
       "2        UK   0        15.852333       17.248333            0  \n",
       "3  Portugal   0        15.204333       16.600333            0  \n",
       "4  Portugal   0         7.836000        9.232000            0  \n",
       "\n",
       "[5 rows x 46 columns]"
      ]
     },
     "execution_count": 146,
     "metadata": {},
     "output_type": "execute_result"
    }
   ],
   "source": [
    "df.head()"
   ]
  },
  {
   "cell_type": "code",
   "execution_count": 147,
   "metadata": {},
   "outputs": [
    {
     "data": {
      "text/html": [
       "<div>\n",
       "<style scoped>\n",
       "    .dataframe tbody tr th:only-of-type {\n",
       "        vertical-align: middle;\n",
       "    }\n",
       "\n",
       "    .dataframe tbody tr th {\n",
       "        vertical-align: top;\n",
       "    }\n",
       "\n",
       "    .dataframe thead th {\n",
       "        text-align: right;\n",
       "    }\n",
       "</style>\n",
       "<table border=\"1\" class=\"dataframe\">\n",
       "  <thead>\n",
       "    <tr style=\"text-align: right;\">\n",
       "      <th></th>\n",
       "      <th>Id</th>\n",
       "      <th>Rehire</th>\n",
       "      <th>Age</th>\n",
       "      <th>Generation</th>\n",
       "      <th>CostCenterH</th>\n",
       "      <th>Gender</th>\n",
       "      <th>Dependents</th>\n",
       "      <th>ManagementLevel</th>\n",
       "      <th>EmployeeCount</th>\n",
       "      <th>HireCount</th>\n",
       "      <th>...</th>\n",
       "      <th>OfficeLocation</th>\n",
       "      <th>Country</th>\n",
       "      <th>ModNationality</th>\n",
       "      <th>2ndNationality</th>\n",
       "      <th>MOfficeLocation</th>\n",
       "      <th>MCountry</th>\n",
       "      <th>Out</th>\n",
       "      <th>MTimeJobProfile</th>\n",
       "      <th>MTimeinPosition</th>\n",
       "      <th>TopPerformer</th>\n",
       "    </tr>\n",
       "  </thead>\n",
       "  <tbody>\n",
       "    <tr>\n",
       "      <th>23</th>\n",
       "      <td>23</td>\n",
       "      <td>No</td>\n",
       "      <td>36.0</td>\n",
       "      <td>Generation Y / Millennials (1981 -1996)</td>\n",
       "      <td>Finance</td>\n",
       "      <td>Female</td>\n",
       "      <td>1</td>\n",
       "      <td>Lead</td>\n",
       "      <td>2</td>\n",
       "      <td>1</td>\n",
       "      <td>...</td>\n",
       "      <td>Porto - Lionesa</td>\n",
       "      <td>Portugal</td>\n",
       "      <td>Portugal</td>\n",
       "      <td>0</td>\n",
       "      <td>Porto - Lionesa</td>\n",
       "      <td>Portugal</td>\n",
       "      <td>1</td>\n",
       "      <td>5.740000</td>\n",
       "      <td>36.891667</td>\n",
       "      <td>0</td>\n",
       "    </tr>\n",
       "    <tr>\n",
       "      <th>32</th>\n",
       "      <td>32</td>\n",
       "      <td>No</td>\n",
       "      <td>40.0</td>\n",
       "      <td>Generation X (1965 -1980)</td>\n",
       "      <td>Digital Production</td>\n",
       "      <td>Male</td>\n",
       "      <td>0</td>\n",
       "      <td>Individual Contributor</td>\n",
       "      <td>9</td>\n",
       "      <td>9</td>\n",
       "      <td>...</td>\n",
       "      <td>Guimarães</td>\n",
       "      <td>Portugal</td>\n",
       "      <td>NaN</td>\n",
       "      <td>0</td>\n",
       "      <td>Los Angeles - Arts</td>\n",
       "      <td>USA</td>\n",
       "      <td>1</td>\n",
       "      <td>24.336333</td>\n",
       "      <td>45.009000</td>\n",
       "      <td>0</td>\n",
       "    </tr>\n",
       "    <tr>\n",
       "      <th>42</th>\n",
       "      <td>42</td>\n",
       "      <td>No</td>\n",
       "      <td>36.0</td>\n",
       "      <td>Generation Y / Millennials (1981 -1996)</td>\n",
       "      <td>Technology</td>\n",
       "      <td>Female</td>\n",
       "      <td>1</td>\n",
       "      <td>Head</td>\n",
       "      <td>5</td>\n",
       "      <td>12</td>\n",
       "      <td>...</td>\n",
       "      <td>Porto - Lionesa</td>\n",
       "      <td>Portugal</td>\n",
       "      <td>Portugal</td>\n",
       "      <td>0</td>\n",
       "      <td>Porto - Lionesa</td>\n",
       "      <td>Portugal</td>\n",
       "      <td>1</td>\n",
       "      <td>7.702667</td>\n",
       "      <td>36.891667</td>\n",
       "      <td>0</td>\n",
       "    </tr>\n",
       "    <tr>\n",
       "      <th>46</th>\n",
       "      <td>46</td>\n",
       "      <td>No</td>\n",
       "      <td>37.0</td>\n",
       "      <td>Generation Y / Millennials (1981 -1996)</td>\n",
       "      <td>Finance</td>\n",
       "      <td>Male</td>\n",
       "      <td>0</td>\n",
       "      <td>Individual Contributor</td>\n",
       "      <td>5</td>\n",
       "      <td>4</td>\n",
       "      <td>...</td>\n",
       "      <td>Porto - Boavista</td>\n",
       "      <td>Portugal</td>\n",
       "      <td>Portugal</td>\n",
       "      <td>0</td>\n",
       "      <td>Porto - Boavista</td>\n",
       "      <td>Portugal</td>\n",
       "      <td>1</td>\n",
       "      <td>0.966667</td>\n",
       "      <td>36.891667</td>\n",
       "      <td>0</td>\n",
       "    </tr>\n",
       "    <tr>\n",
       "      <th>52</th>\n",
       "      <td>52</td>\n",
       "      <td>No</td>\n",
       "      <td>35.0</td>\n",
       "      <td>Generation Y / Millennials (1981 -1996)</td>\n",
       "      <td>Digital Production</td>\n",
       "      <td>Female</td>\n",
       "      <td>0</td>\n",
       "      <td>Individual Contributor</td>\n",
       "      <td>24</td>\n",
       "      <td>11</td>\n",
       "      <td>...</td>\n",
       "      <td>Guimarães</td>\n",
       "      <td>Portugal</td>\n",
       "      <td>NaN</td>\n",
       "      <td>0</td>\n",
       "      <td>Guimarães</td>\n",
       "      <td>Portugal</td>\n",
       "      <td>1</td>\n",
       "      <td>24.750000</td>\n",
       "      <td>49.066667</td>\n",
       "      <td>0</td>\n",
       "    </tr>\n",
       "    <tr>\n",
       "      <th>...</th>\n",
       "      <td>...</td>\n",
       "      <td>...</td>\n",
       "      <td>...</td>\n",
       "      <td>...</td>\n",
       "      <td>...</td>\n",
       "      <td>...</td>\n",
       "      <td>...</td>\n",
       "      <td>...</td>\n",
       "      <td>...</td>\n",
       "      <td>...</td>\n",
       "      <td>...</td>\n",
       "      <td>...</td>\n",
       "      <td>...</td>\n",
       "      <td>...</td>\n",
       "      <td>...</td>\n",
       "      <td>...</td>\n",
       "      <td>...</td>\n",
       "      <td>...</td>\n",
       "      <td>...</td>\n",
       "      <td>...</td>\n",
       "      <td>...</td>\n",
       "    </tr>\n",
       "    <tr>\n",
       "      <th>5547</th>\n",
       "      <td>5547</td>\n",
       "      <td>No</td>\n",
       "      <td>27.0</td>\n",
       "      <td>Generation Y / Millennials (1981 -1996)</td>\n",
       "      <td>Operations</td>\n",
       "      <td>Female</td>\n",
       "      <td>0</td>\n",
       "      <td>Individual Contributor</td>\n",
       "      <td>10</td>\n",
       "      <td>8</td>\n",
       "      <td>...</td>\n",
       "      <td>Shanghai - One Museum</td>\n",
       "      <td>China</td>\n",
       "      <td>China</td>\n",
       "      <td>0</td>\n",
       "      <td>Shanghai - One Museum</td>\n",
       "      <td>China</td>\n",
       "      <td>1</td>\n",
       "      <td>1.881333</td>\n",
       "      <td>19.163000</td>\n",
       "      <td>0</td>\n",
       "    </tr>\n",
       "    <tr>\n",
       "      <th>5596</th>\n",
       "      <td>5596</td>\n",
       "      <td>No</td>\n",
       "      <td>27.0</td>\n",
       "      <td>Generation Y / Millennials (1981 -1996)</td>\n",
       "      <td>Digital Production</td>\n",
       "      <td>Female</td>\n",
       "      <td>0</td>\n",
       "      <td>Individual Contributor</td>\n",
       "      <td>7</td>\n",
       "      <td>11</td>\n",
       "      <td>...</td>\n",
       "      <td>Guimarães</td>\n",
       "      <td>Portugal</td>\n",
       "      <td>Portugal</td>\n",
       "      <td>0</td>\n",
       "      <td>Guimarães</td>\n",
       "      <td>Portugal</td>\n",
       "      <td>1</td>\n",
       "      <td>0.900000</td>\n",
       "      <td>23.703000</td>\n",
       "      <td>0</td>\n",
       "    </tr>\n",
       "    <tr>\n",
       "      <th>5606</th>\n",
       "      <td>5606</td>\n",
       "      <td>No</td>\n",
       "      <td>25.0</td>\n",
       "      <td>Generation Y / Millennials (1981 -1996)</td>\n",
       "      <td>Digital Production</td>\n",
       "      <td>Female</td>\n",
       "      <td>0</td>\n",
       "      <td>Individual Contributor</td>\n",
       "      <td>3</td>\n",
       "      <td>10</td>\n",
       "      <td>...</td>\n",
       "      <td>Beijing - TechTemple</td>\n",
       "      <td>China</td>\n",
       "      <td>China</td>\n",
       "      <td>0</td>\n",
       "      <td>Beijing - TechTemple</td>\n",
       "      <td>China</td>\n",
       "      <td>1</td>\n",
       "      <td>25.964667</td>\n",
       "      <td>28.508667</td>\n",
       "      <td>0</td>\n",
       "    </tr>\n",
       "    <tr>\n",
       "      <th>5611</th>\n",
       "      <td>5611</td>\n",
       "      <td>No</td>\n",
       "      <td>23.0</td>\n",
       "      <td>Generation Y / Millennials (1981 -1996)</td>\n",
       "      <td>Private Client</td>\n",
       "      <td>Male</td>\n",
       "      <td>0</td>\n",
       "      <td>Individual Contributor</td>\n",
       "      <td>10</td>\n",
       "      <td>4</td>\n",
       "      <td>...</td>\n",
       "      <td>São Paulo - Santos Augusta</td>\n",
       "      <td>Brazil</td>\n",
       "      <td>Brazil</td>\n",
       "      <td>0</td>\n",
       "      <td>São Paulo - Santos Augusta</td>\n",
       "      <td>Brazil</td>\n",
       "      <td>1</td>\n",
       "      <td>0.566667</td>\n",
       "      <td>6.454667</td>\n",
       "      <td>0</td>\n",
       "    </tr>\n",
       "    <tr>\n",
       "      <th>5656</th>\n",
       "      <td>5656</td>\n",
       "      <td>No</td>\n",
       "      <td>42.0</td>\n",
       "      <td>Generation X (1965 -1980)</td>\n",
       "      <td>Operations</td>\n",
       "      <td>Male</td>\n",
       "      <td>0</td>\n",
       "      <td>Individual Contributor</td>\n",
       "      <td>43</td>\n",
       "      <td>19</td>\n",
       "      <td>...</td>\n",
       "      <td>Lisbon - D. Luís</td>\n",
       "      <td>Portugal</td>\n",
       "      <td>Portugal</td>\n",
       "      <td>1</td>\n",
       "      <td>Lisbon - D. Luís</td>\n",
       "      <td>Portugal</td>\n",
       "      <td>1</td>\n",
       "      <td>1.848000</td>\n",
       "      <td>16.367000</td>\n",
       "      <td>0</td>\n",
       "    </tr>\n",
       "  </tbody>\n",
       "</table>\n",
       "<p>1541 rows × 46 columns</p>\n",
       "</div>"
      ],
      "text/plain": [
       "        Id Rehire   Age                               Generation  \\\n",
       "23      23     No  36.0  Generation Y / Millennials (1981 -1996)   \n",
       "32      32     No  40.0                Generation X (1965 -1980)   \n",
       "42      42     No  36.0  Generation Y / Millennials (1981 -1996)   \n",
       "46      46     No  37.0  Generation Y / Millennials (1981 -1996)   \n",
       "52      52     No  35.0  Generation Y / Millennials (1981 -1996)   \n",
       "...    ...    ...   ...                                      ...   \n",
       "5547  5547     No  27.0  Generation Y / Millennials (1981 -1996)   \n",
       "5596  5596     No  27.0  Generation Y / Millennials (1981 -1996)   \n",
       "5606  5606     No  25.0  Generation Y / Millennials (1981 -1996)   \n",
       "5611  5611     No  23.0  Generation Y / Millennials (1981 -1996)   \n",
       "5656  5656     No  42.0                Generation X (1965 -1980)   \n",
       "\n",
       "             CostCenterH  Gender  Dependents         ManagementLevel  \\\n",
       "23               Finance  Female           1                    Lead   \n",
       "32    Digital Production    Male           0  Individual Contributor   \n",
       "42            Technology  Female           1                    Head   \n",
       "46               Finance    Male           0  Individual Contributor   \n",
       "52    Digital Production  Female           0  Individual Contributor   \n",
       "...                  ...     ...         ...                     ...   \n",
       "5547          Operations  Female           0  Individual Contributor   \n",
       "5596  Digital Production  Female           0  Individual Contributor   \n",
       "5606  Digital Production  Female           0  Individual Contributor   \n",
       "5611      Private Client    Male           0  Individual Contributor   \n",
       "5656          Operations    Male           0  Individual Contributor   \n",
       "\n",
       "      EmployeeCount  HireCount  ...              OfficeLocation   Country  \\\n",
       "23                2          1  ...             Porto - Lionesa  Portugal   \n",
       "32                9          9  ...                   Guimarães  Portugal   \n",
       "42                5         12  ...             Porto - Lionesa  Portugal   \n",
       "46                5          4  ...            Porto - Boavista  Portugal   \n",
       "52               24         11  ...                   Guimarães  Portugal   \n",
       "...             ...        ...  ...                         ...       ...   \n",
       "5547             10          8  ...       Shanghai - One Museum     China   \n",
       "5596              7         11  ...                   Guimarães  Portugal   \n",
       "5606              3         10  ...        Beijing - TechTemple     China   \n",
       "5611             10          4  ...  São Paulo - Santos Augusta    Brazil   \n",
       "5656             43         19  ...            Lisbon - D. Luís  Portugal   \n",
       "\n",
       "      ModNationality 2ndNationality             MOfficeLocation  MCountry Out  \\\n",
       "23          Portugal              0             Porto - Lionesa  Portugal   1   \n",
       "32               NaN              0          Los Angeles - Arts       USA   1   \n",
       "42          Portugal              0             Porto - Lionesa  Portugal   1   \n",
       "46          Portugal              0            Porto - Boavista  Portugal   1   \n",
       "52               NaN              0                   Guimarães  Portugal   1   \n",
       "...              ...            ...                         ...       ...  ..   \n",
       "5547           China              0       Shanghai - One Museum     China   1   \n",
       "5596        Portugal              0                   Guimarães  Portugal   1   \n",
       "5606           China              0        Beijing - TechTemple     China   1   \n",
       "5611          Brazil              0  São Paulo - Santos Augusta    Brazil   1   \n",
       "5656        Portugal              1            Lisbon - D. Luís  Portugal   1   \n",
       "\n",
       "      MTimeJobProfile MTimeinPosition TopPerformer  \n",
       "23           5.740000       36.891667            0  \n",
       "32          24.336333       45.009000            0  \n",
       "42           7.702667       36.891667            0  \n",
       "46           0.966667       36.891667            0  \n",
       "52          24.750000       49.066667            0  \n",
       "...               ...             ...          ...  \n",
       "5547         1.881333       19.163000            0  \n",
       "5596         0.900000       23.703000            0  \n",
       "5606        25.964667       28.508667            0  \n",
       "5611         0.566667        6.454667            0  \n",
       "5656         1.848000       16.367000            0  \n",
       "\n",
       "[1541 rows x 46 columns]"
      ]
     },
     "execution_count": 147,
     "metadata": {},
     "output_type": "execute_result"
    }
   ],
   "source": [
    "df[df['Out'] == 1]"
   ]
  },
  {
   "cell_type": "code",
   "execution_count": 148,
   "metadata": {},
   "outputs": [
    {
     "data": {
      "text/plain": [
       "Id                     0\n",
       "Rehire                 0\n",
       "Age                   14\n",
       "Generation             0\n",
       "CostCenterH            0\n",
       "Gender                 0\n",
       "Dependents             0\n",
       "ManagementLevel        0\n",
       "EmployeeCount          0\n",
       "HireCount              0\n",
       "TerminationCount       0\n",
       "Tenure                 0\n",
       "PayIncrease            0\n",
       "PeopleManager          0\n",
       "BLeave                 0\n",
       "BTimeOut               0\n",
       "ParentLeave            0\n",
       "HomeOffice             0\n",
       "Contract Type          0\n",
       "MProximity             0\n",
       "MTenure                0\n",
       "MManagementLevel       0\n",
       "MBoomerang             0\n",
       "MParentLeave           0\n",
       "MHomeoffice            0\n",
       "MY2018              4090\n",
       "YE2018              3541\n",
       "MY2019              3428\n",
       "ARHappiness         5120\n",
       "ARStay              5120\n",
       "ARResponses         5120\n",
       "DRHappiness         5504\n",
       "DRStay              5504\n",
       "DRResponses         5504\n",
       "TimeJobProfile         0\n",
       "TimeinPosition         0\n",
       "OfficeLocation         1\n",
       "Country                1\n",
       "ModNationality       392\n",
       "2ndNationality         0\n",
       "MOfficeLocation        5\n",
       "MCountry               5\n",
       "Out                    0\n",
       "MTimeJobProfile        0\n",
       "MTimeinPosition        0\n",
       "TopPerformer           0\n",
       "dtype: int64"
      ]
     },
     "execution_count": 148,
     "metadata": {},
     "output_type": "execute_result"
    }
   ],
   "source": [
    "df.isnull().sum()"
   ]
  },
  {
   "cell_type": "code",
   "execution_count": 149,
   "metadata": {},
   "outputs": [],
   "source": [
    "X = df.copy()"
   ]
  },
  {
   "cell_type": "code",
   "execution_count": 150,
   "metadata": {},
   "outputs": [],
   "source": [
    "y = df.pop('Out')"
   ]
  },
  {
   "cell_type": "code",
   "execution_count": 151,
   "metadata": {},
   "outputs": [
    {
     "data": {
      "text/plain": [
       "(5684, 46)"
      ]
     },
     "execution_count": 151,
     "metadata": {},
     "output_type": "execute_result"
    }
   ],
   "source": [
    "X.shape"
   ]
  },
  {
   "cell_type": "code",
   "execution_count": 152,
   "metadata": {},
   "outputs": [
    {
     "data": {
      "text/plain": [
       "(5684,)"
      ]
     },
     "execution_count": 152,
     "metadata": {},
     "output_type": "execute_result"
    }
   ],
   "source": [
    "y.shape"
   ]
  },
  {
   "cell_type": "markdown",
   "metadata": {},
   "source": [
    "## Train - Test Split"
   ]
  },
  {
   "cell_type": "code",
   "execution_count": 153,
   "metadata": {},
   "outputs": [],
   "source": [
    "X_train, X_test, y_train, y_test = train_test_split(X, y, test_size=0.2)"
   ]
  },
  {
   "cell_type": "code",
   "execution_count": 154,
   "metadata": {},
   "outputs": [
    {
     "data": {
      "text/plain": [
       "(4547, 46)"
      ]
     },
     "execution_count": 154,
     "metadata": {},
     "output_type": "execute_result"
    }
   ],
   "source": [
    "X_train.shape"
   ]
  },
  {
   "cell_type": "code",
   "execution_count": 155,
   "metadata": {},
   "outputs": [
    {
     "data": {
      "text/plain": [
       "(1137, 46)"
      ]
     },
     "execution_count": 155,
     "metadata": {},
     "output_type": "execute_result"
    }
   ],
   "source": [
    "X_test.shape"
   ]
  },
  {
   "cell_type": "markdown",
   "metadata": {},
   "source": [
    "---"
   ]
  },
  {
   "cell_type": "markdown",
   "metadata": {},
   "source": [
    "**From the previous notebook, we closed by analyzing individual graphics of the most impactful variables on the prediction of an employee exit from the Organization, and from that analysis, variables Tenure, PayIncrease and Generation were chosen to kickstart our Baseline.**"
   ]
  },
  {
   "cell_type": "markdown",
   "metadata": {},
   "source": [
    "**Considering our end goal being the prediction of an event taking place or not, represented by 0 - not happening and 1 - happening, it is identied as a classification problem. A comparision between Logistic Regression, Random Forest and Gradient Boosting models will take place, by progressively adding complexity to the models in the form of variables.**"
   ]
  },
  {
   "cell_type": "markdown",
   "metadata": {},
   "source": [
    "**Models performance will be evaluated through Cross Validation Scores.**"
   ]
  },
  {
   "cell_type": "markdown",
   "metadata": {},
   "source": [
    "---"
   ]
  },
  {
   "cell_type": "markdown",
   "metadata": {},
   "source": [
    "## Take 1 - Baseline:"
   ]
  },
  {
   "cell_type": "markdown",
   "metadata": {},
   "source": [
    "**Data transformation + Pipeline (Logistic Regression, Random Forest, Gradient Boosting) + Results**"
   ]
  },
  {
   "cell_type": "markdown",
   "metadata": {},
   "source": [
    "**Features: Tenure, PayIncrease, Generation**"
   ]
  },
  {
   "cell_type": "code",
   "execution_count": 156,
   "metadata": {},
   "outputs": [],
   "source": [
    "transf_v1 = ColumnTransformer(\n",
    "    [('cat', OneHotEncoder(drop = 'first'), ['Generation']),\n",
    "     ('null', SimpleImputer (missing_values= np.nan, strategy = 'median'), ['PayIncrease']), \n",
    "     ('other', \"passthrough\", ['Tenure'])\n",
    "    ])"
   ]
  },
  {
   "cell_type": "markdown",
   "metadata": {},
   "source": [
    "### Pipeline: "
   ]
  },
  {
   "cell_type": "markdown",
   "metadata": {},
   "source": [
    "**Logistic Regression:**"
   ]
  },
  {
   "cell_type": "code",
   "execution_count": 157,
   "metadata": {},
   "outputs": [
    {
     "data": {
      "text/plain": [
       "[('Feature Eng',\n",
       "  ColumnTransformer(transformers=[('cat', OneHotEncoder(drop='first'),\n",
       "                                   ['Generation']),\n",
       "                                  ('null', SimpleImputer(strategy='median'),\n",
       "                                   ['PayIncrease']),\n",
       "                                  ('other', 'passthrough', ['Tenure'])])),\n",
       " ('Regressão', LogisticRegression())]"
      ]
     },
     "execution_count": 157,
     "metadata": {},
     "output_type": "execute_result"
    }
   ],
   "source": [
    "model_log = Pipeline([\n",
    "    ('Feature Eng', transf_v1),\n",
    "    ('Regressão', LogisticRegression())\n",
    "])\n",
    "\n",
    "model_log.steps"
   ]
  },
  {
   "cell_type": "markdown",
   "metadata": {},
   "source": [
    "## Results - Cross Validation: "
   ]
  },
  {
   "cell_type": "code",
   "execution_count": 158,
   "metadata": {},
   "outputs": [],
   "source": [
    "results_log = cross_val_score(model_log, X_train, y_train, cv = KFold(n_splits = 5, shuffle = True), scoring = \"roc_auc\")"
   ]
  },
  {
   "cell_type": "code",
   "execution_count": 159,
   "metadata": {},
   "outputs": [],
   "source": [
    "results_log_mean = results_log.mean()\n",
    "results_log_std = results_log.std()"
   ]
  },
  {
   "cell_type": "code",
   "execution_count": 160,
   "metadata": {},
   "outputs": [
    {
     "data": {
      "text/plain": [
       "0.6370347112999883"
      ]
     },
     "execution_count": 160,
     "metadata": {},
     "output_type": "execute_result"
    }
   ],
   "source": [
    "results_log_mean"
   ]
  },
  {
   "cell_type": "code",
   "execution_count": 161,
   "metadata": {},
   "outputs": [
    {
     "data": {
      "text/plain": [
       "0.02244223630569095"
      ]
     },
     "execution_count": 161,
     "metadata": {},
     "output_type": "execute_result"
    }
   ],
   "source": [
    "results_log_std"
   ]
  },
  {
   "cell_type": "markdown",
   "metadata": {},
   "source": [
    "**Random Forest:**"
   ]
  },
  {
   "cell_type": "code",
   "execution_count": 162,
   "metadata": {},
   "outputs": [],
   "source": [
    "model_for = Pipeline([\n",
    "    ('Feature Eng', transf_v1),\n",
    "    ('Random Forest', RandomForestRegressor())\n",
    "])"
   ]
  },
  {
   "cell_type": "code",
   "execution_count": 163,
   "metadata": {},
   "outputs": [],
   "source": [
    "results_for = cross_val_score(model_for, X_train, y_train, cv = KFold(n_splits = 5, shuffle = True), scoring = \"roc_auc\")"
   ]
  },
  {
   "cell_type": "code",
   "execution_count": 164,
   "metadata": {},
   "outputs": [],
   "source": [
    "results_for_mean = results_for.mean()\n",
    "results_for_std = results_for.std()"
   ]
  },
  {
   "cell_type": "code",
   "execution_count": 165,
   "metadata": {},
   "outputs": [
    {
     "data": {
      "text/plain": [
       "0.6807048150418487"
      ]
     },
     "execution_count": 165,
     "metadata": {},
     "output_type": "execute_result"
    }
   ],
   "source": [
    "results_for_mean"
   ]
  },
  {
   "cell_type": "code",
   "execution_count": 166,
   "metadata": {},
   "outputs": [
    {
     "data": {
      "text/plain": [
       "0.029880307767149783"
      ]
     },
     "execution_count": 166,
     "metadata": {},
     "output_type": "execute_result"
    }
   ],
   "source": [
    "results_for_std"
   ]
  },
  {
   "cell_type": "markdown",
   "metadata": {},
   "source": [
    "**Gradient Boosting:**"
   ]
  },
  {
   "cell_type": "code",
   "execution_count": 167,
   "metadata": {},
   "outputs": [],
   "source": [
    "model_boost = Pipeline([\n",
    "    ('Feature Eng', transf_v1),\n",
    "    ('Gradient Boosting', GradientBoostingClassifier())\n",
    "])"
   ]
  },
  {
   "cell_type": "code",
   "execution_count": 168,
   "metadata": {},
   "outputs": [],
   "source": [
    "results_boost = cross_val_score(model_boost, X_train, y_train, cv = KFold(n_splits = 5, shuffle = True), scoring = \"roc_auc\")"
   ]
  },
  {
   "cell_type": "code",
   "execution_count": 169,
   "metadata": {},
   "outputs": [],
   "source": [
    "results_boost_mean = results_boost.mean()\n",
    "results_boost_std = results_boost.std()"
   ]
  },
  {
   "cell_type": "code",
   "execution_count": 170,
   "metadata": {},
   "outputs": [
    {
     "data": {
      "text/plain": [
       "0.7156251351799721"
      ]
     },
     "execution_count": 170,
     "metadata": {},
     "output_type": "execute_result"
    }
   ],
   "source": [
    "results_boost_mean"
   ]
  },
  {
   "cell_type": "code",
   "execution_count": 171,
   "metadata": {},
   "outputs": [
    {
     "data": {
      "text/plain": [
       "0.018514017626958455"
      ]
     },
     "execution_count": 171,
     "metadata": {},
     "output_type": "execute_result"
    }
   ],
   "source": [
    "results_boost_std"
   ]
  },
  {
   "cell_type": "markdown",
   "metadata": {},
   "source": [
    "---"
   ]
  },
  {
   "cell_type": "markdown",
   "metadata": {},
   "source": [
    "## Take 2"
   ]
  },
  {
   "cell_type": "markdown",
   "metadata": {},
   "source": [
    "**Features: Baseline(Tenure, PayIncrease, Generation) + Gender**"
   ]
  },
  {
   "cell_type": "code",
   "execution_count": 172,
   "metadata": {},
   "outputs": [],
   "source": [
    "transf_v2 = ColumnTransformer(\n",
    "    [('cat', OneHotEncoder(drop = 'first'), ['Generation', 'Gender']),\n",
    "     ('null', SimpleImputer (missing_values= np.nan, strategy = 'median'), ['PayIncrease']), \n",
    "     ('other', \"passthrough\", ['Tenure'])\n",
    "    ])"
   ]
  },
  {
   "cell_type": "markdown",
   "metadata": {},
   "source": [
    "**Logistic Regression:**"
   ]
  },
  {
   "cell_type": "code",
   "execution_count": 173,
   "metadata": {},
   "outputs": [
    {
     "data": {
      "text/plain": [
       "[('Feature Eng',\n",
       "  ColumnTransformer(transformers=[('cat', OneHotEncoder(drop='first'),\n",
       "                                   ['Generation', 'Gender']),\n",
       "                                  ('null', SimpleImputer(strategy='median'),\n",
       "                                   ['PayIncrease']),\n",
       "                                  ('other', 'passthrough', ['Tenure'])])),\n",
       " ('Regressão', LogisticRegression())]"
      ]
     },
     "execution_count": 173,
     "metadata": {},
     "output_type": "execute_result"
    }
   ],
   "source": [
    "model_log_2 = Pipeline([\n",
    "    ('Feature Eng', transf_v2),\n",
    "    ('Regressão', LogisticRegression())\n",
    "])\n",
    "\n",
    "model_log_2.steps"
   ]
  },
  {
   "cell_type": "markdown",
   "metadata": {},
   "source": [
    "**Results:**"
   ]
  },
  {
   "cell_type": "code",
   "execution_count": 174,
   "metadata": {},
   "outputs": [
    {
     "name": "stderr",
     "output_type": "stream",
     "text": [
      "/Users/ElsaSilva/opt/anaconda3/lib/python3.8/site-packages/sklearn/linear_model/_logistic.py:762: ConvergenceWarning: lbfgs failed to converge (status=1):\n",
      "STOP: TOTAL NO. of ITERATIONS REACHED LIMIT.\n",
      "\n",
      "Increase the number of iterations (max_iter) or scale the data as shown in:\n",
      "    https://scikit-learn.org/stable/modules/preprocessing.html\n",
      "Please also refer to the documentation for alternative solver options:\n",
      "    https://scikit-learn.org/stable/modules/linear_model.html#logistic-regression\n",
      "  n_iter_i = _check_optimize_result(\n",
      "/Users/ElsaSilva/opt/anaconda3/lib/python3.8/site-packages/sklearn/linear_model/_logistic.py:762: ConvergenceWarning: lbfgs failed to converge (status=1):\n",
      "STOP: TOTAL NO. of ITERATIONS REACHED LIMIT.\n",
      "\n",
      "Increase the number of iterations (max_iter) or scale the data as shown in:\n",
      "    https://scikit-learn.org/stable/modules/preprocessing.html\n",
      "Please also refer to the documentation for alternative solver options:\n",
      "    https://scikit-learn.org/stable/modules/linear_model.html#logistic-regression\n",
      "  n_iter_i = _check_optimize_result(\n"
     ]
    }
   ],
   "source": [
    "results_log_2 = cross_val_score(model_log_2, X_train, y_train, cv = KFold(n_splits = 5, shuffle = True), scoring = \"roc_auc\")\n",
    "results_log_2_mean = results_log_2.mean()\n",
    "results_log_2_std = results_log_2.std()"
   ]
  },
  {
   "cell_type": "code",
   "execution_count": 175,
   "metadata": {},
   "outputs": [
    {
     "data": {
      "text/plain": [
       "0.633003101534066"
      ]
     },
     "execution_count": 175,
     "metadata": {},
     "output_type": "execute_result"
    }
   ],
   "source": [
    "results_log_2_mean"
   ]
  },
  {
   "cell_type": "code",
   "execution_count": 176,
   "metadata": {},
   "outputs": [
    {
     "data": {
      "text/plain": [
       "0.024258101767830945"
      ]
     },
     "execution_count": 176,
     "metadata": {},
     "output_type": "execute_result"
    }
   ],
   "source": [
    "results_log_2_std"
   ]
  },
  {
   "cell_type": "markdown",
   "metadata": {},
   "source": [
    "**Random Forest:**"
   ]
  },
  {
   "cell_type": "code",
   "execution_count": 177,
   "metadata": {},
   "outputs": [
    {
     "data": {
      "text/plain": [
       "[('Feature Eng',\n",
       "  ColumnTransformer(transformers=[('cat', OneHotEncoder(drop='first'),\n",
       "                                   ['Generation', 'Gender']),\n",
       "                                  ('null', SimpleImputer(strategy='median'),\n",
       "                                   ['PayIncrease']),\n",
       "                                  ('other', 'passthrough', ['Tenure'])])),\n",
       " ('Random Forest', RandomForestRegressor())]"
      ]
     },
     "execution_count": 177,
     "metadata": {},
     "output_type": "execute_result"
    }
   ],
   "source": [
    "model_for_2 = Pipeline([\n",
    "    ('Feature Eng', transf_v2),\n",
    "    ('Random Forest', RandomForestRegressor())\n",
    "     ])\n",
    "\n",
    "model_for_2.steps"
   ]
  },
  {
   "cell_type": "code",
   "execution_count": 178,
   "metadata": {},
   "outputs": [],
   "source": [
    "results_for_2 = cross_val_score(model_for_2, X_train, y_train, cv = KFold(n_splits = 5, shuffle = True), scoring = \"roc_auc\")\n",
    "results_for_2_mean = results_for_2.mean()\n",
    "results_for_2_std = results_for_2.std()"
   ]
  },
  {
   "cell_type": "code",
   "execution_count": 179,
   "metadata": {},
   "outputs": [
    {
     "data": {
      "text/plain": [
       "0.6767915459760753"
      ]
     },
     "execution_count": 179,
     "metadata": {},
     "output_type": "execute_result"
    }
   ],
   "source": [
    "results_for_2_mean"
   ]
  },
  {
   "cell_type": "code",
   "execution_count": 180,
   "metadata": {},
   "outputs": [
    {
     "data": {
      "text/plain": [
       "0.006656060569364297"
      ]
     },
     "execution_count": 180,
     "metadata": {},
     "output_type": "execute_result"
    }
   ],
   "source": [
    "results_for_2_std"
   ]
  },
  {
   "cell_type": "markdown",
   "metadata": {},
   "source": [
    "**Gradient Boosting:**"
   ]
  },
  {
   "cell_type": "code",
   "execution_count": 181,
   "metadata": {},
   "outputs": [
    {
     "data": {
      "text/plain": [
       "[('Feature Eng',\n",
       "  ColumnTransformer(transformers=[('cat', OneHotEncoder(drop='first'),\n",
       "                                   ['Generation', 'Gender']),\n",
       "                                  ('null', SimpleImputer(strategy='median'),\n",
       "                                   ['PayIncrease']),\n",
       "                                  ('other', 'passthrough', ['Tenure'])])),\n",
       " ('Gradient Boosting', GradientBoostingClassifier())]"
      ]
     },
     "execution_count": 181,
     "metadata": {},
     "output_type": "execute_result"
    }
   ],
   "source": [
    "model_boost_2 = Pipeline([\n",
    "    ('Feature Eng', transf_v2),\n",
    "    ('Gradient Boosting', GradientBoostingClassifier())\n",
    "])\n",
    "\n",
    "model_boost_2.steps"
   ]
  },
  {
   "cell_type": "markdown",
   "metadata": {},
   "source": [
    "**Results:**"
   ]
  },
  {
   "cell_type": "code",
   "execution_count": 182,
   "metadata": {},
   "outputs": [],
   "source": [
    "results_boost_2 = cross_val_score(model_boost_2, X_train, y_train, cv = KFold(n_splits = 5, shuffle = True), scoring = \"roc_auc\")\n",
    "results_boost_2_mean = results_boost_2.mean()\n",
    "results_boost_2_std = results_boost_2.std()"
   ]
  },
  {
   "cell_type": "code",
   "execution_count": 183,
   "metadata": {},
   "outputs": [
    {
     "data": {
      "text/plain": [
       "0.7192689180033792"
      ]
     },
     "execution_count": 183,
     "metadata": {},
     "output_type": "execute_result"
    }
   ],
   "source": [
    "results_boost_2_mean"
   ]
  },
  {
   "cell_type": "code",
   "execution_count": 184,
   "metadata": {},
   "outputs": [
    {
     "data": {
      "text/plain": [
       "0.0070339652018757285"
      ]
     },
     "execution_count": 184,
     "metadata": {},
     "output_type": "execute_result"
    }
   ],
   "source": [
    "results_boost_2_std"
   ]
  },
  {
   "cell_type": "markdown",
   "metadata": {},
   "source": [
    "---"
   ]
  },
  {
   "cell_type": "markdown",
   "metadata": {},
   "source": [
    "## Take 3 "
   ]
  },
  {
   "cell_type": "markdown",
   "metadata": {},
   "source": [
    "**Features: Baseline(Tenure, PayIncrease, Generation) + Gender + Dependents**"
   ]
  },
  {
   "cell_type": "code",
   "execution_count": 185,
   "metadata": {},
   "outputs": [],
   "source": [
    "transf_v3 = ColumnTransformer(\n",
    "    [('cat', OneHotEncoder(drop = 'first'), ['Generation', 'Gender']),\n",
    "     ('null', SimpleImputer (missing_values= np.nan, strategy = 'median'), ['PayIncrease']), \n",
    "     ('other', \"passthrough\", ['Tenure', 'Dependents'])\n",
    "    ])"
   ]
  },
  {
   "cell_type": "markdown",
   "metadata": {},
   "source": [
    "**Logistic Regression:**"
   ]
  },
  {
   "cell_type": "code",
   "execution_count": 186,
   "metadata": {},
   "outputs": [
    {
     "data": {
      "text/plain": [
       "[('Feature Eng',\n",
       "  ColumnTransformer(transformers=[('cat', OneHotEncoder(drop='first'),\n",
       "                                   ['Generation', 'Gender']),\n",
       "                                  ('null', SimpleImputer(strategy='median'),\n",
       "                                   ['PayIncrease']),\n",
       "                                  ('other', 'passthrough',\n",
       "                                   ['Tenure', 'Dependents'])])),\n",
       " ('Regressão', LogisticRegression())]"
      ]
     },
     "execution_count": 186,
     "metadata": {},
     "output_type": "execute_result"
    }
   ],
   "source": [
    "model_log_3 = Pipeline([\n",
    "    ('Feature Eng', transf_v3),\n",
    "    ('Regressão', LogisticRegression())\n",
    "])\n",
    "\n",
    "model_log_3.steps"
   ]
  },
  {
   "cell_type": "markdown",
   "metadata": {},
   "source": [
    "**Results:**"
   ]
  },
  {
   "cell_type": "code",
   "execution_count": 187,
   "metadata": {},
   "outputs": [
    {
     "name": "stderr",
     "output_type": "stream",
     "text": [
      "/Users/ElsaSilva/opt/anaconda3/lib/python3.8/site-packages/sklearn/linear_model/_logistic.py:762: ConvergenceWarning: lbfgs failed to converge (status=1):\n",
      "STOP: TOTAL NO. of ITERATIONS REACHED LIMIT.\n",
      "\n",
      "Increase the number of iterations (max_iter) or scale the data as shown in:\n",
      "    https://scikit-learn.org/stable/modules/preprocessing.html\n",
      "Please also refer to the documentation for alternative solver options:\n",
      "    https://scikit-learn.org/stable/modules/linear_model.html#logistic-regression\n",
      "  n_iter_i = _check_optimize_result(\n",
      "/Users/ElsaSilva/opt/anaconda3/lib/python3.8/site-packages/sklearn/linear_model/_logistic.py:762: ConvergenceWarning: lbfgs failed to converge (status=1):\n",
      "STOP: TOTAL NO. of ITERATIONS REACHED LIMIT.\n",
      "\n",
      "Increase the number of iterations (max_iter) or scale the data as shown in:\n",
      "    https://scikit-learn.org/stable/modules/preprocessing.html\n",
      "Please also refer to the documentation for alternative solver options:\n",
      "    https://scikit-learn.org/stable/modules/linear_model.html#logistic-regression\n",
      "  n_iter_i = _check_optimize_result(\n"
     ]
    }
   ],
   "source": [
    "results_log_3 = cross_val_score(model_log_3, X_train, y_train, cv = KFold(n_splits = 5, shuffle = True), scoring = \"roc_auc\")\n",
    "results_log_3_mean = results_log_3.mean()\n",
    "results_log_3_std = results_log_3.std()"
   ]
  },
  {
   "cell_type": "markdown",
   "metadata": {},
   "source": [
    "#### Note: Features \"Tenure\" + \"Dependents\" - have different scales. It generates problems in the Logistic Regression modeling.\n",
    "\n",
    "#### Therefore, and given the significant drop in model performance, we decided to abandon the logistic approach and focus exclusively on the Random Forest and Gradient Boosting classification models."
   ]
  },
  {
   "cell_type": "markdown",
   "metadata": {},
   "source": [
    "---"
   ]
  },
  {
   "cell_type": "markdown",
   "metadata": {},
   "source": [
    "**Random Forest:**"
   ]
  },
  {
   "cell_type": "code",
   "execution_count": 188,
   "metadata": {},
   "outputs": [
    {
     "data": {
      "text/plain": [
       "[('Feature Eng',\n",
       "  ColumnTransformer(transformers=[('cat', OneHotEncoder(drop='first'),\n",
       "                                   ['Generation', 'Gender']),\n",
       "                                  ('null', SimpleImputer(strategy='median'),\n",
       "                                   ['PayIncrease']),\n",
       "                                  ('other', 'passthrough',\n",
       "                                   ['Tenure', 'Dependents'])])),\n",
       " ('Random Forest', RandomForestRegressor())]"
      ]
     },
     "execution_count": 188,
     "metadata": {},
     "output_type": "execute_result"
    }
   ],
   "source": [
    "model_for_3 = Pipeline([\n",
    "    ('Feature Eng', transf_v3),\n",
    "    ('Random Forest', RandomForestRegressor())\n",
    "     ])\n",
    "\n",
    "model_for_3.steps"
   ]
  },
  {
   "cell_type": "markdown",
   "metadata": {},
   "source": [
    "**Results:**"
   ]
  },
  {
   "cell_type": "code",
   "execution_count": 189,
   "metadata": {},
   "outputs": [],
   "source": [
    "results_for_3 = cross_val_score(model_for_3, X_train, y_train, cv = KFold(n_splits = 5, shuffle = True), scoring = \"roc_auc\")\n",
    "results_for_3_mean = results_for_3.mean()\n",
    "results_for_3_std = results_for_3.std()"
   ]
  },
  {
   "cell_type": "code",
   "execution_count": 190,
   "metadata": {},
   "outputs": [
    {
     "data": {
      "text/plain": [
       "0.684531118559078"
      ]
     },
     "execution_count": 190,
     "metadata": {},
     "output_type": "execute_result"
    }
   ],
   "source": [
    "results_for_3_mean"
   ]
  },
  {
   "cell_type": "code",
   "execution_count": 191,
   "metadata": {},
   "outputs": [
    {
     "data": {
      "text/plain": [
       "0.016850496027827157"
      ]
     },
     "execution_count": 191,
     "metadata": {},
     "output_type": "execute_result"
    }
   ],
   "source": [
    "results_for_3_std"
   ]
  },
  {
   "cell_type": "markdown",
   "metadata": {},
   "source": [
    "**Gradient Boosting:**"
   ]
  },
  {
   "cell_type": "code",
   "execution_count": 192,
   "metadata": {},
   "outputs": [
    {
     "data": {
      "text/plain": [
       "[('Feature Eng',\n",
       "  ColumnTransformer(transformers=[('cat', OneHotEncoder(drop='first'),\n",
       "                                   ['Generation', 'Gender']),\n",
       "                                  ('null', SimpleImputer(strategy='median'),\n",
       "                                   ['PayIncrease']),\n",
       "                                  ('other', 'passthrough',\n",
       "                                   ['Tenure', 'Dependents'])])),\n",
       " ('Gradient Boosting', GradientBoostingClassifier())]"
      ]
     },
     "execution_count": 192,
     "metadata": {},
     "output_type": "execute_result"
    }
   ],
   "source": [
    "model_boost_3 = Pipeline([\n",
    "    ('Feature Eng', transf_v3),\n",
    "    ('Gradient Boosting', GradientBoostingClassifier())\n",
    "])\n",
    "\n",
    "model_boost_3.steps"
   ]
  },
  {
   "cell_type": "markdown",
   "metadata": {},
   "source": [
    "**Results:**"
   ]
  },
  {
   "cell_type": "code",
   "execution_count": 193,
   "metadata": {},
   "outputs": [],
   "source": [
    "results_boost_3 = cross_val_score(model_boost_3, X_train, y_train, cv = KFold(n_splits = 5, shuffle = True), scoring = \"roc_auc\")\n",
    "results_boost_3_mean = results_boost_3.mean()\n",
    "results_boost_3_std = results_boost_3.std()"
   ]
  },
  {
   "cell_type": "code",
   "execution_count": 194,
   "metadata": {},
   "outputs": [
    {
     "data": {
      "text/plain": [
       "0.7225942657851662"
      ]
     },
     "execution_count": 194,
     "metadata": {},
     "output_type": "execute_result"
    }
   ],
   "source": [
    "results_boost_3_mean"
   ]
  },
  {
   "cell_type": "code",
   "execution_count": 195,
   "metadata": {},
   "outputs": [
    {
     "data": {
      "text/plain": [
       "0.0083430799227458"
      ]
     },
     "execution_count": 195,
     "metadata": {},
     "output_type": "execute_result"
    }
   ],
   "source": [
    "results_boost_3_std"
   ]
  },
  {
   "cell_type": "markdown",
   "metadata": {},
   "source": [
    "---"
   ]
  },
  {
   "cell_type": "markdown",
   "metadata": {},
   "source": [
    "## Take 4: "
   ]
  },
  {
   "cell_type": "markdown",
   "metadata": {},
   "source": [
    "**Features: Baseline(Tenure, PayIncrease, Generation) + Gender + Dependents + TimeJobProfile**"
   ]
  },
  {
   "cell_type": "code",
   "execution_count": 196,
   "metadata": {},
   "outputs": [],
   "source": [
    "transf_v4 = ColumnTransformer(\n",
    "    [('cat', OneHotEncoder(drop = 'first'), ['Generation', 'Gender']),\n",
    "     ('null', SimpleImputer (missing_values= np.nan, strategy = 'median'), ['PayIncrease']), \n",
    "     ('other', \"passthrough\", ['Tenure', 'Dependents', 'TimeJobProfile'])\n",
    "    ])"
   ]
  },
  {
   "cell_type": "markdown",
   "metadata": {},
   "source": [
    "**Random Forest:**"
   ]
  },
  {
   "cell_type": "code",
   "execution_count": 197,
   "metadata": {},
   "outputs": [
    {
     "data": {
      "text/plain": [
       "[('Feature Eng',\n",
       "  ColumnTransformer(transformers=[('cat', OneHotEncoder(drop='first'),\n",
       "                                   ['Generation', 'Gender']),\n",
       "                                  ('null', SimpleImputer(strategy='median'),\n",
       "                                   ['PayIncrease']),\n",
       "                                  ('other', 'passthrough',\n",
       "                                   ['Tenure', 'Dependents', 'TimeJobProfile'])])),\n",
       " ('Random Forest', RandomForestRegressor())]"
      ]
     },
     "execution_count": 197,
     "metadata": {},
     "output_type": "execute_result"
    }
   ],
   "source": [
    "model_for_4 = Pipeline([\n",
    "    ('Feature Eng', transf_v4),\n",
    "    ('Random Forest', RandomForestRegressor())\n",
    "     ])\n",
    "\n",
    "model_for_4.steps"
   ]
  },
  {
   "cell_type": "markdown",
   "metadata": {},
   "source": [
    "**Results:**"
   ]
  },
  {
   "cell_type": "code",
   "execution_count": 198,
   "metadata": {},
   "outputs": [],
   "source": [
    "results_for_4 = cross_val_score(model_for_4, X_train, y_train, cv = KFold(n_splits = 5, shuffle = True), scoring = \"roc_auc\")\n",
    "results_for_4_mean = results_for_4.mean()\n",
    "results_for_4_std = results_for_4.std()"
   ]
  },
  {
   "cell_type": "code",
   "execution_count": 199,
   "metadata": {},
   "outputs": [
    {
     "data": {
      "text/plain": [
       "0.8785698942120606"
      ]
     },
     "execution_count": 199,
     "metadata": {},
     "output_type": "execute_result"
    }
   ],
   "source": [
    "results_for_4_mean"
   ]
  },
  {
   "cell_type": "code",
   "execution_count": 200,
   "metadata": {},
   "outputs": [
    {
     "data": {
      "text/plain": [
       "0.0067432171591416444"
      ]
     },
     "execution_count": 200,
     "metadata": {},
     "output_type": "execute_result"
    }
   ],
   "source": [
    "results_for_4_std"
   ]
  },
  {
   "cell_type": "markdown",
   "metadata": {},
   "source": [
    "**Gradient Boosting:**"
   ]
  },
  {
   "cell_type": "code",
   "execution_count": 201,
   "metadata": {},
   "outputs": [
    {
     "data": {
      "text/plain": [
       "[('Feature Eng',\n",
       "  ColumnTransformer(transformers=[('cat', OneHotEncoder(drop='first'),\n",
       "                                   ['Generation', 'Gender']),\n",
       "                                  ('null', SimpleImputer(strategy='median'),\n",
       "                                   ['PayIncrease']),\n",
       "                                  ('other', 'passthrough',\n",
       "                                   ['Tenure', 'Dependents', 'TimeJobProfile'])])),\n",
       " ('Gradient Boosting', GradientBoostingClassifier())]"
      ]
     },
     "execution_count": 201,
     "metadata": {},
     "output_type": "execute_result"
    }
   ],
   "source": [
    "model_boost_4 = Pipeline([\n",
    "    ('Feature Eng', transf_v4),\n",
    "    ('Gradient Boosting', GradientBoostingClassifier())\n",
    "])\n",
    "\n",
    "model_boost_4.steps"
   ]
  },
  {
   "cell_type": "markdown",
   "metadata": {},
   "source": [
    "**Results:**"
   ]
  },
  {
   "cell_type": "code",
   "execution_count": 202,
   "metadata": {},
   "outputs": [],
   "source": [
    "results_boost_4 = cross_val_score(model_boost_4, X_train, y_train, cv = KFold(n_splits = 5, shuffle = True), scoring = \"roc_auc\")\n",
    "results_boost_4_mean = results_boost_4.mean()\n",
    "results_boost_4_std = results_boost_4.std()"
   ]
  },
  {
   "cell_type": "code",
   "execution_count": 203,
   "metadata": {},
   "outputs": [
    {
     "data": {
      "text/plain": [
       "0.8624076736289963"
      ]
     },
     "execution_count": 203,
     "metadata": {},
     "output_type": "execute_result"
    }
   ],
   "source": [
    "results_boost_4_mean"
   ]
  },
  {
   "cell_type": "code",
   "execution_count": 204,
   "metadata": {},
   "outputs": [
    {
     "data": {
      "text/plain": [
       "0.01356310948737609"
      ]
     },
     "execution_count": 204,
     "metadata": {},
     "output_type": "execute_result"
    }
   ],
   "source": [
    "results_boost_4_std"
   ]
  },
  {
   "cell_type": "markdown",
   "metadata": {},
   "source": [
    "---"
   ]
  },
  {
   "cell_type": "markdown",
   "metadata": {},
   "source": [
    "## Take 5:"
   ]
  },
  {
   "cell_type": "markdown",
   "metadata": {},
   "source": [
    "**Features: Baseline(Tenure, PayIncrease, Generation) + Gender + Dependents + TimeJobProfile + MProximity**"
   ]
  },
  {
   "cell_type": "code",
   "execution_count": 205,
   "metadata": {},
   "outputs": [],
   "source": [
    "transf_v5 = ColumnTransformer(\n",
    "    [('cat', OneHotEncoder(drop = 'first'), ['Generation', 'Gender', 'MProximity']),\n",
    "     ('null', SimpleImputer (missing_values= np.nan, strategy = 'median'), ['PayIncrease']), \n",
    "     ('other', \"passthrough\", ['Tenure', 'Dependents', 'TimeJobProfile'])\n",
    "    ])"
   ]
  },
  {
   "cell_type": "markdown",
   "metadata": {},
   "source": [
    "**Random Forest:**"
   ]
  },
  {
   "cell_type": "code",
   "execution_count": 206,
   "metadata": {},
   "outputs": [
    {
     "data": {
      "text/plain": [
       "[('Feature Eng',\n",
       "  ColumnTransformer(transformers=[('cat', OneHotEncoder(drop='first'),\n",
       "                                   ['Generation', 'Gender', 'MProximity']),\n",
       "                                  ('null', SimpleImputer(strategy='median'),\n",
       "                                   ['PayIncrease']),\n",
       "                                  ('other', 'passthrough',\n",
       "                                   ['Tenure', 'Dependents', 'TimeJobProfile'])])),\n",
       " ('Random Forest', RandomForestRegressor())]"
      ]
     },
     "execution_count": 206,
     "metadata": {},
     "output_type": "execute_result"
    }
   ],
   "source": [
    "model_for_5 = Pipeline([\n",
    "    ('Feature Eng', transf_v5),\n",
    "    ('Random Forest', RandomForestRegressor())\n",
    "     ])\n",
    "\n",
    "model_for_5.steps"
   ]
  },
  {
   "cell_type": "markdown",
   "metadata": {},
   "source": [
    "**Results:**"
   ]
  },
  {
   "cell_type": "code",
   "execution_count": 207,
   "metadata": {},
   "outputs": [],
   "source": [
    "results_for_5 = cross_val_score(model_for_5, X_train, y_train, cv = KFold(n_splits = 5, shuffle = True), scoring = \"roc_auc\")\n",
    "results_for_5_mean = results_for_5.mean()\n",
    "results_for_5_std = results_for_5.std()"
   ]
  },
  {
   "cell_type": "code",
   "execution_count": 208,
   "metadata": {},
   "outputs": [
    {
     "data": {
      "text/plain": [
       "0.8847964882478001"
      ]
     },
     "execution_count": 208,
     "metadata": {},
     "output_type": "execute_result"
    }
   ],
   "source": [
    "results_for_5_mean"
   ]
  },
  {
   "cell_type": "code",
   "execution_count": 209,
   "metadata": {},
   "outputs": [
    {
     "data": {
      "text/plain": [
       "0.008096366158671844"
      ]
     },
     "execution_count": 209,
     "metadata": {},
     "output_type": "execute_result"
    }
   ],
   "source": [
    "results_for_5_std"
   ]
  },
  {
   "cell_type": "markdown",
   "metadata": {},
   "source": [
    "**Gradient Boosting:**"
   ]
  },
  {
   "cell_type": "code",
   "execution_count": 210,
   "metadata": {},
   "outputs": [
    {
     "data": {
      "text/plain": [
       "[('Feature Eng',\n",
       "  ColumnTransformer(transformers=[('cat', OneHotEncoder(drop='first'),\n",
       "                                   ['Generation', 'Gender', 'MProximity']),\n",
       "                                  ('null', SimpleImputer(strategy='median'),\n",
       "                                   ['PayIncrease']),\n",
       "                                  ('other', 'passthrough',\n",
       "                                   ['Tenure', 'Dependents', 'TimeJobProfile'])])),\n",
       " ('Gradient Boosting', GradientBoostingClassifier())]"
      ]
     },
     "execution_count": 210,
     "metadata": {},
     "output_type": "execute_result"
    }
   ],
   "source": [
    "model_boost_5 = Pipeline([\n",
    "    ('Feature Eng', transf_v5),\n",
    "    ('Gradient Boosting', GradientBoostingClassifier())\n",
    "])\n",
    "\n",
    "model_boost_5.steps"
   ]
  },
  {
   "cell_type": "markdown",
   "metadata": {},
   "source": [
    "**Results:**"
   ]
  },
  {
   "cell_type": "code",
   "execution_count": 211,
   "metadata": {},
   "outputs": [],
   "source": [
    "results_boost_5 = cross_val_score(model_boost_5, X_train, y_train, cv = KFold(n_splits = 5, shuffle = True), scoring = \"roc_auc\")\n",
    "results_boost_5_mean = results_boost_5.mean()\n",
    "results_boost_5_std = results_boost_5.std()"
   ]
  },
  {
   "cell_type": "code",
   "execution_count": 212,
   "metadata": {},
   "outputs": [
    {
     "data": {
      "text/plain": [
       "0.8614717974868066"
      ]
     },
     "execution_count": 212,
     "metadata": {},
     "output_type": "execute_result"
    }
   ],
   "source": [
    "results_boost_5_mean"
   ]
  },
  {
   "cell_type": "code",
   "execution_count": 213,
   "metadata": {},
   "outputs": [
    {
     "data": {
      "text/plain": [
       "0.012676185955636765"
      ]
     },
     "execution_count": 213,
     "metadata": {},
     "output_type": "execute_result"
    }
   ],
   "source": [
    "results_boost_5_std"
   ]
  },
  {
   "cell_type": "markdown",
   "metadata": {},
   "source": [
    "## Take 6:"
   ]
  },
  {
   "cell_type": "markdown",
   "metadata": {},
   "source": [
    "**Features: Baseline(Tenure, PayIncrease, Generation) + Gender + Dependents + TimeJobProfile + MProximity + TimeinPosition**"
   ]
  },
  {
   "cell_type": "code",
   "execution_count": 214,
   "metadata": {},
   "outputs": [],
   "source": [
    "transf_v6 = ColumnTransformer(\n",
    "    [('cat', OneHotEncoder(drop = 'first'), ['Generation', 'Gender', 'MProximity']),\n",
    "     ('null', SimpleImputer (missing_values= np.nan, strategy = 'median'), ['PayIncrease']), \n",
    "     ('other', \"passthrough\", ['Tenure', 'Dependents', 'TimeJobProfile', 'TimeinPosition'])\n",
    "    ])"
   ]
  },
  {
   "cell_type": "markdown",
   "metadata": {},
   "source": [
    "**Random Forest:**"
   ]
  },
  {
   "cell_type": "code",
   "execution_count": 215,
   "metadata": {},
   "outputs": [
    {
     "data": {
      "text/plain": [
       "[('Feature Eng',\n",
       "  ColumnTransformer(transformers=[('cat', OneHotEncoder(drop='first'),\n",
       "                                   ['Generation', 'Gender', 'MProximity']),\n",
       "                                  ('null', SimpleImputer(strategy='median'),\n",
       "                                   ['PayIncrease']),\n",
       "                                  ('other', 'passthrough',\n",
       "                                   ['Tenure', 'Dependents', 'TimeJobProfile',\n",
       "                                    'TimeinPosition'])])),\n",
       " ('Random Forest', RandomForestRegressor())]"
      ]
     },
     "execution_count": 215,
     "metadata": {},
     "output_type": "execute_result"
    }
   ],
   "source": [
    "model_for_6 = Pipeline([\n",
    "    ('Feature Eng', transf_v6),\n",
    "    ('Random Forest', RandomForestRegressor())\n",
    "])\n",
    "\n",
    "model_for_6.steps"
   ]
  },
  {
   "cell_type": "markdown",
   "metadata": {},
   "source": [
    "**Results:**"
   ]
  },
  {
   "cell_type": "code",
   "execution_count": 216,
   "metadata": {},
   "outputs": [],
   "source": [
    "results_for_6 = cross_val_score(model_for_6, X_train, y_train, cv = KFold(n_splits = 5, shuffle = True), scoring = \"roc_auc\")\n",
    "results_for_6_mean = results_for_6.mean()\n",
    "results_for_6_std = results_for_6.std()"
   ]
  },
  {
   "cell_type": "code",
   "execution_count": 217,
   "metadata": {},
   "outputs": [
    {
     "data": {
      "text/plain": [
       "0.9785555678554445"
      ]
     },
     "execution_count": 217,
     "metadata": {},
     "output_type": "execute_result"
    }
   ],
   "source": [
    "results_for_6_mean"
   ]
  },
  {
   "cell_type": "code",
   "execution_count": 218,
   "metadata": {},
   "outputs": [
    {
     "data": {
      "text/plain": [
       "0.006355362466685987"
      ]
     },
     "execution_count": 218,
     "metadata": {},
     "output_type": "execute_result"
    }
   ],
   "source": [
    "results_for_6_std"
   ]
  },
  {
   "cell_type": "markdown",
   "metadata": {},
   "source": [
    "**Gradient Boosting:**"
   ]
  },
  {
   "cell_type": "code",
   "execution_count": 219,
   "metadata": {},
   "outputs": [],
   "source": [
    "model_boost_6 = Pipeline([\n",
    "    ('Feature Eng', transf_v6),\n",
    "    ('Gradient Boosting', GradientBoostingClassifier())\n",
    "])"
   ]
  },
  {
   "cell_type": "markdown",
   "metadata": {},
   "source": [
    "**Results:**"
   ]
  },
  {
   "cell_type": "code",
   "execution_count": 220,
   "metadata": {},
   "outputs": [],
   "source": [
    "results_boost_6 = cross_val_score(model_boost_6, X_train, y_train, cv = KFold(n_splits = 5, shuffle = True), scoring = \"roc_auc\")\n",
    "results_boost_6_mean = results_boost_6.mean()\n",
    "results_boost_6_std = results_boost_6.std()"
   ]
  },
  {
   "cell_type": "code",
   "execution_count": 221,
   "metadata": {},
   "outputs": [
    {
     "data": {
      "text/plain": [
       "0.9452339269803843"
      ]
     },
     "execution_count": 221,
     "metadata": {},
     "output_type": "execute_result"
    }
   ],
   "source": [
    "results_boost_6_mean"
   ]
  },
  {
   "cell_type": "code",
   "execution_count": 222,
   "metadata": {},
   "outputs": [
    {
     "data": {
      "text/plain": [
       "0.009744794068430302"
      ]
     },
     "execution_count": 222,
     "metadata": {},
     "output_type": "execute_result"
    }
   ],
   "source": [
    "results_boost_6_std"
   ]
  },
  {
   "cell_type": "markdown",
   "metadata": {},
   "source": [
    "## Take 6.1 - Feature Importance analysis with permutation_importance()"
   ]
  },
  {
   "cell_type": "code",
   "execution_count": 223,
   "metadata": {},
   "outputs": [
    {
     "data": {
      "text/plain": [
       "Pipeline(steps=[('Feature Eng',\n",
       "                 ColumnTransformer(transformers=[('cat',\n",
       "                                                  OneHotEncoder(drop='first'),\n",
       "                                                  ['Generation', 'Gender',\n",
       "                                                   'MProximity']),\n",
       "                                                 ('null',\n",
       "                                                  SimpleImputer(strategy='median'),\n",
       "                                                  ['PayIncrease']),\n",
       "                                                 ('other', 'passthrough',\n",
       "                                                  ['Tenure', 'Dependents',\n",
       "                                                   'TimeJobProfile',\n",
       "                                                   'TimeinPosition'])])),\n",
       "                ('Random Forest', RandomForestRegressor())])"
      ]
     },
     "execution_count": 223,
     "metadata": {},
     "output_type": "execute_result"
    }
   ],
   "source": [
    "model_for_6.fit(X_train, y_train)"
   ]
  },
  {
   "cell_type": "code",
   "execution_count": 224,
   "metadata": {},
   "outputs": [],
   "source": [
    "results = permutation_importance(model_for_6, X_train, y_train, scoring='roc_auc')\n",
    "\n",
    "importance = results.importances_mean"
   ]
  },
  {
   "cell_type": "code",
   "execution_count": 286,
   "metadata": {},
   "outputs": [
    {
     "name": "stdout",
     "output_type": "stream",
     "text": [
      "<class 'pandas.core.frame.DataFrame'>\n",
      "RangeIndex: 5684 entries, 0 to 5683\n",
      "Data columns (total 45 columns):\n",
      " #   Column            Non-Null Count  Dtype  \n",
      "---  ------            --------------  -----  \n",
      " 0   Id                5684 non-null   int64  \n",
      " 1   Rehire            5684 non-null   object \n",
      " 2   Age               5670 non-null   float64\n",
      " 3   Generation        5684 non-null   object \n",
      " 4   CostCenterH       5684 non-null   object \n",
      " 5   Gender            5684 non-null   object \n",
      " 6   Dependents        5684 non-null   int64  \n",
      " 7   ManagementLevel   5684 non-null   object \n",
      " 8   EmployeeCount     5684 non-null   int64  \n",
      " 9   HireCount         5684 non-null   int64  \n",
      " 10  TerminationCount  5684 non-null   int64  \n",
      " 11  Tenure            5684 non-null   int64  \n",
      " 12  PayIncrease       5684 non-null   float64\n",
      " 13  PeopleManager     5684 non-null   object \n",
      " 14  BLeave            5684 non-null   object \n",
      " 15  BTimeOut          5684 non-null   object \n",
      " 16  ParentLeave       5684 non-null   object \n",
      " 17  HomeOffice        5684 non-null   float64\n",
      " 18  Contract Type     5684 non-null   object \n",
      " 19  MProximity        5684 non-null   object \n",
      " 20  MTenure           5684 non-null   int64  \n",
      " 21  MManagementLevel  5684 non-null   object \n",
      " 22  MBoomerang        5684 non-null   object \n",
      " 23  MParentLeave      5684 non-null   object \n",
      " 24  MHomeoffice       5684 non-null   float64\n",
      " 25  MY2018            1594 non-null   float64\n",
      " 26  YE2018            2143 non-null   float64\n",
      " 27  MY2019            2256 non-null   float64\n",
      " 28  ARHappiness       564 non-null    float64\n",
      " 29  ARStay            564 non-null    float64\n",
      " 30  ARResponses       564 non-null    float64\n",
      " 31  DRHappiness       180 non-null    float64\n",
      " 32  DRStay            180 non-null    float64\n",
      " 33  DRResponses       180 non-null    float64\n",
      " 34  TimeJobProfile    5684 non-null   float64\n",
      " 35  TimeinPosition    5684 non-null   float64\n",
      " 36  OfficeLocation    5683 non-null   object \n",
      " 37  Country           5683 non-null   object \n",
      " 38  ModNationality    5292 non-null   object \n",
      " 39  2ndNationality    5684 non-null   int64  \n",
      " 40  MOfficeLocation   5679 non-null   object \n",
      " 41  MCountry          5679 non-null   object \n",
      " 42  MTimeJobProfile   5684 non-null   float64\n",
      " 43  MTimeinPosition   5684 non-null   float64\n",
      " 44  TopPerformer      5684 non-null   int64  \n",
      "dtypes: float64(17), int64(9), object(19)\n",
      "memory usage: 2.0+ MB\n"
     ]
    }
   ],
   "source": [
    "df.info()"
   ]
  },
  {
   "cell_type": "code",
   "execution_count": 225,
   "metadata": {},
   "outputs": [
    {
     "name": "stdout",
     "output_type": "stream",
     "text": [
      "Feature: 0, Score: 0.00000\n",
      "Feature: 1, Score: 0.00000\n",
      "Feature: 2, Score: 0.00000\n",
      "Feature: 3, Score: 0.00003\n",
      "Feature: 4, Score: 0.00000\n",
      "Feature: 5, Score: 0.00045\n",
      "Feature: 6, Score: 0.00004\n",
      "Feature: 7, Score: 0.00000\n",
      "Feature: 8, Score: 0.00000\n",
      "Feature: 9, Score: 0.00000\n",
      "Feature: 10, Score: 0.00000\n",
      "Feature: 11, Score: 0.05330\n",
      "Feature: 12, Score: 0.04427\n",
      "Feature: 13, Score: 0.00000\n",
      "Feature: 14, Score: 0.00000\n",
      "Feature: 15, Score: 0.00000\n",
      "Feature: 16, Score: 0.00000\n",
      "Feature: 17, Score: 0.00000\n",
      "Feature: 18, Score: 0.00000\n",
      "Feature: 19, Score: 0.00015\n",
      "Feature: 20, Score: 0.00000\n",
      "Feature: 21, Score: 0.00000\n",
      "Feature: 22, Score: 0.00000\n",
      "Feature: 23, Score: 0.00000\n",
      "Feature: 24, Score: 0.00000\n",
      "Feature: 25, Score: 0.00000\n",
      "Feature: 26, Score: 0.00000\n",
      "Feature: 27, Score: 0.00000\n",
      "Feature: 28, Score: 0.00000\n",
      "Feature: 29, Score: 0.00000\n",
      "Feature: 30, Score: 0.00000\n",
      "Feature: 31, Score: 0.00000\n",
      "Feature: 32, Score: 0.00000\n",
      "Feature: 33, Score: 0.00000\n",
      "Feature: 34, Score: 0.39054\n",
      "Feature: 35, Score: 0.27813\n",
      "Feature: 36, Score: 0.00000\n",
      "Feature: 37, Score: 0.00000\n",
      "Feature: 38, Score: 0.00000\n",
      "Feature: 39, Score: 0.00000\n",
      "Feature: 40, Score: 0.00000\n",
      "Feature: 41, Score: 0.00000\n",
      "Feature: 42, Score: 0.00000\n",
      "Feature: 43, Score: 0.00000\n",
      "Feature: 44, Score: 0.00000\n",
      "Feature: 45, Score: 0.00000\n"
     ]
    }
   ],
   "source": [
    "for f,s in enumerate(importance):\n",
    "        print('Feature: %0d, Score: %.5f' % (f,s))"
   ]
  },
  {
   "cell_type": "code",
   "execution_count": 287,
   "metadata": {},
   "outputs": [],
   "source": [
    "f_imp = pd.Series(importance, name = 'Features Importances')"
   ]
  },
  {
   "cell_type": "code",
   "execution_count": 289,
   "metadata": {},
   "outputs": [],
   "source": [
    "f_imp_used = f_imp[f_imp != 0]"
   ]
  },
  {
   "cell_type": "code",
   "execution_count": 292,
   "metadata": {},
   "outputs": [
    {
     "data": {
      "text/plain": [
       "34    0.390544\n",
       "35    0.278131\n",
       "11    0.053295\n",
       "12    0.044266\n",
       "5     0.000447\n",
       "19    0.000150\n",
       "6     0.000042\n",
       "3     0.000029\n",
       "Name: Features Importances, dtype: float64"
      ]
     },
     "execution_count": 292,
     "metadata": {},
     "output_type": "execute_result"
    }
   ],
   "source": [
    "f_imp_used.sort_values(ascending = False)"
   ]
  },
  {
   "cell_type": "code",
   "execution_count": 293,
   "metadata": {},
   "outputs": [
    {
     "data": {
      "image/png": "[encoded data removed]",
      "text/plain": [
       "<Figure size 432x288 with 1 Axes>"
      ]
     },
     "metadata": {
      "needs_background": "light"
     },
     "output_type": "display_data"
    }
   ],
   "source": [
    "pyplot.bar([x for x in range(len(f_imp_used))], f_imp_used)\n",
    "pyplot.show()"
   ]
  },
  {
   "cell_type": "markdown",
   "metadata": {},
   "source": [
    "### In short:"
   ]
  },
  {
   "cell_type": "markdown",
   "metadata": {},
   "source": [
    "**After adding the TimeJobProfile (feature 6) and TimeinPosition (feature 7) features from the chart above, we noticed that our models overestimated and to make sure we analyzed the importance of the features. We realized that in fact these two variables, when related, can contain information that can predict the target variable, independently.**\n",
    "\n",
    "**From this moment on we decided to save the best model using these features, remove them from our future analysis and at the end make a comparison between the two scenarios.**"
   ]
  },
  {
   "cell_type": "markdown",
   "metadata": {},
   "source": [
    "---"
   ]
  },
  {
   "cell_type": "markdown",
   "metadata": {},
   "source": [
    "## Take 7:"
   ]
  },
  {
   "cell_type": "markdown",
   "metadata": {},
   "source": [
    "**Features: Baseline(Tenure, PayIncrease, Generation) + Gender + Dependents + MProximity + MTimeJobProfile**\n",
    "\n",
    "(TimeinPosition - TimeJobProfile, purposely withdrawn)"
   ]
  },
  {
   "cell_type": "code",
   "execution_count": 227,
   "metadata": {},
   "outputs": [],
   "source": [
    "transf_v7 = ColumnTransformer(\n",
    "    [('cat', OneHotEncoder(drop = 'first'), ['Generation', 'Gender', 'MProximity']),\n",
    "     ('null', SimpleImputer (missing_values= np.nan, strategy = 'median'), ['PayIncrease']), \n",
    "     ('other', \"passthrough\", ['Tenure', 'Dependents', 'MTimeJobProfile'])\n",
    "    ])"
   ]
  },
  {
   "cell_type": "markdown",
   "metadata": {},
   "source": [
    "**Random Forest:**"
   ]
  },
  {
   "cell_type": "code",
   "execution_count": 228,
   "metadata": {},
   "outputs": [
    {
     "data": {
      "text/plain": [
       "[('Feature Eng',\n",
       "  ColumnTransformer(transformers=[('cat', OneHotEncoder(drop='first'),\n",
       "                                   ['Generation', 'Gender', 'MProximity']),\n",
       "                                  ('null', SimpleImputer(strategy='median'),\n",
       "                                   ['PayIncrease']),\n",
       "                                  ('other', 'passthrough',\n",
       "                                   ['Tenure', 'Dependents', 'MTimeJobProfile'])])),\n",
       " ('Random Forest', RandomForestRegressor())]"
      ]
     },
     "execution_count": 228,
     "metadata": {},
     "output_type": "execute_result"
    }
   ],
   "source": [
    "model_for_7 = Pipeline([\n",
    "    ('Feature Eng', transf_v7),\n",
    "    ('Random Forest', RandomForestRegressor())\n",
    "])\n",
    "\n",
    "model_for_7.steps"
   ]
  },
  {
   "cell_type": "markdown",
   "metadata": {},
   "source": [
    "**Results:**"
   ]
  },
  {
   "cell_type": "code",
   "execution_count": 229,
   "metadata": {},
   "outputs": [],
   "source": [
    "results_for_7 = cross_val_score(model_for_7, X_train, y_train, cv = KFold(n_splits = 5, shuffle = True), scoring = \"roc_auc\")\n",
    "results_for_7_mean = results_for_7.mean()\n",
    "results_for_7_std = results_for_7.std()"
   ]
  },
  {
   "cell_type": "code",
   "execution_count": 230,
   "metadata": {},
   "outputs": [
    {
     "data": {
      "text/plain": [
       "0.7497425444008181"
      ]
     },
     "execution_count": 230,
     "metadata": {},
     "output_type": "execute_result"
    }
   ],
   "source": [
    "results_for_7_mean"
   ]
  },
  {
   "cell_type": "code",
   "execution_count": 231,
   "metadata": {},
   "outputs": [
    {
     "data": {
      "text/plain": [
       "0.01430531514747315"
      ]
     },
     "execution_count": 231,
     "metadata": {},
     "output_type": "execute_result"
    }
   ],
   "source": [
    "results_for_7_std"
   ]
  },
  {
   "cell_type": "markdown",
   "metadata": {},
   "source": [
    "**Gradient Boosting:**"
   ]
  },
  {
   "cell_type": "code",
   "execution_count": 232,
   "metadata": {},
   "outputs": [],
   "source": [
    "model_boost_7 = Pipeline([\n",
    "    ('Feature Eng', transf_v7),\n",
    "    ('Gradient Boosting', GradientBoostingClassifier())\n",
    "])"
   ]
  },
  {
   "cell_type": "markdown",
   "metadata": {},
   "source": [
    "**Results:**"
   ]
  },
  {
   "cell_type": "code",
   "execution_count": 233,
   "metadata": {},
   "outputs": [],
   "source": [
    "results_boost_7 = cross_val_score(model_boost_7, X_train, y_train, cv = KFold(n_splits = 5, shuffle = True), scoring = \"roc_auc\")\n",
    "results_boost_7_mean = results_boost_7.mean()\n",
    "results_boost_7_std = results_boost_7.std()"
   ]
  },
  {
   "cell_type": "code",
   "execution_count": 234,
   "metadata": {},
   "outputs": [
    {
     "data": {
      "text/plain": [
       "0.7870235612144375"
      ]
     },
     "execution_count": 234,
     "metadata": {},
     "output_type": "execute_result"
    }
   ],
   "source": [
    "results_boost_7_mean"
   ]
  },
  {
   "cell_type": "code",
   "execution_count": 235,
   "metadata": {},
   "outputs": [
    {
     "data": {
      "text/plain": [
       "0.010910008951266675"
      ]
     },
     "execution_count": 235,
     "metadata": {},
     "output_type": "execute_result"
    }
   ],
   "source": [
    "results_boost_7_std"
   ]
  },
  {
   "cell_type": "markdown",
   "metadata": {},
   "source": [
    "---"
   ]
  },
  {
   "cell_type": "markdown",
   "metadata": {},
   "source": [
    "## Take 8: "
   ]
  },
  {
   "cell_type": "markdown",
   "metadata": {},
   "source": [
    "**Features: Baseline(Tenure, PayIncrease, Generation) + Gender + Dependents + MProximity + Rehire**\n",
    "\n",
    "(TimeinPosition - TimeJobProfile - MTimeJobProfile purposely withdrawn)"
   ]
  },
  {
   "cell_type": "code",
   "execution_count": 236,
   "metadata": {},
   "outputs": [],
   "source": [
    "transf_v8 = ColumnTransformer(\n",
    "    [('cat', OneHotEncoder(drop = 'first'), ['Generation', 'Gender', 'MProximity', 'Rehire']),\n",
    "     ('null', SimpleImputer (missing_values= np.nan, strategy = 'median'), ['PayIncrease']), \n",
    "     ('other', \"passthrough\", ['Tenure', 'Dependents'])\n",
    "    ])"
   ]
  },
  {
   "cell_type": "markdown",
   "metadata": {},
   "source": [
    "**Random Forest:**"
   ]
  },
  {
   "cell_type": "code",
   "execution_count": 237,
   "metadata": {},
   "outputs": [
    {
     "data": {
      "text/plain": [
       "[('Feature Eng',\n",
       "  ColumnTransformer(transformers=[('cat', OneHotEncoder(drop='first'),\n",
       "                                   ['Generation', 'Gender', 'MProximity',\n",
       "                                    'Rehire']),\n",
       "                                  ('null', SimpleImputer(strategy='median'),\n",
       "                                   ['PayIncrease']),\n",
       "                                  ('other', 'passthrough',\n",
       "                                   ['Tenure', 'Dependents'])])),\n",
       " ('Random Forest', RandomForestRegressor())]"
      ]
     },
     "execution_count": 237,
     "metadata": {},
     "output_type": "execute_result"
    }
   ],
   "source": [
    "model_for_8= Pipeline([\n",
    "    ('Feature Eng', transf_v8),\n",
    "    ('Random Forest', RandomForestRegressor())\n",
    "])\n",
    "\n",
    "model_for_8.steps"
   ]
  },
  {
   "cell_type": "markdown",
   "metadata": {},
   "source": [
    "**Results:**"
   ]
  },
  {
   "cell_type": "code",
   "execution_count": 238,
   "metadata": {},
   "outputs": [],
   "source": [
    "results_for_8 = cross_val_score(model_for_8, X_train, y_train, cv = KFold(n_splits = 5, shuffle = True), scoring = \"roc_auc\")\n",
    "results_for_8_mean = results_for_8.mean()\n",
    "results_for_8_std = results_for_8.std()"
   ]
  },
  {
   "cell_type": "code",
   "execution_count": 239,
   "metadata": {},
   "outputs": [
    {
     "data": {
      "text/plain": [
       "0.6839410182885601"
      ]
     },
     "execution_count": 239,
     "metadata": {},
     "output_type": "execute_result"
    }
   ],
   "source": [
    "results_for_8_mean"
   ]
  },
  {
   "cell_type": "code",
   "execution_count": 240,
   "metadata": {},
   "outputs": [
    {
     "data": {
      "text/plain": [
       "0.016513342636347225"
      ]
     },
     "execution_count": 240,
     "metadata": {},
     "output_type": "execute_result"
    }
   ],
   "source": [
    "results_for_8_std"
   ]
  },
  {
   "cell_type": "markdown",
   "metadata": {},
   "source": [
    "**Gradient Boosting:**"
   ]
  },
  {
   "cell_type": "code",
   "execution_count": 241,
   "metadata": {},
   "outputs": [],
   "source": [
    "model_boost_8 = Pipeline([\n",
    "    ('Feature Eng', transf_v8),\n",
    "    ('Gradient Boosting', GradientBoostingClassifier())\n",
    "])"
   ]
  },
  {
   "cell_type": "markdown",
   "metadata": {},
   "source": [
    "**Results:**"
   ]
  },
  {
   "cell_type": "code",
   "execution_count": 242,
   "metadata": {},
   "outputs": [],
   "source": [
    "results_boost_8 = cross_val_score(model_boost_8, X_train, y_train, cv = KFold(n_splits = 5, shuffle = True), scoring = \"roc_auc\")\n",
    "results_boost_8_mean = results_boost_8.mean()\n",
    "results_boost_8_std = results_boost_8.std()"
   ]
  },
  {
   "cell_type": "code",
   "execution_count": 243,
   "metadata": {},
   "outputs": [
    {
     "data": {
      "text/plain": [
       "0.7322111898485764"
      ]
     },
     "execution_count": 243,
     "metadata": {},
     "output_type": "execute_result"
    }
   ],
   "source": [
    "results_boost_8_mean"
   ]
  },
  {
   "cell_type": "code",
   "execution_count": 244,
   "metadata": {},
   "outputs": [
    {
     "data": {
      "text/plain": [
       "0.014602232421172746"
      ]
     },
     "execution_count": 244,
     "metadata": {},
     "output_type": "execute_result"
    }
   ],
   "source": [
    "results_boost_8_std"
   ]
  },
  {
   "cell_type": "markdown",
   "metadata": {},
   "source": [
    "---"
   ]
  },
  {
   "cell_type": "markdown",
   "metadata": {},
   "source": [
    "## Take 9: "
   ]
  },
  {
   "cell_type": "markdown",
   "metadata": {},
   "source": [
    "**Features: Baseline(Tenure, PayIncrease, Generation) + Gender + Dependents + MProximity + Rehire + Contract Type:**\n",
    "\n",
    "(TimeinPosition - TimeJobProfile - MTimeJobProfile purposely withdrawn)"
   ]
  },
  {
   "cell_type": "code",
   "execution_count": 245,
   "metadata": {},
   "outputs": [],
   "source": [
    "transf_v9 = ColumnTransformer(\n",
    "    [('cat', OneHotEncoder(drop = 'first'), ['Generation', 'Gender', 'MProximity', 'Rehire']),\n",
    "     ('cat_2', OneHotEncoder(handle_unknown='ignore'), ['Contract Type']),\n",
    "     ('null', SimpleImputer (missing_values= np.nan, strategy = 'median'), ['PayIncrease']), \n",
    "     ('other', \"passthrough\", ['Tenure', 'Dependents'])\n",
    "    ])"
   ]
  },
  {
   "cell_type": "markdown",
   "metadata": {},
   "source": [
    "**Random Forest:**"
   ]
  },
  {
   "cell_type": "code",
   "execution_count": 246,
   "metadata": {},
   "outputs": [
    {
     "data": {
      "text/plain": [
       "[('Feature Eng',\n",
       "  ColumnTransformer(transformers=[('cat', OneHotEncoder(drop='first'),\n",
       "                                   ['Generation', 'Gender', 'MProximity',\n",
       "                                    'Rehire']),\n",
       "                                  ('cat_2',\n",
       "                                   OneHotEncoder(handle_unknown='ignore'),\n",
       "                                   ['Contract Type']),\n",
       "                                  ('null', SimpleImputer(strategy='median'),\n",
       "                                   ['PayIncrease']),\n",
       "                                  ('other', 'passthrough',\n",
       "                                   ['Tenure', 'Dependents'])])),\n",
       " ('Random Forest', RandomForestRegressor())]"
      ]
     },
     "execution_count": 246,
     "metadata": {},
     "output_type": "execute_result"
    }
   ],
   "source": [
    "model_for_9 = Pipeline([\n",
    "    ('Feature Eng', transf_v9),\n",
    "    ('Random Forest', RandomForestRegressor())\n",
    "])\n",
    "\n",
    "model_for_9.steps"
   ]
  },
  {
   "cell_type": "markdown",
   "metadata": {},
   "source": [
    "**Results:**"
   ]
  },
  {
   "cell_type": "code",
   "execution_count": 247,
   "metadata": {},
   "outputs": [],
   "source": [
    "results_for_9 = cross_val_score(model_for_9, X_train, y_train, cv = KFold(n_splits = 5, shuffle = True), scoring = \"roc_auc\")\n",
    "results_for_9_mean = results_for_9.mean()\n",
    "results_for_9_std = results_for_9.std()"
   ]
  },
  {
   "cell_type": "code",
   "execution_count": 248,
   "metadata": {},
   "outputs": [
    {
     "data": {
      "text/plain": [
       "0.7745101861330362"
      ]
     },
     "execution_count": 248,
     "metadata": {},
     "output_type": "execute_result"
    }
   ],
   "source": [
    "results_for_9_mean"
   ]
  },
  {
   "cell_type": "code",
   "execution_count": 249,
   "metadata": {},
   "outputs": [
    {
     "data": {
      "text/plain": [
       "0.014609338624087791"
      ]
     },
     "execution_count": 249,
     "metadata": {},
     "output_type": "execute_result"
    }
   ],
   "source": [
    "results_for_9_std"
   ]
  },
  {
   "cell_type": "markdown",
   "metadata": {},
   "source": [
    "**Gradient Boosting:**"
   ]
  },
  {
   "cell_type": "code",
   "execution_count": 250,
   "metadata": {},
   "outputs": [],
   "source": [
    "model_boost_9 = Pipeline([\n",
    "    ('Feature Eng', transf_v9),\n",
    "    ('Gradient Boosting', GradientBoostingClassifier())\n",
    "])"
   ]
  },
  {
   "cell_type": "markdown",
   "metadata": {},
   "source": [
    "**Results:**"
   ]
  },
  {
   "cell_type": "code",
   "execution_count": 251,
   "metadata": {},
   "outputs": [],
   "source": [
    "results_boost_9 = cross_val_score(model_boost_9, X_train, y_train, cv = KFold(n_splits = 5, shuffle = True), scoring = \"roc_auc\")\n",
    "results_boost_9_mean = results_boost_9.mean()\n",
    "results_boost_9_std = results_boost_9.std()"
   ]
  },
  {
   "cell_type": "code",
   "execution_count": 252,
   "metadata": {},
   "outputs": [
    {
     "data": {
      "text/plain": [
       "0.7912322040364642"
      ]
     },
     "execution_count": 252,
     "metadata": {},
     "output_type": "execute_result"
    }
   ],
   "source": [
    "results_boost_9_mean"
   ]
  },
  {
   "cell_type": "code",
   "execution_count": 253,
   "metadata": {},
   "outputs": [
    {
     "data": {
      "text/plain": [
       "0.01656981598667773"
      ]
     },
     "execution_count": 253,
     "metadata": {},
     "output_type": "execute_result"
    }
   ],
   "source": [
    "results_boost_9_std"
   ]
  },
  {
   "cell_type": "markdown",
   "metadata": {},
   "source": [
    "---"
   ]
  },
  {
   "cell_type": "markdown",
   "metadata": {},
   "source": [
    "## Take 10:"
   ]
  },
  {
   "cell_type": "markdown",
   "metadata": {},
   "source": [
    "**Features: Baseline(Tenure, PayIncrease, Generation) + Gender + Dependents + MProximity + Rehire + Contract Type + PeopleManager:**\n",
    "\n",
    "(TimeinPosition - TimeJobProfile - MTimeJobProfile purposely withdrawn)"
   ]
  },
  {
   "cell_type": "code",
   "execution_count": 254,
   "metadata": {},
   "outputs": [],
   "source": [
    "transf_v10 = ColumnTransformer(\n",
    "    [('cat', OrdinalEncoder(), ['Generation', 'Gender', 'MProximity', 'Rehire', 'Contract Type', 'PeopleManager']),\n",
    "     ('null', SimpleImputer (missing_values= np.nan, strategy = 'median'), ['PayIncrease']), \n",
    "     ('other', \"passthrough\", ['Tenure', 'Dependents'])\n",
    "    ])"
   ]
  },
  {
   "cell_type": "markdown",
   "metadata": {},
   "source": [
    "**Random Forest:**"
   ]
  },
  {
   "cell_type": "code",
   "execution_count": 255,
   "metadata": {},
   "outputs": [
    {
     "data": {
      "text/plain": [
       "[('Feature Eng',\n",
       "  ColumnTransformer(transformers=[('cat', OrdinalEncoder(),\n",
       "                                   ['Generation', 'Gender', 'MProximity',\n",
       "                                    'Rehire', 'Contract Type', 'PeopleManager']),\n",
       "                                  ('null', SimpleImputer(strategy='median'),\n",
       "                                   ['PayIncrease']),\n",
       "                                  ('other', 'passthrough',\n",
       "                                   ['Tenure', 'Dependents'])])),\n",
       " ('Random Forest', RandomForestRegressor())]"
      ]
     },
     "execution_count": 255,
     "metadata": {},
     "output_type": "execute_result"
    }
   ],
   "source": [
    "model_for_10 = Pipeline([\n",
    "    ('Feature Eng', transf_v10),\n",
    "    ('Random Forest', RandomForestRegressor())\n",
    "])\n",
    "\n",
    "model_for_10.steps"
   ]
  },
  {
   "cell_type": "markdown",
   "metadata": {},
   "source": [
    "**Results:**"
   ]
  },
  {
   "cell_type": "code",
   "execution_count": 256,
   "metadata": {},
   "outputs": [],
   "source": [
    "results_for_10 = cross_val_score(model_for_10, X_train, y_train, cv = KFold(n_splits = 5, shuffle = True), scoring = \"roc_auc\")\n",
    "results_for_10_mean = results_for_10.mean()\n",
    "results_for_10_std = results_for_10.std()"
   ]
  },
  {
   "cell_type": "code",
   "execution_count": 257,
   "metadata": {},
   "outputs": [
    {
     "data": {
      "text/plain": [
       "0.7879767199297444"
      ]
     },
     "execution_count": 257,
     "metadata": {},
     "output_type": "execute_result"
    }
   ],
   "source": [
    "results_for_10_mean"
   ]
  },
  {
   "cell_type": "markdown",
   "metadata": {},
   "source": [
    "**Gradient Boosting:**"
   ]
  },
  {
   "cell_type": "code",
   "execution_count": 258,
   "metadata": {},
   "outputs": [],
   "source": [
    "model_boost_10 = Pipeline([\n",
    "    ('Feature Eng', transf_v10),\n",
    "    ('Gradient Boosting', GradientBoostingClassifier())\n",
    "])"
   ]
  },
  {
   "cell_type": "markdown",
   "metadata": {},
   "source": [
    "**Results:**"
   ]
  },
  {
   "cell_type": "code",
   "execution_count": 259,
   "metadata": {},
   "outputs": [],
   "source": [
    "results_boost_10 = cross_val_score(model_boost_10, X_train, y_train, cv = KFold(n_splits = 5, shuffle = True), scoring = \"roc_auc\")\n",
    "results_boost_10_mean = results_boost_10.mean()\n",
    "results_boost_10_std = results_boost_10.std()"
   ]
  },
  {
   "cell_type": "code",
   "execution_count": 260,
   "metadata": {},
   "outputs": [
    {
     "data": {
      "text/plain": [
       "0.7951554587549035"
      ]
     },
     "execution_count": 260,
     "metadata": {},
     "output_type": "execute_result"
    }
   ],
   "source": [
    "results_boost_10_mean"
   ]
  },
  {
   "cell_type": "markdown",
   "metadata": {},
   "source": [
    "---"
   ]
  },
  {
   "cell_type": "markdown",
   "metadata": {},
   "source": [
    "## Take 11: "
   ]
  },
  {
   "cell_type": "markdown",
   "metadata": {},
   "source": [
    "**Features: Baseline(Tenure, PayIncrease, Generation) + Gender + Dependents + MProximity + Rehire + Contract Type + PeopleManager + Country:**\n",
    "\n",
    "(TimeinPosition - TimeJobProfile - MTimeJobProfile purposely withdrawn)"
   ]
  },
  {
   "cell_type": "code",
   "execution_count": 261,
   "metadata": {},
   "outputs": [],
   "source": [
    "transf_v11 = ColumnTransformer(\n",
    "    [('cat', OrdinalEncoder(), ['Generation', 'Gender', 'MProximity', 'Rehire', 'Contract Type', 'PeopleManager', 'Country']),\n",
    "     ('null', SimpleImputer (missing_values= np.nan, strategy = 'median'), ['PayIncrease']), \n",
    "     ('other', \"passthrough\", ['Tenure', 'Dependents'])\n",
    "    ])"
   ]
  },
  {
   "cell_type": "markdown",
   "metadata": {},
   "source": [
    "**Random Forest:**"
   ]
  },
  {
   "cell_type": "code",
   "execution_count": 262,
   "metadata": {},
   "outputs": [
    {
     "data": {
      "text/plain": [
       "[('Feature Eng',\n",
       "  ColumnTransformer(transformers=[('cat', OrdinalEncoder(),\n",
       "                                   ['Generation', 'Gender', 'MProximity',\n",
       "                                    'Rehire', 'Contract Type', 'PeopleManager',\n",
       "                                    'Country']),\n",
       "                                  ('null', SimpleImputer(strategy='median'),\n",
       "                                   ['PayIncrease']),\n",
       "                                  ('other', 'passthrough',\n",
       "                                   ['Tenure', 'Dependents'])])),\n",
       " ('Random Forest', RandomForestRegressor())]"
      ]
     },
     "execution_count": 262,
     "metadata": {},
     "output_type": "execute_result"
    }
   ],
   "source": [
    "model_for_11 = Pipeline([\n",
    "    ('Feature Eng', transf_v11),\n",
    "    ('Random Forest', RandomForestRegressor())\n",
    "])\n",
    "\n",
    "model_for_11.steps"
   ]
  },
  {
   "cell_type": "markdown",
   "metadata": {},
   "source": [
    "**Results:**"
   ]
  },
  {
   "cell_type": "code",
   "execution_count": 263,
   "metadata": {},
   "outputs": [],
   "source": [
    "results_for_11 = cross_val_score(model_for_11, X_train, y_train, cv = KFold(n_splits = 5, shuffle = True), scoring = \"roc_auc\")\n",
    "results_for_11_mean = results_for_11.mean()\n",
    "results_for_11_std = results_for_11.std()"
   ]
  },
  {
   "cell_type": "code",
   "execution_count": 264,
   "metadata": {},
   "outputs": [
    {
     "data": {
      "text/plain": [
       "0.7918403317130434"
      ]
     },
     "execution_count": 264,
     "metadata": {},
     "output_type": "execute_result"
    }
   ],
   "source": [
    "results_for_11_mean"
   ]
  },
  {
   "cell_type": "markdown",
   "metadata": {},
   "source": [
    "**Gradient Boosting:**"
   ]
  },
  {
   "cell_type": "code",
   "execution_count": 265,
   "metadata": {},
   "outputs": [],
   "source": [
    "model_boost_11 = Pipeline([\n",
    "    ('Feature Eng', transf_v11),\n",
    "    ('Gradient Boosting', GradientBoostingClassifier())\n",
    "])"
   ]
  },
  {
   "cell_type": "markdown",
   "metadata": {},
   "source": [
    "**Results:**"
   ]
  },
  {
   "cell_type": "code",
   "execution_count": 266,
   "metadata": {},
   "outputs": [],
   "source": [
    "results_boost_11 = cross_val_score(model_boost_11, X_train, y_train, cv = KFold(n_splits = 5, shuffle = True), scoring = \"roc_auc\")\n",
    "results_boost_11_mean = results_boost_11.mean()\n",
    "results_boost_11_std = results_boost_11.std()"
   ]
  },
  {
   "cell_type": "code",
   "execution_count": 267,
   "metadata": {},
   "outputs": [
    {
     "data": {
      "text/plain": [
       "0.8046136295585187"
      ]
     },
     "execution_count": 267,
     "metadata": {},
     "output_type": "execute_result"
    }
   ],
   "source": [
    "results_boost_11_mean"
   ]
  },
  {
   "cell_type": "markdown",
   "metadata": {},
   "source": [
    "---"
   ]
  },
  {
   "cell_type": "markdown",
   "metadata": {},
   "source": [
    "## Take 12: BOOST!"
   ]
  },
  {
   "cell_type": "markdown",
   "metadata": {},
   "source": [
    "In this take, in contrast to the previous takes in which we only added one variable at a time, we decided to start from what we already had and try all combinations of variables until we reached the best possible model.\n",
    "\n",
    "Note: As with the TimeinPosition and TimeJobProfile variables, the MTimeJobProfile and TerminationCount variables also showed suspicious evolution of the model when added, and for this reason they were purposely removed."
   ]
  },
  {
   "cell_type": "markdown",
   "metadata": {},
   "source": [
    "**Features: Baseline(Tenure, PayIncrease, Generation) + Gender + Dependents + MProximity + Rehire + Contract Type + PeopleManager + Country + [CostCenterH, TopPerformer, PayIncrease, Age, EmployeeCount, HireCount, MTenure, HomeOffice]:**\n",
    "\n",
    "(TimeinPosition - TimeJobProfile - MTimeJobProfile (+8% Random Forest e 7% Gradient Boosting) - Termination Count (+9% Random Forest e 7% Gradient Boosting) purposely withdrawn)"
   ]
  },
  {
   "cell_type": "code",
   "execution_count": 268,
   "metadata": {},
   "outputs": [],
   "source": [
    "transf_v12 = ColumnTransformer(\n",
    "    [('cat', OrdinalEncoder(), ['Generation', 'Gender', 'MProximity', 'Rehire', 'Contract Type', 'PeopleManager', 'Country', 'CostCenterH', 'TopPerformer']),\n",
    "     ('null', SimpleImputer (missing_values= np.nan, strategy = 'median'), ['PayIncrease', 'Age']), \n",
    "     ('other', \"passthrough\", ['Tenure', 'Dependents', 'EmployeeCount', 'HireCount', 'MTenure', 'HomeOffice'])\n",
    "    ])"
   ]
  },
  {
   "cell_type": "markdown",
   "metadata": {},
   "source": [
    "**Random Forest:**"
   ]
  },
  {
   "cell_type": "code",
   "execution_count": 269,
   "metadata": {},
   "outputs": [
    {
     "data": {
      "text/plain": [
       "[('Feature Eng',\n",
       "  ColumnTransformer(transformers=[('cat', OrdinalEncoder(),\n",
       "                                   ['Generation', 'Gender', 'MProximity',\n",
       "                                    'Rehire', 'Contract Type', 'PeopleManager',\n",
       "                                    'Country', 'CostCenterH', 'TopPerformer']),\n",
       "                                  ('null', SimpleImputer(strategy='median'),\n",
       "                                   ['PayIncrease', 'Age']),\n",
       "                                  ('other', 'passthrough',\n",
       "                                   ['Tenure', 'Dependents', 'EmployeeCount',\n",
       "                                    'HireCount', 'MTenure', 'HomeOffice'])])),\n",
       " ('Random Forest', RandomForestRegressor())]"
      ]
     },
     "execution_count": 269,
     "metadata": {},
     "output_type": "execute_result"
    }
   ],
   "source": [
    "model_for_12 = Pipeline([\n",
    "    ('Feature Eng', transf_v12),\n",
    "    ('Random Forest', RandomForestRegressor())\n",
    "])\n",
    "\n",
    "model_for_12.steps"
   ]
  },
  {
   "cell_type": "markdown",
   "metadata": {},
   "source": [
    "**Results:**"
   ]
  },
  {
   "cell_type": "code",
   "execution_count": 270,
   "metadata": {},
   "outputs": [],
   "source": [
    "results_for_12 = cross_val_score(model_for_12, X_train, y_train, cv = KFold(n_splits = 5, shuffle = True), scoring = \"roc_auc\")\n",
    "results_for_12_mean = results_for_12.mean()\n",
    "results_for_12_std = results_for_12.std()"
   ]
  },
  {
   "cell_type": "code",
   "execution_count": 271,
   "metadata": {},
   "outputs": [
    {
     "data": {
      "text/plain": [
       "0.8881864761059853"
      ]
     },
     "execution_count": 271,
     "metadata": {},
     "output_type": "execute_result"
    }
   ],
   "source": [
    "results_for_12_mean"
   ]
  },
  {
   "cell_type": "code",
   "execution_count": 272,
   "metadata": {},
   "outputs": [
    {
     "data": {
      "text/plain": [
       "0.010893979699297123"
      ]
     },
     "execution_count": 272,
     "metadata": {},
     "output_type": "execute_result"
    }
   ],
   "source": [
    "results_for_12_std"
   ]
  },
  {
   "cell_type": "markdown",
   "metadata": {},
   "source": [
    "**Gradient Boosting:**"
   ]
  },
  {
   "cell_type": "code",
   "execution_count": 273,
   "metadata": {},
   "outputs": [],
   "source": [
    "model_boost_12 = Pipeline([\n",
    "    ('Feature Eng', transf_v12),\n",
    "    ('Gradient Boosting', GradientBoostingClassifier())\n",
    "])"
   ]
  },
  {
   "cell_type": "markdown",
   "metadata": {},
   "source": [
    "**Results:**"
   ]
  },
  {
   "cell_type": "code",
   "execution_count": 274,
   "metadata": {},
   "outputs": [],
   "source": [
    "results_boost_12 = cross_val_score(model_boost_12, X_train, y_train, cv = KFold(n_splits = 5, shuffle = True), scoring = \"roc_auc\")\n",
    "results_boost_12_mean = results_boost_12.mean()\n",
    "results_boost_12_std = results_boost_12.std()"
   ]
  },
  {
   "cell_type": "code",
   "execution_count": 275,
   "metadata": {},
   "outputs": [
    {
     "data": {
      "text/plain": [
       "0.8724273218311556"
      ]
     },
     "execution_count": 275,
     "metadata": {},
     "output_type": "execute_result"
    }
   ],
   "source": [
    "results_boost_12_mean"
   ]
  },
  {
   "cell_type": "code",
   "execution_count": 276,
   "metadata": {},
   "outputs": [
    {
     "data": {
      "text/plain": [
       "0.01226452218460787"
      ]
     },
     "execution_count": 276,
     "metadata": {},
     "output_type": "execute_result"
    }
   ],
   "source": [
    "results_boost_12_std"
   ]
  },
  {
   "cell_type": "markdown",
   "metadata": {},
   "source": [
    "----"
   ]
  },
  {
   "cell_type": "markdown",
   "metadata": {},
   "source": [
    "## Take 13: "
   ]
  },
  {
   "cell_type": "markdown",
   "metadata": {},
   "source": [
    "**Evaluation of the Model with overestimating features:**\n",
    "\n",
    "**Take 12** + TimeinPosition + TimeJobProfile + MTimeJobProfile + Termination Count"
   ]
  },
  {
   "cell_type": "code",
   "execution_count": 277,
   "metadata": {},
   "outputs": [],
   "source": [
    "transf_v13 = ColumnTransformer(\n",
    "    [('cat', OrdinalEncoder(), ['Generation', 'Gender', 'MProximity', 'Rehire', 'Contract Type', 'PeopleManager', 'Country', 'CostCenterH', 'TopPerformer']),\n",
    "     ('null', SimpleImputer (missing_values= np.nan, strategy = 'median'), ['PayIncrease', 'Age']), \n",
    "     ('other', \"passthrough\", ['Tenure', 'Dependents', 'EmployeeCount', 'HireCount', 'MTenure', 'HomeOffice','TimeinPosition', 'TimeJobProfile', 'MTimeJobProfile', 'TerminationCount'])\n",
    "    ])"
   ]
  },
  {
   "cell_type": "markdown",
   "metadata": {},
   "source": [
    "**Random Forest:**"
   ]
  },
  {
   "cell_type": "code",
   "execution_count": 278,
   "metadata": {},
   "outputs": [
    {
     "data": {
      "text/plain": [
       "[('Feature Eng',\n",
       "  ColumnTransformer(transformers=[('cat', OrdinalEncoder(),\n",
       "                                   ['Generation', 'Gender', 'MProximity',\n",
       "                                    'Rehire', 'Contract Type', 'PeopleManager',\n",
       "                                    'Country', 'CostCenterH', 'TopPerformer']),\n",
       "                                  ('null', SimpleImputer(strategy='median'),\n",
       "                                   ['PayIncrease', 'Age']),\n",
       "                                  ('other', 'passthrough',\n",
       "                                   ['Tenure', 'Dependents', 'EmployeeCount',\n",
       "                                    'HireCount', 'MTenure', 'HomeOffice',\n",
       "                                    'TimeinPosition', 'TimeJobProfile',\n",
       "                                    'MTimeJobProfile', 'TerminationCount'])])),\n",
       " ('Random Forest', RandomForestRegressor())]"
      ]
     },
     "execution_count": 278,
     "metadata": {},
     "output_type": "execute_result"
    }
   ],
   "source": [
    "model_for_13 = Pipeline([\n",
    "    ('Feature Eng', transf_v13),\n",
    "    ('Random Forest', RandomForestRegressor())\n",
    "])\n",
    "\n",
    "model_for_13.steps"
   ]
  },
  {
   "cell_type": "markdown",
   "metadata": {},
   "source": [
    "**Results:**"
   ]
  },
  {
   "cell_type": "code",
   "execution_count": 279,
   "metadata": {},
   "outputs": [],
   "source": [
    "results_for_13 = cross_val_score(model_for_13, X_train, y_train, cv = KFold(n_splits = 5, shuffle = True), scoring = \"roc_auc\")\n",
    "results_for_13_mean = results_for_13.mean()\n",
    "results_for_13_std = results_for_13.std()"
   ]
  },
  {
   "cell_type": "code",
   "execution_count": 280,
   "metadata": {},
   "outputs": [
    {
     "data": {
      "text/plain": [
       "0.9705899030278733"
      ]
     },
     "execution_count": 280,
     "metadata": {},
     "output_type": "execute_result"
    }
   ],
   "source": [
    "results_for_13_mean"
   ]
  },
  {
   "cell_type": "code",
   "execution_count": 281,
   "metadata": {},
   "outputs": [
    {
     "data": {
      "text/plain": [
       "0.007221082196516358"
      ]
     },
     "execution_count": 281,
     "metadata": {},
     "output_type": "execute_result"
    }
   ],
   "source": [
    "results_for_13_std"
   ]
  },
  {
   "cell_type": "markdown",
   "metadata": {},
   "source": [
    "**Gradient Boosting:**"
   ]
  },
  {
   "cell_type": "code",
   "execution_count": 282,
   "metadata": {},
   "outputs": [],
   "source": [
    "model_boost_13 = Pipeline([\n",
    "    ('Feature Eng', transf_v13),\n",
    "    ('Gradient Boosting', GradientBoostingClassifier())\n",
    "])"
   ]
  },
  {
   "cell_type": "markdown",
   "metadata": {},
   "source": [
    "**Results:**"
   ]
  },
  {
   "cell_type": "code",
   "execution_count": 283,
   "metadata": {},
   "outputs": [],
   "source": [
    "results_boost_13 = cross_val_score(model_boost_13, X_train, y_train, cv = KFold(n_splits = 5, shuffle = True), scoring = \"roc_auc\")\n",
    "results_boost_13_mean = results_boost_13.mean()\n",
    "results_boost_13_std = results_boost_13.std()"
   ]
  },
  {
   "cell_type": "code",
   "execution_count": 284,
   "metadata": {},
   "outputs": [
    {
     "data": {
      "text/plain": [
       "0.9650644646334706"
      ]
     },
     "execution_count": 284,
     "metadata": {},
     "output_type": "execute_result"
    }
   ],
   "source": [
    "results_boost_13_mean"
   ]
  },
  {
   "cell_type": "code",
   "execution_count": 285,
   "metadata": {},
   "outputs": [
    {
     "data": {
      "text/plain": [
       "0.006273823096615139"
      ]
     },
     "execution_count": 285,
     "metadata": {},
     "output_type": "execute_result"
    }
   ],
   "source": [
    "results_boost_13_std"
   ]
  },
  {
   "cell_type": "markdown",
   "metadata": {},
   "source": [
    "---"
   ]
  },
  {
   "cell_type": "markdown",
   "metadata": {},
   "source": [
    "**Best overall models were divide between the best ones with and without overestimating variables. We will now build a Grid with the specific parameters for our models to adopt, on the next notebook \"Predict Talent Migration with Machine Learning - 03 Grid Build\"**"
   ]
  },
  {
   "cell_type": "code",
   "execution_count": null,
   "metadata": {},
   "outputs": [],
   "source": []
  }
 ],
 "metadata": {
  "kernelspec": {
   "display_name": "Python 3",
   "language": "python",
   "name": "python3"
  },
  "language_info": {
   "codemirror_mode": {
    "name": "ipython",
    "version": 3
   },
   "file_extension": ".py",
   "mimetype": "text/x-python",
   "name": "python",
   "nbconvert_exporter": "python",
   "pygments_lexer": "ipython3",
   "version": "3.8.3"
  }
 },
 "nbformat": 4,
 "nbformat_minor": 4
}
