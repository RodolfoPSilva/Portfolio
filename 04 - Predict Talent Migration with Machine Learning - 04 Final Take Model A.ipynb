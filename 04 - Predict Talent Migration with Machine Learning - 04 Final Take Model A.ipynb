{
 "cells": [
  {
   "cell_type": "markdown",
   "metadata": {},
   "source": [
    "## Predict Talent Migration with Machine Learning - 04 Final Take Model A\n",
    "\n",
    "---\n",
    "\n",
    "<p style=\"text-align: center;\">\n",
    "Project split into 5 Notebooks:</br>\n",
    "</br>\n",
    "Predict Talent Migration with Machine Learning - 01 Exploratory Analysis</br>\n",
    "*</br>\n",
    "Predict Talent Migration with Machine Learning - 02 Modeling</br>\n",
    "*</br>\n",
    "Predict Talent Migration with Machine Learning - 03 Grid Build</br>\n",
    "*</br>\n",
    "Predict Talent Migration with Machine Learning - 04 Final Take Model A</br>\n",
    "*</br>\n",
    "Predict Talent Migration with Machine Learning - 05 Final Take Model B</br> </p> \n",
    "         \n",
    "---\n",
    "\n",
    "This project aims to create a machine learning model that allows the prediction of employees departure from an Organization. </br>\n",
    "We will focus our forecast on the Organization's best employees (Top Performers), although a comparison between employees in general will be made. Top Performers will be identified through the creation of a condition, which will be based on the classification of employees evaluation cycles. An analysis on model performance will also be presented, concerning the model's ability to predict the employees departure by **Generation** and **Gender.**\n",
    "\n",
    "Employees are evaluated on a semiannual basis and our data concerns the last 3 evaluation cycles, between January 1st 2018 to September 31st 2019.\n",
    "\n",
    "Ratings per evaluation are: </br>\n",
    "\n",
    "  - Mid Year 2018 (MY2018): **0,1,2,3,4,5** </br>\n",
    "  - Year End 2018 (YE2018): **0,1,2,3,4,5** </br>\n",
    "  - Mid Year 2019: **0,1,2,3***.</br>\n",
    "             \n",
    "**Data from the Organization shows a change of ratings scale was purpousely made to decrease results granularity.*"
   ]
  },
  {
   "cell_type": "code",
   "execution_count": 1,
   "metadata": {},
   "outputs": [],
   "source": [
    "import random\n",
    "import pandas as pd\n",
    "import numpy as np\n",
    "import seaborn as sns\n",
    "from matplotlib import pyplot\n",
    "import plotly.express as px\n",
    "\n",
    "from sklearn.linear_model import LogisticRegression\n",
    "from sklearn.ensemble import RandomForestRegressor\n",
    "from sklearn.ensemble import GradientBoostingClassifier\n",
    "\n",
    "from sklearn.model_selection import cross_val_score, train_test_split\n",
    "from sklearn.pipeline import Pipeline\n",
    "from sklearn.compose import ColumnTransformer\n",
    "from sklearn.impute import SimpleImputer\n",
    "from sklearn.preprocessing import KBinsDiscretizer, PowerTransformer, OneHotEncoder\n",
    "\n",
    "from sklearn.model_selection import KFold\n",
    "from sklearn.inspection import permutation_importance\n",
    "\n",
    "from category_encoders.ordinal import OrdinalEncoder\n",
    "\n",
    "from sklearn.metrics import roc_auc_score\n",
    "from sklearn.metrics import plot_roc_curve"
   ]
  },
  {
   "cell_type": "markdown",
   "metadata": {},
   "source": [
    "## Data:"
   ]
  },
  {
   "cell_type": "markdown",
   "metadata": {},
   "source": [
    "**The best models parameters results after GridSearch CV were chosen as the main models to finally fit our Test dataset and provide us with final findings. As we have been doing, we have 2 models, one with and another without the overestimating features previously identified.** \n",
    "\n",
    "**This notebook will go over the model A - with overestimating features.**"
   ]
  },
  {
   "cell_type": "code",
   "execution_count": 2,
   "metadata": {},
   "outputs": [],
   "source": [
    "df = pd.read_csv('projeto_final.csv', index_col = False)"
   ]
  },
  {
   "cell_type": "code",
   "execution_count": 36,
   "metadata": {},
   "outputs": [],
   "source": [
    "X = df.copy()"
   ]
  },
  {
   "cell_type": "code",
   "execution_count": 4,
   "metadata": {},
   "outputs": [],
   "source": [
    "y = df.pop('Out')"
   ]
  },
  {
   "cell_type": "markdown",
   "metadata": {},
   "source": [
    "## Train - Test Split"
   ]
  },
  {
   "cell_type": "code",
   "execution_count": 5,
   "metadata": {},
   "outputs": [],
   "source": [
    "X_train, X_test, y_train, y_test = train_test_split(X, y, test_size=0.2)"
   ]
  },
  {
   "cell_type": "code",
   "execution_count": 6,
   "metadata": {},
   "outputs": [
    {
     "data": {
      "text/plain": [
       "(4504, 46)"
      ]
     },
     "execution_count": 6,
     "metadata": {},
     "output_type": "execute_result"
    }
   ],
   "source": [
    "X_train.shape"
   ]
  },
  {
   "cell_type": "code",
   "execution_count": 7,
   "metadata": {},
   "outputs": [
    {
     "data": {
      "text/plain": [
       "(4504,)"
      ]
     },
     "execution_count": 7,
     "metadata": {},
     "output_type": "execute_result"
    }
   ],
   "source": [
    "y_train.shape"
   ]
  },
  {
   "cell_type": "code",
   "execution_count": 8,
   "metadata": {},
   "outputs": [
    {
     "data": {
      "text/plain": [
       "(1126, 46)"
      ]
     },
     "execution_count": 8,
     "metadata": {},
     "output_type": "execute_result"
    }
   ],
   "source": [
    "X_test.shape"
   ]
  },
  {
   "cell_type": "markdown",
   "metadata": {},
   "source": [
    "Validação:"
   ]
  },
  {
   "cell_type": "code",
   "execution_count": 9,
   "metadata": {},
   "outputs": [],
   "source": [
    "X_train_, X_val, y_train_, y_val = train_test_split(X_train, y_train, test_size=0.2)"
   ]
  },
  {
   "cell_type": "markdown",
   "metadata": {},
   "source": [
    "---"
   ]
  },
  {
   "cell_type": "markdown",
   "metadata": {},
   "source": [
    "## Best model with overestimating Features:"
   ]
  },
  {
   "cell_type": "markdown",
   "metadata": {},
   "source": [
    "**Initial Take:**"
   ]
  },
  {
   "cell_type": "code",
   "execution_count": 10,
   "metadata": {},
   "outputs": [],
   "source": [
    "transf = ColumnTransformer(\n",
    "    [('cat', OrdinalEncoder(), ['Generation', 'Gender', 'MProximity', 'Rehire', 'Contract Type', 'PeopleManager', 'Country', 'CostCenterH', 'TopPerformer']),\n",
    "     ('null', SimpleImputer (missing_values= np.nan, strategy = 'median'), ['PayIncrease', 'Age']), \n",
    "     ('other', \"passthrough\", ['Tenure', 'Dependents', 'EmployeeCount', 'HireCount', 'MTenure', 'HomeOffice','TimeinPosition', 'TimeJobProfile', 'MTimeJobProfile', 'TerminationCount'])\n",
    "    ])"
   ]
  },
  {
   "cell_type": "code",
   "execution_count": 11,
   "metadata": {},
   "outputs": [],
   "source": [
    "model = Pipeline([\n",
    "    ('Feature Eng', transf),\n",
    "    ('Gradient Boosting', GradientBoostingClassifier(learning_rate = 0.1, max_depth = 9, n_estimators = 100))\n",
    "])"
   ]
  },
  {
   "cell_type": "code",
   "execution_count": 12,
   "metadata": {},
   "outputs": [
    {
     "data": {
      "text/plain": [
       "Pipeline(steps=[('Feature Eng',\n",
       "                 ColumnTransformer(transformers=[('cat', OrdinalEncoder(),\n",
       "                                                  ['Generation', 'Gender',\n",
       "                                                   'MProximity', 'Rehire',\n",
       "                                                   'Contract Type',\n",
       "                                                   'PeopleManager', 'Country',\n",
       "                                                   'CostCenterH',\n",
       "                                                   'TopPerformer']),\n",
       "                                                 ('null',\n",
       "                                                  SimpleImputer(strategy='median'),\n",
       "                                                  ['PayIncrease', 'Age']),\n",
       "                                                 ('other', 'passthrough',\n",
       "                                                  ['Tenure', 'Dependents',\n",
       "                                                   'EmployeeCount', 'HireCount',\n",
       "                                                   'MTenure', 'HomeOffice',\n",
       "                                                   'TimeinPosition',\n",
       "                                                   'TimeJobProfile',\n",
       "                                                   'MTimeJobProfile',\n",
       "                                                   'TerminationCount'])])),\n",
       "                ('Gradient Boosting', GradientBoostingClassifier(max_depth=9))])"
      ]
     },
     "execution_count": 12,
     "metadata": {},
     "output_type": "execute_result"
    }
   ],
   "source": [
    "model.fit(X_train_, y_train_)"
   ]
  },
  {
   "cell_type": "markdown",
   "metadata": {},
   "source": [
    "## Feature Importance:"
   ]
  },
  {
   "cell_type": "code",
   "execution_count": 13,
   "metadata": {},
   "outputs": [],
   "source": [
    "results = permutation_importance(model, X_val, y_val, scoring='roc_auc')\n",
    "\n",
    "importance = results.importances_mean"
   ]
  },
  {
   "cell_type": "code",
   "execution_count": 14,
   "metadata": {},
   "outputs": [
    {
     "data": {
      "text/plain": [
       "array([ 0.00000000e+00,  6.32842069e-04, -1.47257482e-04,  6.81522229e-05,\n",
       "        1.18901289e-03,  3.94309289e-04, -1.33870438e-05,  0.00000000e+00,\n",
       "        1.02350035e-03,  6.37710085e-04,  7.05764948e-02,  2.70941596e-02,\n",
       "        5.68827660e-03,  6.34059073e-04,  0.00000000e+00,  0.00000000e+00,\n",
       "        0.00000000e+00,  3.89319573e-03,  1.36754737e-02, -4.74631552e-05,\n",
       "        3.03155691e-03,  0.00000000e+00,  0.00000000e+00,  0.00000000e+00,\n",
       "        0.00000000e+00,  0.00000000e+00,  0.00000000e+00,  0.00000000e+00,\n",
       "        0.00000000e+00,  0.00000000e+00,  0.00000000e+00,  0.00000000e+00,\n",
       "        0.00000000e+00,  0.00000000e+00,  1.68222809e-01,  7.60639657e-02,\n",
       "        0.00000000e+00,  5.20877703e-04,  0.00000000e+00,  0.00000000e+00,\n",
       "        0.00000000e+00,  0.00000000e+00,  0.00000000e+00,  4.63678516e-04,\n",
       "        0.00000000e+00,  3.45629130e-04])"
      ]
     },
     "execution_count": 14,
     "metadata": {},
     "output_type": "execute_result"
    }
   ],
   "source": [
    "importance"
   ]
  },
  {
   "cell_type": "code",
   "execution_count": 15,
   "metadata": {},
   "outputs": [
    {
     "name": "stdout",
     "output_type": "stream",
     "text": [
      "Feature: 0, Score: 0.00000\n",
      "Feature: 1, Score: 0.00063\n",
      "Feature: 2, Score: -0.00015\n",
      "Feature: 3, Score: 0.00007\n",
      "Feature: 4, Score: 0.00119\n",
      "Feature: 5, Score: 0.00039\n",
      "Feature: 6, Score: -0.00001\n",
      "Feature: 7, Score: 0.00000\n",
      "Feature: 8, Score: 0.00102\n",
      "Feature: 9, Score: 0.00064\n",
      "Feature: 10, Score: 0.07058\n",
      "Feature: 11, Score: 0.02709\n",
      "Feature: 12, Score: 0.00569\n",
      "Feature: 13, Score: 0.00063\n",
      "Feature: 14, Score: 0.00000\n",
      "Feature: 15, Score: 0.00000\n",
      "Feature: 16, Score: 0.00000\n",
      "Feature: 17, Score: 0.00389\n",
      "Feature: 18, Score: 0.01368\n",
      "Feature: 19, Score: -0.00005\n",
      "Feature: 20, Score: 0.00303\n",
      "Feature: 21, Score: 0.00000\n",
      "Feature: 22, Score: 0.00000\n",
      "Feature: 23, Score: 0.00000\n",
      "Feature: 24, Score: 0.00000\n",
      "Feature: 25, Score: 0.00000\n",
      "Feature: 26, Score: 0.00000\n",
      "Feature: 27, Score: 0.00000\n",
      "Feature: 28, Score: 0.00000\n",
      "Feature: 29, Score: 0.00000\n",
      "Feature: 30, Score: 0.00000\n",
      "Feature: 31, Score: 0.00000\n",
      "Feature: 32, Score: 0.00000\n",
      "Feature: 33, Score: 0.00000\n",
      "Feature: 34, Score: 0.16822\n",
      "Feature: 35, Score: 0.07606\n",
      "Feature: 36, Score: 0.00000\n",
      "Feature: 37, Score: 0.00052\n",
      "Feature: 38, Score: 0.00000\n",
      "Feature: 39, Score: 0.00000\n",
      "Feature: 40, Score: 0.00000\n",
      "Feature: 41, Score: 0.00000\n",
      "Feature: 42, Score: 0.00000\n",
      "Feature: 43, Score: 0.00046\n",
      "Feature: 44, Score: 0.00000\n",
      "Feature: 45, Score: 0.00035\n"
     ]
    }
   ],
   "source": [
    "for f,s in enumerate(importance):\n",
    "        print('Feature: %0d, Score: %.5f' % (f,s))"
   ]
  },
  {
   "cell_type": "code",
   "execution_count": 16,
   "metadata": {},
   "outputs": [
    {
     "name": "stdout",
     "output_type": "stream",
     "text": [
      "<class 'pandas.core.frame.DataFrame'>\n",
      "Int64Index: 901 entries, 2232 to 2049\n",
      "Data columns (total 46 columns):\n",
      " #   Column            Non-Null Count  Dtype  \n",
      "---  ------            --------------  -----  \n",
      " 0   Id                901 non-null    int64  \n",
      " 1   Rehire            901 non-null    object \n",
      " 2   Age               896 non-null    float64\n",
      " 3   Generation        901 non-null    object \n",
      " 4   CostCenterH       901 non-null    object \n",
      " 5   Gender            901 non-null    object \n",
      " 6   Dependents        901 non-null    int64  \n",
      " 7   ManagementLevel   901 non-null    object \n",
      " 8   EmployeeCount     901 non-null    int64  \n",
      " 9   HireCount         901 non-null    int64  \n",
      " 10  TerminationCount  901 non-null    int64  \n",
      " 11  Tenure            901 non-null    int64  \n",
      " 12  PayIncrease       883 non-null    float64\n",
      " 13  PeopleManager     901 non-null    object \n",
      " 14  BLeave            901 non-null    object \n",
      " 15  BTimeOut          901 non-null    object \n",
      " 16  ParentLeave       901 non-null    object \n",
      " 17  HomeOffice        901 non-null    float64\n",
      " 18  Contract Type     901 non-null    object \n",
      " 19  MProximity        901 non-null    object \n",
      " 20  MTenure           901 non-null    int64  \n",
      " 21  MManagementLevel  901 non-null    object \n",
      " 22  MBoomerang        901 non-null    object \n",
      " 23  MParentLeave      901 non-null    object \n",
      " 24  MHomeoffice       901 non-null    float64\n",
      " 25  MY2018            244 non-null    float64\n",
      " 26  YE2018            323 non-null    float64\n",
      " 27  MY2019            352 non-null    float64\n",
      " 28  ARHappiness       81 non-null     float64\n",
      " 29  ARStay            81 non-null     float64\n",
      " 30  ARResponses       81 non-null     float64\n",
      " 31  DRHappiness       30 non-null     float64\n",
      " 32  DRStay            30 non-null     float64\n",
      " 33  DRResponses       30 non-null     float64\n",
      " 34  TimeJobProfile    901 non-null    float64\n",
      " 35  TimeinPosition    901 non-null    float64\n",
      " 36  OfficeLocation    901 non-null    object \n",
      " 37  Country           901 non-null    object \n",
      " 38  ModNationality    829 non-null    object \n",
      " 39  2ndNationality    901 non-null    int64  \n",
      " 40  MOfficeLocation   901 non-null    object \n",
      " 41  MCountry          901 non-null    object \n",
      " 42  Out               901 non-null    int64  \n",
      " 43  MTimeJobProfile   901 non-null    float64\n",
      " 44  MTimeinPosition   901 non-null    float64\n",
      " 45  TopPerformer      901 non-null    int64  \n",
      "dtypes: float64(17), int64(10), object(19)\n",
      "memory usage: 330.8+ KB\n"
     ]
    }
   ],
   "source": [
    "X_val.info()"
   ]
  },
  {
   "cell_type": "code",
   "execution_count": 17,
   "metadata": {},
   "outputs": [],
   "source": [
    "f_imp = pd.Series(importance, name = 'Features Importances')"
   ]
  },
  {
   "cell_type": "code",
   "execution_count": 18,
   "metadata": {},
   "outputs": [
    {
     "data": {
      "text/plain": [
       "2    -0.000147\n",
       "19   -0.000047\n",
       "6    -0.000013\n",
       "0     0.000000\n",
       "24    0.000000\n",
       "25    0.000000\n",
       "26    0.000000\n",
       "27    0.000000\n",
       "28    0.000000\n",
       "29    0.000000\n",
       "30    0.000000\n",
       "32    0.000000\n",
       "23    0.000000\n",
       "33    0.000000\n",
       "36    0.000000\n",
       "38    0.000000\n",
       "39    0.000000\n",
       "40    0.000000\n",
       "41    0.000000\n",
       "42    0.000000\n",
       "31    0.000000\n",
       "44    0.000000\n",
       "22    0.000000\n",
       "16    0.000000\n",
       "15    0.000000\n",
       "14    0.000000\n",
       "21    0.000000\n",
       "7     0.000000\n",
       "3     0.000068\n",
       "45    0.000346\n",
       "5     0.000394\n",
       "43    0.000464\n",
       "37    0.000521\n",
       "1     0.000633\n",
       "13    0.000634\n",
       "9     0.000638\n",
       "8     0.001024\n",
       "4     0.001189\n",
       "20    0.003032\n",
       "17    0.003893\n",
       "12    0.005688\n",
       "18    0.013675\n",
       "11    0.027094\n",
       "10    0.070576\n",
       "35    0.076064\n",
       "34    0.168223\n",
       "Name: Features Importances, dtype: float64"
      ]
     },
     "execution_count": 18,
     "metadata": {},
     "output_type": "execute_result"
    }
   ],
   "source": [
    "f_imp.sort_values()"
   ]
  },
  {
   "cell_type": "markdown",
   "metadata": {},
   "source": [
    "---"
   ]
  },
  {
   "cell_type": "markdown",
   "metadata": {},
   "source": [
    "**Filter by the Features actually used in the model:**"
   ]
  },
  {
   "cell_type": "code",
   "execution_count": 37,
   "metadata": {},
   "outputs": [],
   "source": [
    "f_imp_used = f_imp[f_imp != 0]"
   ]
  },
  {
   "cell_type": "code",
   "execution_count": 38,
   "metadata": {},
   "outputs": [
    {
     "data": {
      "text/plain": [
       "34    0.168223\n",
       "35    0.076064\n",
       "10    0.070576\n",
       "11    0.027094\n",
       "18    0.013675\n",
       "12    0.005688\n",
       "17    0.003893\n",
       "20    0.003032\n",
       "4     0.001189\n",
       "8     0.001024\n",
       "9     0.000638\n",
       "13    0.000634\n",
       "1     0.000633\n",
       "37    0.000521\n",
       "43    0.000464\n",
       "5     0.000394\n",
       "45    0.000346\n",
       "3     0.000068\n",
       "6    -0.000013\n",
       "19   -0.000047\n",
       "2    -0.000147\n",
       "Name: Features Importances, dtype: float64"
      ]
     },
     "execution_count": 38,
     "metadata": {},
     "output_type": "execute_result"
    }
   ],
   "source": [
    "f_imp_used.sort_values(ascending = False)"
   ]
  },
  {
   "cell_type": "code",
   "execution_count": 39,
   "metadata": {},
   "outputs": [
    {
     "data": {
      "image/png": "[encoded data removed]",
      "text/plain": [
       "<Figure size 432x288 with 1 Axes>"
      ]
     },
     "metadata": {
      "needs_background": "light"
     },
     "output_type": "display_data"
    }
   ],
   "source": [
    "pyplot.bar([x for x in range(len(f_imp_used))], f_imp_used)\n",
    "pyplot.show()"
   ]
  },
  {
   "cell_type": "markdown",
   "metadata": {},
   "source": [
    "---"
   ]
  },
  {
   "cell_type": "markdown",
   "metadata": {},
   "source": [
    "## Take 2:"
   ]
  },
  {
   "cell_type": "markdown",
   "metadata": {},
   "source": [
    "**Remove the less important Features from the model.**\n",
    "\n",
    "**Withdrawals:** 'Gender' - 'Dependents' - 'MProximity' - 'Rehire' - 'Generation' - Generation - Dependents - Employee Count - Age -MTimeJobProfile - HireCount"
   ]
  },
  {
   "cell_type": "code",
   "execution_count": 23,
   "metadata": {},
   "outputs": [],
   "source": [
    "transf_v2 = ColumnTransformer(\n",
    "    [('cat', OrdinalEncoder(), ['Contract Type', 'PeopleManager', 'Country', 'CostCenterH', 'TopPerformer']),\n",
    "     ('null', SimpleImputer (missing_values= np.nan, strategy = 'median'), ['PayIncrease']), \n",
    "     ('other', \"passthrough\", ['Tenure', 'MTenure', 'HomeOffice','TimeinPosition', 'TimeJobProfile', 'TerminationCount'])\n",
    "    ])"
   ]
  },
  {
   "cell_type": "code",
   "execution_count": 24,
   "metadata": {},
   "outputs": [],
   "source": [
    "model_v2 = Pipeline([\n",
    "    ('Feature Eng', transf),\n",
    "    ('Gradient Boosting', GradientBoostingClassifier(learning_rate = 0.1, max_depth = 9, n_estimators = 100))\n",
    "])"
   ]
  },
  {
   "cell_type": "code",
   "execution_count": 25,
   "metadata": {},
   "outputs": [
    {
     "data": {
      "text/plain": [
       "Pipeline(steps=[('Feature Eng',\n",
       "                 ColumnTransformer(transformers=[('cat', OrdinalEncoder(),\n",
       "                                                  ['Generation', 'Gender',\n",
       "                                                   'MProximity', 'Rehire',\n",
       "                                                   'Contract Type',\n",
       "                                                   'PeopleManager', 'Country',\n",
       "                                                   'CostCenterH',\n",
       "                                                   'TopPerformer']),\n",
       "                                                 ('null',\n",
       "                                                  SimpleImputer(strategy='median'),\n",
       "                                                  ['PayIncrease', 'Age']),\n",
       "                                                 ('other', 'passthrough',\n",
       "                                                  ['Tenure', 'Dependents',\n",
       "                                                   'EmployeeCount', 'HireCount',\n",
       "                                                   'MTenure', 'HomeOffice',\n",
       "                                                   'TimeinPosition',\n",
       "                                                   'TimeJobProfile',\n",
       "                                                   'MTimeJobProfile',\n",
       "                                                   'TerminationCount'])])),\n",
       "                ('Gradient Boosting', GradientBoostingClassifier(max_depth=9))])"
      ]
     },
     "execution_count": 25,
     "metadata": {},
     "output_type": "execute_result"
    }
   ],
   "source": [
    "model_v2.fit(X_train, y_train)"
   ]
  },
  {
   "cell_type": "markdown",
   "metadata": {},
   "source": [
    "---"
   ]
  },
  {
   "cell_type": "markdown",
   "metadata": {},
   "source": [
    "## Evaluate model performance on test dataset: \n",
    "\n",
    "**We will be using Roc Curve and Roc AUC as model performance measurement, as it allows us to know how close is the ability of our model correctly predict weather or not a said employee will leave the Organization from the actual reality of employee actually leave the Organization.**\n",
    "\n",
    "**A score of 1 in AUC will have our model correclty identify all True positives while providing no False positives.**"
   ]
  },
  {
   "cell_type": "markdown",
   "metadata": {},
   "source": [
    "### Plot roc curve:"
   ]
  },
  {
   "cell_type": "code",
   "execution_count": 26,
   "metadata": {},
   "outputs": [
    {
     "data": {
      "image/png": "[encoded data removed]",
      "text/plain": [
       "<Figure size 432x288 with 1 Axes>"
      ]
     },
     "metadata": {
      "needs_background": "light"
     },
     "output_type": "display_data"
    }
   ],
   "source": [
    "model_v2_disp = plot_roc_curve(model_v2, X_test, y_test)"
   ]
  },
  {
   "cell_type": "markdown",
   "metadata": {},
   "source": [
    "---"
   ]
  },
  {
   "cell_type": "markdown",
   "metadata": {},
   "source": [
    "### Evaluate the model for TopPerformers vs Non TopPerformer"
   ]
  },
  {
   "cell_type": "code",
   "execution_count": 27,
   "metadata": {},
   "outputs": [
    {
     "data": {
      "text/plain": [
       "(1126, 46)"
      ]
     },
     "execution_count": 27,
     "metadata": {},
     "output_type": "execute_result"
    }
   ],
   "source": [
    "X_test.shape"
   ]
  },
  {
   "cell_type": "code",
   "execution_count": 28,
   "metadata": {},
   "outputs": [
    {
     "data": {
      "image/png": "[encoded data removed]",
      "text/plain": [
       "<Figure size 432x288 with 1 Axes>"
      ]
     },
     "metadata": {
      "needs_background": "light"
     },
     "output_type": "display_data"
    }
   ],
   "source": [
    "model_v2_ntp = plot_roc_curve(model_v2, X_test[X_test['TopPerformer']== 0], y_test[X_test[X_test['TopPerformer'] == 0].index.values], name = 'Not TopPerformer')"
   ]
  },
  {
   "cell_type": "code",
   "execution_count": 29,
   "metadata": {},
   "outputs": [
    {
     "data": {
      "image/png": "[encoded data removed]",
      "text/plain": [
       "<Figure size 432x288 with 1 Axes>"
      ]
     },
     "metadata": {
      "needs_background": "light"
     },
     "output_type": "display_data"
    }
   ],
   "source": [
    "ax = pyplot.gca()\n",
    "model_v2_tp = plot_roc_curve(model_v2, X_test[X_test['TopPerformer']== 1], y_test[X_test[X_test['TopPerformer'] == 1].index.values], name = 'TopPerformer', ax=ax, alpha=0.8)"
   ]
  },
  {
   "cell_type": "code",
   "execution_count": 30,
   "metadata": {},
   "outputs": [
    {
     "data": {
      "text/plain": [
       "<sklearn.metrics._plot.roc_curve.RocCurveDisplay at 0x7f7fbe34e130>"
      ]
     },
     "execution_count": 30,
     "metadata": {},
     "output_type": "execute_result"
    },
    {
     "data": {
      "image/png": "[encoded data removed]",
      "text/plain": [
       "<Figure size 432x288 with 1 Axes>"
      ]
     },
     "metadata": {
      "needs_background": "light"
     },
     "output_type": "display_data"
    }
   ],
   "source": [
    "ax = pyplot.gca()\n",
    "model_v2_tp = plot_roc_curve(model_v2, X_test[X_test['TopPerformer']== 1], y_test[X_test[X_test['TopPerformer'] == 1].index.values], name = 'TopPerformer', ax=ax, alpha=0.8)\n",
    "model_v2_ntp.plot(ax=ax, alpha=0.8)"
   ]
  },
  {
   "cell_type": "markdown",
   "metadata": {},
   "source": [
    "**From the above plot we can see our model A is pretty robust when it comes to identify wheater or not a given employee, Top Performer or not, will be leaving the Organization. Being slightly better at identifying general employees migration.**"
   ]
  },
  {
   "cell_type": "markdown",
   "metadata": {},
   "source": [
    "---"
   ]
  },
  {
   "cell_type": "markdown",
   "metadata": {},
   "source": [
    "### By Gender:"
   ]
  },
  {
   "cell_type": "code",
   "execution_count": 31,
   "metadata": {},
   "outputs": [
    {
     "data": {
      "image/png": "[encoded data removed]",
      "text/plain": [
       "<Figure size 432x288 with 1 Axes>"
      ]
     },
     "metadata": {
      "needs_background": "light"
     },
     "output_type": "display_data"
    }
   ],
   "source": [
    "model_v2_fem = plot_roc_curve(model_v2, X_test[X_test['Gender']== 'Female'], y_test[X_test[X_test['Gender'] == 'Female'].index.values], name = 'Female')"
   ]
  },
  {
   "cell_type": "code",
   "execution_count": 32,
   "metadata": {},
   "outputs": [
    {
     "data": {
      "text/plain": [
       "<sklearn.metrics._plot.roc_curve.RocCurveDisplay at 0x7f7fc326b3d0>"
      ]
     },
     "execution_count": 32,
     "metadata": {},
     "output_type": "execute_result"
    },
    {
     "data": {
      "image/png": "[encoded data removed]",
      "text/plain": [
       "<Figure size 432x288 with 1 Axes>"
      ]
     },
     "metadata": {
      "needs_background": "light"
     },
     "output_type": "display_data"
    }
   ],
   "source": [
    "ax_v2 = pyplot.gca()\n",
    "model_v2_male = plot_roc_curve(model_v2, X_test[X_test['Gender']== 'Male'], y_test[X_test[X_test['Gender'] == 'Male'].index.values], name = 'Male', ax=ax_v2, alpha=0.8)\n",
    "model_v2_fem.plot(ax=ax_v2, alpha=0.8)\n"
   ]
  },
  {
   "cell_type": "markdown",
   "metadata": {},
   "source": [
    "**When it comes to Gender our model A presents similar strong performance in identifying Male and Female employees migration from the Organization.**"
   ]
  },
  {
   "cell_type": "markdown",
   "metadata": {},
   "source": [
    "---"
   ]
  },
  {
   "cell_type": "markdown",
   "metadata": {},
   "source": [
    "### By Generation:"
   ]
  },
  {
   "cell_type": "code",
   "execution_count": 33,
   "metadata": {},
   "outputs": [
    {
     "data": {
      "text/plain": [
       "array(['Generation Y / Millennials (1981 -1996)',\n",
       "       'Generation X (1965 -1980)', 'Generation Z (1997 and onwards)',\n",
       "       'Baby Boomers (1946 -1964)', 'Not Available'], dtype=object)"
      ]
     },
     "execution_count": 33,
     "metadata": {},
     "output_type": "execute_result"
    }
   ],
   "source": [
    "X_test['Generation'].unique()"
   ]
  },
  {
   "cell_type": "markdown",
   "metadata": {},
   "source": [
    "**Generation Baby Boomers removed due to reduced sampling:**"
   ]
  },
  {
   "cell_type": "code",
   "execution_count": 34,
   "metadata": {},
   "outputs": [
    {
     "data": {
      "image/png": "[encoded data removed]",
      "text/plain": [
       "<Figure size 432x288 with 1 Axes>"
      ]
     },
     "metadata": {
      "needs_background": "light"
     },
     "output_type": "display_data"
    }
   ],
   "source": [
    "model_v2_gx = plot_roc_curve(model_v2, X_test[X_test['Generation']== 'Generation X (1965 -1980)'], y_test[X_test[X_test['Generation'] == 'Generation X (1965 -1980)'].index.values], name ='Generation X (1965 -1980)')\n",
    "\n",
    "# model_v2_bb = plot_roc_curve(model_v2, X_test[X_test['Generation']== 'Baby Boomers (1946 -1964)'], y_test[X_test[X_test['Generation'] == 'Baby Boomers (1946 -1964)'].index.values], name = 'Baby Boomers (1946 -1964)')"
   ]
  },
  {
   "cell_type": "code",
   "execution_count": 35,
   "metadata": {},
   "outputs": [
    {
     "data": {
      "text/plain": [
       "<sklearn.metrics._plot.roc_curve.RocCurveDisplay at 0x7f7fc36d3550>"
      ]
     },
     "execution_count": 35,
     "metadata": {},
     "output_type": "execute_result"
    },
    {
     "data": {
      "image/png": "[encoded data removed]",
      "text/plain": [
       "<Figure size 432x288 with 1 Axes>"
      ]
     },
     "metadata": {
      "needs_background": "light"
     },
     "output_type": "display_data"
    }
   ],
   "source": [
    "ax_v3 = pyplot.gca()\n",
    "model_v2_gy = plot_roc_curve(model_v2, X_test[X_test['Generation']== 'Generation Y / Millennials (1981 -1996)'], y_test[X_test[X_test['Generation'] == 'Generation Y / Millennials (1981 -1996)'].index.values], name ='Generation Y / Millennials (1981 -1996)', ax=ax_v3, alpha=0.8)\n",
    "model_v2_gz = plot_roc_curve(model_v2, X_test[X_test['Generation']== 'Generation Z (1997 and onwards)'], y_test[X_test[X_test['Generation'] == 'Generation Z (1997 and onwards)'].index.values], name ='Generation Z (1997 and onwards)', ax=ax_v3, alpha=0.8)\n",
    "\n",
    "\n",
    "model_v2_gx.plot(ax=ax_v3, alpha=0.8)\n"
   ]
  },
  {
   "cell_type": "markdown",
   "metadata": {},
   "source": [
    "**Filtering by Generation we can conclude that the ability for model A to predict employee migration is still robust, reaching 1.00 with regards to Generation Z. And considering this is the most recent Generation hitting the professional market and therefore much more volatile in terms of commitment with any given company, these results are very encouraging and helpful for the Organization.**"
   ]
  },
  {
   "cell_type": "markdown",
   "metadata": {},
   "source": [
    "**Note:**"
   ]
  },
  {
   "cell_type": "markdown",
   "metadata": {},
   "source": [
    "**Overall model A was very close to perfection, but we can not ignore the fact that it contains overestimating features as previously analyzed with Feature Importance and it has direct impact on these results. We will now look at model B performance without these overestimating features.**"
   ]
  },
  {
   "cell_type": "code",
   "execution_count": null,
   "metadata": {},
   "outputs": [],
   "source": []
  }
 ],
 "metadata": {
  "kernelspec": {
   "display_name": "Python 3",
   "language": "python",
   "name": "python3"
  },
  "language_info": {
   "codemirror_mode": {
    "name": "ipython",
    "version": 3
   },
   "file_extension": ".py",
   "mimetype": "text/x-python",
   "name": "python",
   "nbconvert_exporter": "python",
   "pygments_lexer": "ipython3",
   "version": "3.8.3"
  }
 },
 "nbformat": 4,
 "nbformat_minor": 4
}
