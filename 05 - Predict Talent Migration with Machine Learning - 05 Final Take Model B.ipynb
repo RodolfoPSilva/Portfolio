{
 "cells": [
  {
   "cell_type": "markdown",
   "metadata": {},
   "source": [
    "## Predict Talent Migration with Machine Learning - 05 Final Take Model B\n",
    "\n",
    "---\n",
    "\n",
    "<p style=\"text-align: center;\">\n",
    "Project split into 5 Notebooks:</br>\n",
    "</br>\n",
    "Predict Talent Migration with Machine Learning - 01 Exploratory Analysis</br>\n",
    "*</br>\n",
    "Predict Talent Migration with Machine Learning - 02 Modeling</br>\n",
    "*</br>\n",
    "Predict Talent Migration with Machine Learning - 03 Grid Build</br>\n",
    "*</br>\n",
    "Predict Talent Migration with Machine Learning - 04 Final Take Model A</br>\n",
    "*</br>\n",
    "Predict Talent Migration with Machine Learning - 05 Final Take Model B</br> </p> \n",
    "         \n",
    "---\n",
    "\n",
    "This project aims to create a machine learning model that allows the prediction of employees departure from an Organization. </br>\n",
    "We will focus our forecast on the Organization's best employees (Top Performers), although a comparison between employees in general will be made. Top Performers will be identified through the creation of a condition, which will be based on the classification of employees evaluation cycles. An analysis on model performance will also be presented, concerning the model's ability to predict the employees departure by **Generation** and **Gender.**\n",
    "\n",
    "Employees are evaluated on a semiannual basis and our data concerns the last 3 evaluation cycles, between January 1st 2018 to September 31st 2019.\n",
    "\n",
    "Ratings per evaluation are: </br>\n",
    "\n",
    "  - Mid Year 2018 (MY2018): **0,1,2,3,4,5** </br>\n",
    "  - Year End 2018 (YE2018): **0,1,2,3,4,5** </br>\n",
    "  - Mid Year 2019: **0,1,2,3***.</br>\n",
    "             \n",
    "**Data from the Organization shows a change of ratings scale was purpousely made to decrease results granularity.*"
   ]
  },
  {
   "cell_type": "code",
   "execution_count": 1,
   "metadata": {},
   "outputs": [],
   "source": [
    "import random\n",
    "import pandas as pd\n",
    "import numpy as np\n",
    "import seaborn as sns\n",
    "from matplotlib import pyplot\n",
    "\n",
    "from sklearn.linear_model import LogisticRegression\n",
    "from sklearn.ensemble import RandomForestRegressor\n",
    "from sklearn.ensemble import GradientBoostingClassifier\n",
    "\n",
    "from sklearn.model_selection import cross_val_score, train_test_split\n",
    "from sklearn.pipeline import Pipeline\n",
    "from sklearn.compose import ColumnTransformer\n",
    "from sklearn.impute import SimpleImputer\n",
    "from sklearn.preprocessing import KBinsDiscretizer, PowerTransformer, OneHotEncoder\n",
    "\n",
    "from sklearn.model_selection import KFold\n",
    "from sklearn.inspection import permutation_importance\n",
    "\n",
    "from category_encoders.ordinal import OrdinalEncoder\n",
    "\n",
    "from sklearn.metrics import roc_auc_score\n",
    "from sklearn.metrics import plot_roc_curve"
   ]
  },
  {
   "cell_type": "markdown",
   "metadata": {},
   "source": [
    "## Data:"
   ]
  },
  {
   "cell_type": "markdown",
   "metadata": {},
   "source": [
    "**The best models parameters results after GridSearch CV were chosen as the main models to finally fit our Test dataset and provide us with final findings. As we have been doing, we have 2 models, one with and another without the overestimating features previously identified.** \n",
    "\n",
    "**This notebook will go over the model B - without overestimating features.**"
   ]
  },
  {
   "cell_type": "markdown",
   "metadata": {},
   "source": [
    "---"
   ]
  },
  {
   "cell_type": "code",
   "execution_count": 2,
   "metadata": {},
   "outputs": [],
   "source": [
    "df = pd.read_csv('projeto_final.csv', index_col = False)"
   ]
  },
  {
   "cell_type": "code",
   "execution_count": 3,
   "metadata": {},
   "outputs": [],
   "source": [
    "X = df.copy()"
   ]
  },
  {
   "cell_type": "code",
   "execution_count": 4,
   "metadata": {},
   "outputs": [],
   "source": [
    "y = df.pop('Out')"
   ]
  },
  {
   "cell_type": "markdown",
   "metadata": {},
   "source": [
    "## Train - Test Split"
   ]
  },
  {
   "cell_type": "code",
   "execution_count": 5,
   "metadata": {},
   "outputs": [],
   "source": [
    "X_train, X_test, y_train, y_test = train_test_split(X, y, test_size=0.2)"
   ]
  },
  {
   "cell_type": "code",
   "execution_count": 6,
   "metadata": {},
   "outputs": [
    {
     "data": {
      "text/plain": [
       "(4504, 46)"
      ]
     },
     "execution_count": 6,
     "metadata": {},
     "output_type": "execute_result"
    }
   ],
   "source": [
    "X_train.shape"
   ]
  },
  {
   "cell_type": "code",
   "execution_count": 7,
   "metadata": {},
   "outputs": [
    {
     "data": {
      "text/plain": [
       "(4504,)"
      ]
     },
     "execution_count": 7,
     "metadata": {},
     "output_type": "execute_result"
    }
   ],
   "source": [
    "y_train.shape"
   ]
  },
  {
   "cell_type": "code",
   "execution_count": 8,
   "metadata": {},
   "outputs": [
    {
     "data": {
      "text/plain": [
       "(1126, 46)"
      ]
     },
     "execution_count": 8,
     "metadata": {},
     "output_type": "execute_result"
    }
   ],
   "source": [
    "X_test.shape"
   ]
  },
  {
   "cell_type": "markdown",
   "metadata": {},
   "source": [
    "Validação:"
   ]
  },
  {
   "cell_type": "code",
   "execution_count": 9,
   "metadata": {},
   "outputs": [],
   "source": [
    "X_train_, X_val, y_train_, y_val = train_test_split(X_train, y_train, test_size=0.2)"
   ]
  },
  {
   "cell_type": "markdown",
   "metadata": {},
   "source": [
    "---"
   ]
  },
  {
   "cell_type": "markdown",
   "metadata": {},
   "source": [
    "## Best model without overestimating Features:"
   ]
  },
  {
   "cell_type": "markdown",
   "metadata": {},
   "source": [
    "Initial Take:"
   ]
  },
  {
   "cell_type": "code",
   "execution_count": 10,
   "metadata": {},
   "outputs": [],
   "source": [
    "transf = ColumnTransformer(\n",
    "    [('cat', OrdinalEncoder(), ['Generation', 'Gender', 'MProximity', 'Rehire', 'Contract Type', 'PeopleManager', 'Country', 'CostCenterH', 'TopPerformer']),\n",
    "     ('null', SimpleImputer (missing_values= np.nan, strategy = 'median'), ['PayIncrease', 'Age']), \n",
    "     ('other', \"passthrough\", ['Tenure', 'Dependents', 'EmployeeCount', 'HireCount', 'MTenure', 'HomeOffice'])\n",
    "    ])\n"
   ]
  },
  {
   "cell_type": "code",
   "execution_count": 11,
   "metadata": {},
   "outputs": [],
   "source": [
    "model = Pipeline([\n",
    "    ('Feature Eng', transf),\n",
    "    ('Gradient Boosting', GradientBoostingClassifier(n_estimators = 100, learning_rate = 0.1, max_depth = 9))\n",
    "])"
   ]
  },
  {
   "cell_type": "code",
   "execution_count": 12,
   "metadata": {},
   "outputs": [],
   "source": [
    "results_take_inicial = cross_val_score(model, X_train, y_train, cv = KFold(n_splits = 5, shuffle = True), scoring = \"roc_auc\")\n",
    "results_take_inicial_mean = results_take_inicial.mean()\n",
    "results_take_inicial_std = results_take_inicial.std()"
   ]
  },
  {
   "cell_type": "code",
   "execution_count": 13,
   "metadata": {},
   "outputs": [
    {
     "data": {
      "text/plain": [
       "0.8978816580080846"
      ]
     },
     "execution_count": 13,
     "metadata": {},
     "output_type": "execute_result"
    }
   ],
   "source": [
    "results_take_inicial_mean"
   ]
  },
  {
   "cell_type": "code",
   "execution_count": 14,
   "metadata": {},
   "outputs": [
    {
     "data": {
      "text/plain": [
       "0.013128739900578383"
      ]
     },
     "execution_count": 14,
     "metadata": {},
     "output_type": "execute_result"
    }
   ],
   "source": [
    "results_take_inicial_std"
   ]
  },
  {
   "cell_type": "code",
   "execution_count": 15,
   "metadata": {},
   "outputs": [
    {
     "data": {
      "text/plain": [
       "Pipeline(steps=[('Feature Eng',\n",
       "                 ColumnTransformer(transformers=[('cat', OrdinalEncoder(),\n",
       "                                                  ['Generation', 'Gender',\n",
       "                                                   'MProximity', 'Rehire',\n",
       "                                                   'Contract Type',\n",
       "                                                   'PeopleManager', 'Country',\n",
       "                                                   'CostCenterH',\n",
       "                                                   'TopPerformer']),\n",
       "                                                 ('null',\n",
       "                                                  SimpleImputer(strategy='median'),\n",
       "                                                  ['PayIncrease', 'Age']),\n",
       "                                                 ('other', 'passthrough',\n",
       "                                                  ['Tenure', 'Dependents',\n",
       "                                                   'EmployeeCount', 'HireCount',\n",
       "                                                   'MTenure',\n",
       "                                                   'HomeOffice'])])),\n",
       "                ('Gradient Boosting', GradientBoostingClassifier(max_depth=9))])"
      ]
     },
     "execution_count": 15,
     "metadata": {},
     "output_type": "execute_result"
    }
   ],
   "source": [
    "model.fit(X_train_, y_train_)"
   ]
  },
  {
   "cell_type": "markdown",
   "metadata": {},
   "source": [
    "## Feature Importance: "
   ]
  },
  {
   "cell_type": "code",
   "execution_count": 16,
   "metadata": {},
   "outputs": [],
   "source": [
    "results = permutation_importance(model, X_val, y_val, scoring='roc_auc')\n",
    "\n",
    "importance = results.importances_mean"
   ]
  },
  {
   "cell_type": "code",
   "execution_count": 17,
   "metadata": {},
   "outputs": [
    {
     "name": "stdout",
     "output_type": "stream",
     "text": [
      "Feature: 0, Score: 0.00000\n",
      "Feature: 1, Score: 0.00151\n",
      "Feature: 2, Score: 0.00105\n",
      "Feature: 3, Score: 0.00183\n",
      "Feature: 4, Score: 0.00693\n",
      "Feature: 5, Score: 0.00152\n",
      "Feature: 6, Score: 0.00247\n",
      "Feature: 7, Score: 0.00000\n",
      "Feature: 8, Score: 0.03653\n",
      "Feature: 9, Score: 0.06859\n",
      "Feature: 10, Score: 0.00000\n",
      "Feature: 11, Score: 0.04813\n",
      "Feature: 12, Score: 0.03438\n",
      "Feature: 13, Score: 0.01115\n",
      "Feature: 14, Score: 0.00000\n",
      "Feature: 15, Score: 0.00000\n",
      "Feature: 16, Score: 0.00000\n",
      "Feature: 17, Score: 0.05760\n",
      "Feature: 18, Score: 0.10517\n",
      "Feature: 19, Score: -0.00026\n",
      "Feature: 20, Score: 0.04574\n",
      "Feature: 21, Score: 0.00000\n",
      "Feature: 22, Score: 0.00000\n",
      "Feature: 23, Score: 0.00000\n",
      "Feature: 24, Score: 0.00000\n",
      "Feature: 25, Score: 0.00000\n",
      "Feature: 26, Score: 0.00000\n",
      "Feature: 27, Score: 0.00000\n",
      "Feature: 28, Score: 0.00000\n",
      "Feature: 29, Score: 0.00000\n",
      "Feature: 30, Score: 0.00000\n",
      "Feature: 31, Score: 0.00000\n",
      "Feature: 32, Score: 0.00000\n",
      "Feature: 33, Score: 0.00000\n",
      "Feature: 34, Score: 0.00000\n",
      "Feature: 35, Score: 0.00000\n",
      "Feature: 36, Score: 0.00000\n",
      "Feature: 37, Score: 0.00865\n",
      "Feature: 38, Score: 0.00000\n",
      "Feature: 39, Score: 0.00000\n",
      "Feature: 40, Score: 0.00000\n",
      "Feature: 41, Score: 0.00000\n",
      "Feature: 42, Score: 0.00000\n",
      "Feature: 43, Score: 0.00000\n",
      "Feature: 44, Score: 0.00000\n",
      "Feature: 45, Score: 0.01073\n"
     ]
    }
   ],
   "source": [
    "for f,s in enumerate(importance):\n",
    "        print('Feature: %0d, Score: %.5f' % (f,s))"
   ]
  },
  {
   "cell_type": "code",
   "execution_count": 18,
   "metadata": {},
   "outputs": [
    {
     "name": "stdout",
     "output_type": "stream",
     "text": [
      "<class 'pandas.core.frame.DataFrame'>\n",
      "Int64Index: 901 entries, 4270 to 5416\n",
      "Data columns (total 46 columns):\n",
      " #   Column            Non-Null Count  Dtype  \n",
      "---  ------            --------------  -----  \n",
      " 0   Id                901 non-null    int64  \n",
      " 1   Rehire            901 non-null    object \n",
      " 2   Age               896 non-null    float64\n",
      " 3   Generation        901 non-null    object \n",
      " 4   CostCenterH       901 non-null    object \n",
      " 5   Gender            901 non-null    object \n",
      " 6   Dependents        901 non-null    int64  \n",
      " 7   ManagementLevel   901 non-null    object \n",
      " 8   EmployeeCount     901 non-null    int64  \n",
      " 9   HireCount         901 non-null    int64  \n",
      " 10  TerminationCount  901 non-null    int64  \n",
      " 11  Tenure            901 non-null    int64  \n",
      " 12  PayIncrease       888 non-null    float64\n",
      " 13  PeopleManager     901 non-null    object \n",
      " 14  BLeave            901 non-null    object \n",
      " 15  BTimeOut          901 non-null    object \n",
      " 16  ParentLeave       901 non-null    object \n",
      " 17  HomeOffice        901 non-null    float64\n",
      " 18  Contract Type     901 non-null    object \n",
      " 19  MProximity        901 non-null    object \n",
      " 20  MTenure           901 non-null    int64  \n",
      " 21  MManagementLevel  901 non-null    object \n",
      " 22  MBoomerang        901 non-null    object \n",
      " 23  MParentLeave      901 non-null    object \n",
      " 24  MHomeoffice       901 non-null    float64\n",
      " 25  MY2018            253 non-null    float64\n",
      " 26  YE2018            336 non-null    float64\n",
      " 27  MY2019            359 non-null    float64\n",
      " 28  ARHappiness       93 non-null     float64\n",
      " 29  ARStay            93 non-null     float64\n",
      " 30  ARResponses       93 non-null     float64\n",
      " 31  DRHappiness       23 non-null     float64\n",
      " 32  DRStay            23 non-null     float64\n",
      " 33  DRResponses       23 non-null     float64\n",
      " 34  TimeJobProfile    901 non-null    float64\n",
      " 35  TimeinPosition    901 non-null    float64\n",
      " 36  OfficeLocation    901 non-null    object \n",
      " 37  Country           901 non-null    object \n",
      " 38  ModNationality    839 non-null    object \n",
      " 39  2ndNationality    901 non-null    int64  \n",
      " 40  MOfficeLocation   900 non-null    object \n",
      " 41  MCountry          900 non-null    object \n",
      " 42  Out               901 non-null    int64  \n",
      " 43  MTimeJobProfile   901 non-null    float64\n",
      " 44  MTimeinPosition   901 non-null    float64\n",
      " 45  TopPerformer      901 non-null    int64  \n",
      "dtypes: float64(17), int64(10), object(19)\n",
      "memory usage: 330.8+ KB\n"
     ]
    }
   ],
   "source": [
    "X_val.info()"
   ]
  },
  {
   "cell_type": "code",
   "execution_count": 19,
   "metadata": {},
   "outputs": [],
   "source": [
    "f_imp = pd.Series(importance, name = 'Features Importances')"
   ]
  },
  {
   "cell_type": "code",
   "execution_count": 20,
   "metadata": {},
   "outputs": [
    {
     "data": {
      "text/plain": [
       "0     0.000000\n",
       "1     0.001509\n",
       "2     0.001053\n",
       "3     0.001834\n",
       "4     0.006927\n",
       "5     0.001524\n",
       "6     0.002471\n",
       "7     0.000000\n",
       "8     0.036531\n",
       "9     0.068590\n",
       "10    0.000000\n",
       "11    0.048130\n",
       "12    0.034381\n",
       "13    0.011147\n",
       "14    0.000000\n",
       "15    0.000000\n",
       "16    0.000000\n",
       "17    0.057603\n",
       "18    0.105174\n",
       "19   -0.000262\n",
       "20    0.045742\n",
       "21    0.000000\n",
       "22    0.000000\n",
       "23    0.000000\n",
       "24    0.000000\n",
       "25    0.000000\n",
       "26    0.000000\n",
       "27    0.000000\n",
       "28    0.000000\n",
       "29    0.000000\n",
       "30    0.000000\n",
       "31    0.000000\n",
       "32    0.000000\n",
       "33    0.000000\n",
       "34    0.000000\n",
       "35    0.000000\n",
       "36    0.000000\n",
       "37    0.008653\n",
       "38    0.000000\n",
       "39    0.000000\n",
       "40    0.000000\n",
       "41    0.000000\n",
       "42    0.000000\n",
       "43    0.000000\n",
       "44    0.000000\n",
       "45    0.010732\n",
       "Name: Features Importances, dtype: float64"
      ]
     },
     "execution_count": 20,
     "metadata": {},
     "output_type": "execute_result"
    }
   ],
   "source": [
    "f_imp"
   ]
  },
  {
   "cell_type": "markdown",
   "metadata": {},
   "source": [
    "---"
   ]
  },
  {
   "cell_type": "markdown",
   "metadata": {},
   "source": [
    "**Filter by the Features actually used in the model:**"
   ]
  },
  {
   "cell_type": "code",
   "execution_count": 37,
   "metadata": {},
   "outputs": [],
   "source": [
    "f_imp_used = f_imp[f_imp != 0]"
   ]
  },
  {
   "cell_type": "code",
   "execution_count": 38,
   "metadata": {},
   "outputs": [
    {
     "data": {
      "text/plain": [
       "18    0.105174\n",
       "9     0.068590\n",
       "17    0.057603\n",
       "11    0.048130\n",
       "20    0.045742\n",
       "8     0.036531\n",
       "12    0.034381\n",
       "13    0.011147\n",
       "45    0.010732\n",
       "37    0.008653\n",
       "4     0.006927\n",
       "6     0.002471\n",
       "3     0.001834\n",
       "5     0.001524\n",
       "1     0.001509\n",
       "2     0.001053\n",
       "19   -0.000262\n",
       "Name: Features Importances, dtype: float64"
      ]
     },
     "execution_count": 38,
     "metadata": {},
     "output_type": "execute_result"
    }
   ],
   "source": [
    "f_imp_used.sort_values(ascending = False)"
   ]
  },
  {
   "cell_type": "code",
   "execution_count": 39,
   "metadata": {},
   "outputs": [
    {
     "data": {
      "image/png": "[encoded data removed]",
      "text/plain": [
       "<Figure size 432x288 with 1 Axes>"
      ]
     },
     "metadata": {
      "needs_background": "light"
     },
     "output_type": "display_data"
    }
   ],
   "source": [
    "pyplot.bar([x for x in range(len(f_imp_used))], f_imp_used)\n",
    "pyplot.show()"
   ]
  },
  {
   "cell_type": "markdown",
   "metadata": {},
   "source": [
    "---"
   ]
  },
  {
   "cell_type": "markdown",
   "metadata": {},
   "source": [
    "## Take 2:"
   ]
  },
  {
   "cell_type": "markdown",
   "metadata": {},
   "source": [
    "**Remove the less important Features from the model.**\n",
    "\n",
    "**Withdrawals:** 'Gender' - 'Dependents' - 'MProximity' - 'Rehire' - 'Generation'"
   ]
  },
  {
   "cell_type": "code",
   "execution_count": 24,
   "metadata": {},
   "outputs": [],
   "source": [
    "transf_v2 = ColumnTransformer(\n",
    "    [('cat', OrdinalEncoder(), ['Contract Type', 'PeopleManager', 'Country', 'CostCenterH', 'TopPerformer']),\n",
    "     ('null', SimpleImputer (missing_values= np.nan, strategy = 'median'), ['PayIncrease', 'Age']), \n",
    "     ('other', \"passthrough\", ['Tenure', 'EmployeeCount', 'HireCount', 'MTenure', 'HomeOffice'])\n",
    "    ])\n"
   ]
  },
  {
   "cell_type": "code",
   "execution_count": 25,
   "metadata": {},
   "outputs": [],
   "source": [
    "model_v2 = Pipeline([\n",
    "    ('Feature Eng', transf_v2),\n",
    "    ('Gradient Boosting', GradientBoostingClassifier(n_estimators = 100, learning_rate = 0.1, max_depth = 9))\n",
    "])"
   ]
  },
  {
   "cell_type": "code",
   "execution_count": 26,
   "metadata": {},
   "outputs": [
    {
     "data": {
      "text/plain": [
       "Pipeline(steps=[('Feature Eng',\n",
       "                 ColumnTransformer(transformers=[('cat', OrdinalEncoder(),\n",
       "                                                  ['Contract Type',\n",
       "                                                   'PeopleManager', 'Country',\n",
       "                                                   'CostCenterH',\n",
       "                                                   'TopPerformer']),\n",
       "                                                 ('null',\n",
       "                                                  SimpleImputer(strategy='median'),\n",
       "                                                  ['PayIncrease', 'Age']),\n",
       "                                                 ('other', 'passthrough',\n",
       "                                                  ['Tenure', 'EmployeeCount',\n",
       "                                                   'HireCount', 'MTenure',\n",
       "                                                   'HomeOffice'])])),\n",
       "                ('Gradient Boosting', GradientBoostingClassifier(max_depth=9))])"
      ]
     },
     "execution_count": 26,
     "metadata": {},
     "output_type": "execute_result"
    }
   ],
   "source": [
    "model_v2.fit(X_train, y_train)"
   ]
  },
  {
   "cell_type": "markdown",
   "metadata": {},
   "source": [
    "## Plot roc curve:"
   ]
  },
  {
   "cell_type": "code",
   "execution_count": 27,
   "metadata": {},
   "outputs": [
    {
     "data": {
      "image/png": "[encoded data removed]",
      "text/plain": [
       "<Figure size 432x288 with 1 Axes>"
      ]
     },
     "metadata": {
      "needs_background": "light"
     },
     "output_type": "display_data"
    }
   ],
   "source": [
    "model_v2_disp = plot_roc_curve(model_v2, X_test, y_test)"
   ]
  },
  {
   "cell_type": "markdown",
   "metadata": {},
   "source": [
    "**As expected the overall model B performance is lower than model A as it does not contain the identified overestimating features. Nevertheless it still presents encouraging results, also considering the fact that it is less complex when it comes to number of features used to build it. Less complexity and still high enough AUC is a positive outcome.**"
   ]
  },
  {
   "cell_type": "markdown",
   "metadata": {},
   "source": [
    "---"
   ]
  },
  {
   "cell_type": "markdown",
   "metadata": {},
   "source": [
    "### Evaluate the model for TopPerformers vs Non TopPerformer"
   ]
  },
  {
   "cell_type": "code",
   "execution_count": 28,
   "metadata": {},
   "outputs": [
    {
     "data": {
      "text/plain": [
       "(1126, 46)"
      ]
     },
     "execution_count": 28,
     "metadata": {},
     "output_type": "execute_result"
    }
   ],
   "source": [
    "X_test.shape"
   ]
  },
  {
   "cell_type": "code",
   "execution_count": 29,
   "metadata": {},
   "outputs": [
    {
     "data": {
      "image/png": "[encoded data removed]",
      "text/plain": [
       "<Figure size 432x288 with 1 Axes>"
      ]
     },
     "metadata": {
      "needs_background": "light"
     },
     "output_type": "display_data"
    }
   ],
   "source": [
    "model_v2_ntp = plot_roc_curve(model_v2, X_test[X_test['TopPerformer']== 0], y_test[X_test[X_test['TopPerformer'] == 0].index.values], name = 'Not TopPerformer')"
   ]
  },
  {
   "cell_type": "code",
   "execution_count": 30,
   "metadata": {},
   "outputs": [
    {
     "data": {
      "image/png": "[encoded data removed]",
      "text/plain": [
       "<Figure size 432x288 with 1 Axes>"
      ]
     },
     "metadata": {
      "needs_background": "light"
     },
     "output_type": "display_data"
    }
   ],
   "source": [
    "ax = pyplot.gca()\n",
    "model_v2_tp = plot_roc_curve(model_v2, X_test[X_test['TopPerformer']== 1], y_test[X_test[X_test['TopPerformer'] == 1].index.values], name = 'TopPerformer', ax=ax, alpha=0.8)"
   ]
  },
  {
   "cell_type": "code",
   "execution_count": 31,
   "metadata": {},
   "outputs": [
    {
     "data": {
      "text/plain": [
       "<sklearn.metrics._plot.roc_curve.RocCurveDisplay at 0x7fad925adf70>"
      ]
     },
     "execution_count": 31,
     "metadata": {},
     "output_type": "execute_result"
    },
    {
     "data": {
      "image/png": "[encoded data removed]",
      "text/plain": [
       "<Figure size 432x288 with 1 Axes>"
      ]
     },
     "metadata": {
      "needs_background": "light"
     },
     "output_type": "display_data"
    }
   ],
   "source": [
    "ax = pyplot.gca()\n",
    "model_v2_tp = plot_roc_curve(model_v2, X_test[X_test['TopPerformer']== 1], y_test[X_test[X_test['TopPerformer'] == 1].index.values], name = 'TopPerformer', ax=ax, alpha=0.8)\n",
    "model_v2_ntp.plot(ax=ax, alpha=0.8)"
   ]
  },
  {
   "cell_type": "markdown",
   "metadata": {},
   "source": [
    "**When prediticting general employees vs Top Performers employees migration, our model B is clearly best at predicting the first. This may be explained by the low sampling of valid performance evaluation cycles data present in the dataset, which ultimately allowed for reduced number of Top Performers identification, when compared with general employees information.**"
   ]
  },
  {
   "cell_type": "markdown",
   "metadata": {},
   "source": [
    "---"
   ]
  },
  {
   "cell_type": "markdown",
   "metadata": {},
   "source": [
    "### By Gender:"
   ]
  },
  {
   "cell_type": "code",
   "execution_count": 32,
   "metadata": {},
   "outputs": [
    {
     "data": {
      "image/png": "[encoded data removed]",
      "text/plain": [
       "<Figure size 432x288 with 1 Axes>"
      ]
     },
     "metadata": {
      "needs_background": "light"
     },
     "output_type": "display_data"
    }
   ],
   "source": [
    "model_v2_fem = plot_roc_curve(model_v2, X_test[X_test['Gender']== 'Female'], y_test[X_test[X_test['Gender'] == 'Female'].index.values], name = 'Female')"
   ]
  },
  {
   "cell_type": "code",
   "execution_count": 33,
   "metadata": {},
   "outputs": [
    {
     "data": {
      "text/plain": [
       "<sklearn.metrics._plot.roc_curve.RocCurveDisplay at 0x7fad92887f40>"
      ]
     },
     "execution_count": 33,
     "metadata": {},
     "output_type": "execute_result"
    },
    {
     "data": {
      "image/png": "[encoded data removed]",
      "text/plain": [
       "<Figure size 432x288 with 1 Axes>"
      ]
     },
     "metadata": {
      "needs_background": "light"
     },
     "output_type": "display_data"
    }
   ],
   "source": [
    "ax_v2 = pyplot.gca()\n",
    "model_v2_male = plot_roc_curve(model_v2, X_test[X_test['Gender']== 'Male'], y_test[X_test[X_test['Gender'] == 'Male'].index.values], name = 'Male', ax=ax_v2, alpha=0.8)\n",
    "model_v2_fem.plot(ax=ax_v2, alpha=0.8)\n"
   ]
  },
  {
   "cell_type": "markdown",
   "metadata": {},
   "source": [
    "**As model A, model B also presents similar performance when filtered by Gender, being slightly better at predicting Female employees migration.**"
   ]
  },
  {
   "cell_type": "markdown",
   "metadata": {},
   "source": [
    "---"
   ]
  },
  {
   "cell_type": "markdown",
   "metadata": {},
   "source": [
    "### By Generation:"
   ]
  },
  {
   "cell_type": "code",
   "execution_count": 34,
   "metadata": {},
   "outputs": [
    {
     "data": {
      "text/plain": [
       "array(['Generation X (1965 -1980)',\n",
       "       'Generation Y / Millennials (1981 -1996)',\n",
       "       'Generation Z (1997 and onwards)', 'Not Available',\n",
       "       'Baby Boomers (1946 -1964)'], dtype=object)"
      ]
     },
     "execution_count": 34,
     "metadata": {},
     "output_type": "execute_result"
    }
   ],
   "source": [
    "X_test['Generation'].unique()"
   ]
  },
  {
   "cell_type": "markdown",
   "metadata": {},
   "source": [
    "**Generation Baby Boomers removed due to reduced sampling:**"
   ]
  },
  {
   "cell_type": "code",
   "execution_count": 35,
   "metadata": {},
   "outputs": [
    {
     "data": {
      "image/png": "[encoded data removed]",
      "text/plain": [
       "<Figure size 432x288 with 1 Axes>"
      ]
     },
     "metadata": {
      "needs_background": "light"
     },
     "output_type": "display_data"
    }
   ],
   "source": [
    "model_v2_gx = plot_roc_curve(model_v2, X_test[X_test['Generation']== 'Generation X (1965 -1980)'], y_test[X_test[X_test['Generation'] == 'Generation X (1965 -1980)'].index.values], name ='Generation X (1965 -1980)')\n",
    "\n",
    "# model_v2_bb = plot_roc_curve(model_v2, X_test[X_test['Generation']== 'Baby Boomers (1946 -1964)'], y_test[X_test[X_test['Generation'] == 'Baby Boomers (1946 -1964)'].index.values], name = 'Baby Boomers (1946 -1964)')"
   ]
  },
  {
   "cell_type": "code",
   "execution_count": 36,
   "metadata": {},
   "outputs": [
    {
     "data": {
      "text/plain": [
       "<sklearn.metrics._plot.roc_curve.RocCurveDisplay at 0x7fad92a4a250>"
      ]
     },
     "execution_count": 36,
     "metadata": {},
     "output_type": "execute_result"
    },
    {
     "data": {
      "image/png": "[encoded data removed]",
      "text/plain": [
       "<Figure size 432x288 with 1 Axes>"
      ]
     },
     "metadata": {
      "needs_background": "light"
     },
     "output_type": "display_data"
    }
   ],
   "source": [
    "ax_v3 = pyplot.gca()\n",
    "model_v2_gy = plot_roc_curve(model_v2, X_test[X_test['Generation']== 'Generation Y / Millennials (1981 -1996)'], y_test[X_test[X_test['Generation'] == 'Generation Y / Millennials (1981 -1996)'].index.values], name ='Generation Y / Millennials (1981 -1996)', ax=ax_v3, alpha=0.8)\n",
    "model_v2_gz = plot_roc_curve(model_v2, X_test[X_test['Generation']== 'Generation Z (1997 and onwards)'], y_test[X_test[X_test['Generation'] == 'Generation Z (1997 and onwards)'].index.values], name ='Generation Z (1997 and onwards)', ax=ax_v3, alpha=0.8)\n",
    "\n",
    "\n",
    "model_v2_gx.plot(ax=ax_v3, alpha=0.8)\n"
   ]
  },
  {
   "cell_type": "markdown",
   "metadata": {},
   "source": [
    "**Looking at model B performance at predicting employees migration by Generation, contrary to model A, it is best at predicting migration of Generation Y/ Millennials employees from the Organization. This is especially interesting because it is a critical Generation for the short term survival of any Organization's teams. Being able to predict this Generation employees helps Organizations tackle specific needs/challenges beforehand and benefit from already significantly aquired millenials experience retention in their Organization.**"
   ]
  },
  {
   "cell_type": "code",
   "execution_count": null,
   "metadata": {},
   "outputs": [],
   "source": []
  }
 ],
 "metadata": {
  "kernelspec": {
   "display_name": "Python 3",
   "language": "python",
   "name": "python3"
  },
  "language_info": {
   "codemirror_mode": {
    "name": "ipython",
    "version": 3
   },
   "file_extension": ".py",
   "mimetype": "text/x-python",
   "name": "python",
   "nbconvert_exporter": "python",
   "pygments_lexer": "ipython3",
   "version": "3.8.3"
  }
 },
 "nbformat": 4,
 "nbformat_minor": 4
}
