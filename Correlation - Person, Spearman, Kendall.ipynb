{
 "cells": [
  {
   "cell_type": "markdown",
   "metadata": {
    "nbgrader": {
     "grade": false,
     "grade_id": "cell-ffd19da8ad9eb287",
     "locked": true,
     "schema_version": 1,
     "solution": false
    }
   },
   "source": [
    "# Correlation - Person, Spearman, Kendall"
   ]
  },
  {
   "cell_type": "code",
   "execution_count": 3,
   "metadata": {
    "nbgrader": {
     "grade": false,
     "grade_id": "cell-5db9010e5f96be4c",
     "locked": true,
     "schema_version": 1,
     "solution": false
    }
   },
   "outputs": [],
   "source": [
    "import pandas as pd \n",
    "import numpy as np \n",
    "import math \n",
    "\n",
    "from matplotlib import pyplot as plt \n",
    "\n",
    "plt.style.use('seaborn')"
   ]
  },
  {
   "cell_type": "markdown",
   "metadata": {
    "nbgrader": {
     "grade": false,
     "grade_id": "cell-f10b687a642dbf13",
     "locked": true,
     "schema_version": 1,
     "solution": false
    }
   },
   "source": [
    "In the first exercise, we implemented a function to calculate the covariance between two variables, $x$ and $y$.\n",
    "\n",
    "$$\\text{cov}(X, Y) = \\frac{\\sum_{i=1}^n{(x_i - \\bar{x})(y_i - \\bar{y})}}{n-1}$$\n",
    "\n",
    "Where:\n",
    "\n",
    "- $x_i$ corresponds to the value with index $i$ of the variable $X$.\n",
    "- $\\bar{x}$ corresponds to the average of the variable $X$.\n",
    "- $y_i$ corresponds to the value with index $i$ of the variable $Y$.\n",
    "- $\\bar{y}$ corresponds to the average of the variable $Y$.\n",
    "- $n$ corresponds to the total number of pairs $(x_i, y_i)$ in the sample."
   ]
  },
  {
   "cell_type": "code",
   "execution_count": 10,
   "metadata": {
    "nbgrader": {
     "grade": false,
     "grade_id": "cell-31802707a6bea6cf",
     "locked": false,
     "schema_version": 1,
     "solution": true
    }
   },
   "outputs": [],
   "source": [
    "    ### BEGIN SOLUTION \n",
    "def covariance(X, Y):\n",
    "        med_X = X.mean()\n",
    "        med_Y = Y.mean()\n",
    "        n = X.size\n",
    "        return ((X - med_X)*(Y - med_Y)).sum()/(n-1)\n",
    "    ### END SOLUTION "
   ]
  },
  {
   "cell_type": "markdown",
   "metadata": {},
   "source": [
    "**We will validate against the implementation in Pandas.**"
   ]
  },
  {
   "cell_type": "code",
   "execution_count": 11,
   "metadata": {},
   "outputs": [
    {
     "name": "stdout",
     "output_type": "stream",
     "text": [
      "The covariance between `a` and `b` is 112.05.\n"
     ]
    }
   ],
   "source": [
    "a = pd.Series([1, 5, 7, 10, 25])\n",
    "b = pd.Series([15, 30, 28, 45, 50])\n",
    "\n",
    "cov_ab = round(covariance(a, b), 2)\n",
    "print('The covariance between `a` and `b` is {}.'.format(cov_ab))"
   ]
  },
  {
   "cell_type": "code",
   "execution_count": 12,
   "metadata": {},
   "outputs": [
    {
     "name": "stdout",
     "output_type": "stream",
     "text": [
      "The covariance between `a` and `b` is 112.05.\n"
     ]
    }
   ],
   "source": [
    "cov_ab_ = round(a.cov(b), 2)\n",
    "print('The covariance between `a` and `b` is {}.'.format(cov_ab_))"
   ]
  },
  {
   "cell_type": "markdown",
   "metadata": {},
   "source": [
    "### Tests"
   ]
  },
  {
   "cell_type": "code",
   "execution_count": 13,
   "metadata": {
    "nbgrader": {
     "grade": true,
     "grade_id": "cell-110d6cc4cdab8695",
     "locked": true,
     "points": 4,
     "schema_version": 1,
     "solution": false
    }
   },
   "outputs": [],
   "source": [
    "t1 = pd.Series([1, 5, 7, 10, 25])\n",
    "t2 = pd.Series([15, 30, 28, 45, 50]) \n",
    "t3 = pd.Series([22, 55, 23, 15, 92])\n",
    "\n",
    "assert math.isclose(covariance(t1, t2), 112.05)\n",
    "assert math.isclose(covariance(t1, t3), 230.2)"
   ]
  },
  {
   "cell_type": "markdown",
   "metadata": {
    "nbgrader": {
     "grade": false,
     "grade_id": "cell-34d6949936535344",
     "locked": true,
     "schema_version": 1,
     "solution": false
    }
   },
   "source": [
    "Pearson's correlation, $r_{xy}$, is a normalized form of covariance:\n",
    "\n",
    "$$ r_{XY} = \\frac{\\text{cov}(X, Y)}{\\sigma_X \\sigma_Y} $$\n",
    "\n",
    "Where:\n",
    "\n",
    "- $\\sigma_X$ corresponds to the standard deviation of $X$.\n",
    "- $\\sigma_Y$ corresponds to the standard deviation of $Y$.\n",
    "\n",
    "We will also implement Pearson's correlation, using our `covariance` function."
   ]
  },
  {
   "cell_type": "code",
   "execution_count": 15,
   "metadata": {
    "nbgrader": {
     "grade": false,
     "grade_id": "cell-7e2c47095ccc50ef",
     "locked": false,
     "schema_version": 1,
     "solution": true
    }
   },
   "outputs": [],
   "source": [
    "    \n",
    "    ### BEGIN SOLUTION \n",
    "def pearson_correlation(X, Y):\n",
    "        dp_X = X.std()\n",
    "        dp_Y = Y.std()\n",
    "        return X.cov(Y)/((dp_X)*(dp_Y))\n",
    "    ### END SOLUTION"
   ]
  },
  {
   "cell_type": "markdown",
   "metadata": {},
   "source": [
    "Mais uma vez, validamos contra a implementação de Pandas."
   ]
  },
  {
   "cell_type": "code",
   "execution_count": 16,
   "metadata": {},
   "outputs": [
    {
     "name": "stdout",
     "output_type": "stream",
     "text": [
      "Pearson's correlation between `a` and `b` is 0.87.\n"
     ]
    }
   ],
   "source": [
    "r_ab = round(pearson_correlation(a, b), 2)\n",
    "print('Pearson\\'s correlation between `a` and `b` is {}.'.format(r_ab))"
   ]
  },
  {
   "cell_type": "code",
   "execution_count": 17,
   "metadata": {},
   "outputs": [
    {
     "name": "stdout",
     "output_type": "stream",
     "text": [
      "Pearson's correlation between `a` and `b` is 0.87.\n"
     ]
    }
   ],
   "source": [
    "r_ab_ = round(a.corr(b), 2)\n",
    "print('Pearson\\'s correlation between `a` and `b` is {}.'.format(r_ab_))"
   ]
  },
  {
   "cell_type": "markdown",
   "metadata": {},
   "source": [
    "### Tests"
   ]
  },
  {
   "cell_type": "code",
   "execution_count": 18,
   "metadata": {},
   "outputs": [],
   "source": [
    "assert math.isclose(pearson_correlation(t1, t2), 0.8662642506328923)\n",
    "assert math.isclose(pearson_correlation(t2, t3), 0.5210578887070213)"
   ]
  },
  {
   "cell_type": "markdown",
   "metadata": {
    "nbgrader": {
     "grade": false,
     "grade_id": "cell-a77a4a95e67dcd84",
     "locked": true,
     "schema_version": 1,
     "solution": false
    }
   },
   "source": [
    "Now, let's implement Spearman's correlation:\n",
    "\n",
    "$$ r_{XY} = \\frac{\\text{cov}(R(X), R(Y))}{\\sigma_{R(X)} \\sigma_{R(Y)}} $$\n",
    "\n",
    "Where:\n",
    "\n",
    "- $R(X)$ corresponds to the * rankings * of $X$.\n",
    "- $R(Y)$ corresponds to the * rankings * of $Y$."
   ]
  },
  {
   "cell_type": "code",
   "execution_count": 19,
   "metadata": {
    "nbgrader": {
     "grade": false,
     "grade_id": "cell-c0748eb68560b07e",
     "locked": false,
     "schema_version": 1,
     "solution": true
    }
   },
   "outputs": [],
   "source": [
    "    \n",
    "    ### BEGIN SOLUTION \n",
    "\n",
    "def spearman_correlation(X, Y):\n",
    "        r_X = X.rank()\n",
    "        r_Y = Y.rank()\n",
    "        return pearson_correlation(r_X, r_Y)\n",
    "        ### END SOLUTION "
   ]
  },
  {
   "cell_type": "markdown",
   "metadata": {},
   "source": [
    "**We compare it with the implementation of Pandas.**"
   ]
  },
  {
   "cell_type": "code",
   "execution_count": 20,
   "metadata": {
    "nbgrader": {
     "grade": false,
     "grade_id": "cell-b82c54b3dd3e690a",
     "locked": true,
     "schema_version": 1,
     "solution": false
    },
    "scrolled": true
   },
   "outputs": [
    {
     "name": "stdout",
     "output_type": "stream",
     "text": [
      "The Spearman correlation between `a` and` b` is 0.9.\n",
      "\n",
      "\n",
      "--- 0.007876157760620117 seconds ---\n"
     ]
    }
   ],
   "source": [
    "import time\n",
    "start_time = time.time()\n",
    "rho_ab = round(spearman_correlation(a, b), 2)\n",
    "print('The Spearman correlation between `a` and` b` is {}.'.format(rho_ab))\n",
    "print('\\n')\n",
    "print(\"--- %s seconds ---\" % (time.time() - start_time))"
   ]
  },
  {
   "cell_type": "code",
   "execution_count": 21,
   "metadata": {},
   "outputs": [
    {
     "name": "stdout",
     "output_type": "stream",
     "text": [
      "The Spearman correlation between `a` and` b` is 0.9.\n",
      "\n",
      "\n",
      "--- 0.6227638721466064 seconds ---\n"
     ]
    }
   ],
   "source": [
    "start_time = time.time()\n",
    "rho_ab_ = round(a.corr(b, method='spearman'), 2)\n",
    "print('The Spearman correlation between `a` and` b` is {}.'.format(rho_ab_))\n",
    "print('\\n')\n",
    "print(\"--- %s seconds ---\" % (time.time() - start_time))"
   ]
  },
  {
   "cell_type": "markdown",
   "metadata": {},
   "source": [
    "### Tests"
   ]
  },
  {
   "cell_type": "code",
   "execution_count": 22,
   "metadata": {
    "nbgrader": {
     "grade": true,
     "grade_id": "cell-9c8a1bb04133d3d5",
     "locked": true,
     "points": 4,
     "schema_version": 1,
     "solution": false
    }
   },
   "outputs": [],
   "source": [
    "assert math.isclose(spearman_correlation(t1, t2), t1.corr(t2, method='spearman'), abs_tol=.1)\n",
    "assert math.isclose(spearman_correlation(t2, t3), t2.corr(t3, method='spearman'), abs_tol=.1)\n",
    "assert math.isclose(spearman_correlation(t3, t1), t3.corr(t1, method='spearman'), abs_tol=.1)"
   ]
  },
  {
   "cell_type": "markdown",
   "metadata": {
    "nbgrader": {
     "grade": false,
     "grade_id": "cell-f6d048d12dae577d",
     "locked": true,
     "schema_version": 1,
     "solution": false
    }
   },
   "source": [
    "----"
   ]
  },
  {
   "cell_type": "markdown",
   "metadata": {
    "nbgrader": {
     "grade": false,
     "grade_id": "cell-14dafd575c8757dd",
     "locked": true,
     "schema_version": 1,
     "solution": false
    }
   },
   "source": [
    "**Finally, let's explore an example, house prices, with an outlier (e.g., the home of someone famous).**\n",
    "\n",
    "**We will start by simulating an outlier.**"
   ]
  },
  {
   "cell_type": "code",
   "execution_count": 25,
   "metadata": {},
   "outputs": [],
   "source": [
    "def simulate_outlier(): \n",
    "    \"\"\"\n",
    "     Necessary data for the simulation of an outlier in house prices.\n",
    "\n",
    "     Returns:\n",
    "         number of rooms (pd.Series): the number of rooms for each house\n",
    "         price (pd.Series): the price for each house\n",
    "         price_com_outlier (pd.Series): the price for each house with an outlier entered manually\n",
    "\n",
    "     \"\"\"\n",
    "    data = pd.read_csv('HousingData.csv', usecols=['house_price', 'number_of_rooms'])\n",
    "\n",
    "    number_of_rooms = data['number_of_rooms']\n",
    "    price = data['house_price']\n",
    "\n",
    "    price_with_outlier = price.copy()\n",
    "    price_with_outlier.loc[3] = 500\n",
    "    \n",
    "    return number_of_rooms, price, price_with_outlier\n",
    "\n",
    "\n",
    "n_rooms, p, p_outlier = simulate_outlier()"
   ]
  },
  {
   "cell_type": "markdown",
   "metadata": {},
   "source": [
    "**Let's see the result.**"
   ]
  },
  {
   "cell_type": "code",
   "execution_count": 26,
   "metadata": {
    "nbgrader": {
     "grade": false,
     "grade_id": "cell-7c1d07c904f2181a",
     "locked": true,
     "schema_version": 1,
     "solution": false
    }
   },
   "outputs": [
    {
     "data": {
      "image/png": "[encoded data removed]",
      "text/plain": [
       "<Figure size 1152x288 with 2 Axes>"
      ]
     },
     "metadata": {},
     "output_type": "display_data"
    }
   ],
   "source": [
    "fig, axes = plt.subplots(nrows=1, ncols=2, figsize=(16, 4))\n",
    "\n",
    "pd.concat([n_rooms, p], axis=1).plot(kind='scatter', \n",
    "                                       alpha=.5,\n",
    "                                       y='number_of_rooms',\n",
    "                                       x='house_price', \n",
    "                                       ax=axes[0], \n",
    "                                       title='Number of Rooms & Price')\n",
    "\n",
    "pd.concat([n_rooms, p_outlier], axis=1).plot(kind='scatter', \n",
    "                                               alpha=.5,\n",
    "                                               y='number_of_rooms',\n",
    "                                               x='house_price',\n",
    "                                               ax=axes[1],\n",
    "                                               title='Number of Rooms & Price (with outlier)');"
   ]
  },
  {
   "cell_type": "code",
   "execution_count": 27,
   "metadata": {},
   "outputs": [
    {
     "data": {
      "image/png": "[encoded data removed]",
      "text/plain": [
       "<Figure size 576x396 with 1 Axes>"
      ]
     },
     "metadata": {},
     "output_type": "display_data"
    }
   ],
   "source": [
    "p.plot.hist(alpha=.5, title='Price Histogram');"
   ]
  },
  {
   "cell_type": "code",
   "execution_count": 28,
   "metadata": {},
   "outputs": [
    {
     "data": {
      "image/png": "[encoded data removed]",
      "text/plain": [
       "<Figure size 576x396 with 1 Axes>"
      ]
     },
     "metadata": {},
     "output_type": "display_data"
    }
   ],
   "source": [
    "p_outlier.plot.hist(alpha=.5, title='Price Histogram (with outliers)');"
   ]
  },
  {
   "cell_type": "markdown",
   "metadata": {},
   "source": [
    "**Intuitively, what is the expected impact of the outlier on the above correlation measures?**\n",
    "\n",
    "**Now, we calculate the Pearson and Spearman correlations for both cases: with and without outlier.**"
   ]
  },
  {
   "cell_type": "code",
   "execution_count": 29,
   "metadata": {
    "nbgrader": {
     "grade": false,
     "grade_id": "cell-602c35acee50ad38",
     "locked": false,
     "schema_version": 1,
     "solution": true
    }
   },
   "outputs": [],
   "source": [
    "### BEGIN SOLUTION\n",
    "pearson_correlation_without_outlier = pearson_correlation(n_rooms,p)\n",
    "pearson_correlation_with_outlier = pearson_correlation(n_rooms,p_outlier)\n",
    "\n",
    "spearman_correlation_without_outlier = spearman_correlation(n_rooms,p)\n",
    "spearman_correlation_with_outlier = spearman_correlation(n_rooms,p_outlier)\n",
    " \n",
    "### END SOLUTION"
   ]
  },
  {
   "cell_type": "code",
   "execution_count": 30,
   "metadata": {},
   "outputs": [
    {
     "data": {
      "text/plain": [
       "Pearson without outlier     0.689598\n",
       "Pearson with outlier        0.291450\n",
       "Spearman without outlier    0.635173\n",
       "Spearman with outlier       0.635284\n",
       "dtype: float64"
      ]
     },
     "metadata": {},
     "output_type": "display_data"
    }
   ],
   "source": [
    "results = pd.Series({\n",
    "    'Pearson without outlier': pearson_correlation_without_outlier,\n",
    "    'Pearson with outlier': pearson_correlation_with_outlier,\n",
    "    'Spearman without outlier': spearman_correlation_without_outlier,\n",
    "    'Spearman with outlier': spearman_correlation_with_outlier,\n",
    "})\n",
    "\n",
    "display(results)"
   ]
  },
  {
   "cell_type": "markdown",
   "metadata": {},
   "source": [
    "**Does this result confirm our intuition?**\n",
    "\n",
    "**Finally, we calculate Kendall's correlation, also based on rankings (like Spearman), ideal for small datasets and outliers.**"
   ]
  },
  {
   "cell_type": "code",
   "execution_count": 31,
   "metadata": {},
   "outputs": [],
   "source": [
    "### BEGIN SOLUTION\n",
    "kendall_correlation_without_outlier = n_rooms.corr(p, method='kendall')\n",
    "kendall_correlation_with_outlier =n_rooms.corr(p_outlier, method='kendall')\n",
    "\n",
    "### END SOLUTION"
   ]
  },
  {
   "cell_type": "code",
   "execution_count": 32,
   "metadata": {},
   "outputs": [
    {
     "data": {
      "text/plain": [
       "Pearson without outlier     0.689598\n",
       "Pearson with outlier        0.291450\n",
       "Spearman without outlier    0.635173\n",
       "Spearman with outlier       0.635284\n",
       "Kendall without outlier     0.485090\n",
       "Kendall with outlier        0.484560\n",
       "dtype: float64"
      ]
     },
     "metadata": {},
     "output_type": "display_data"
    }
   ],
   "source": [
    "results_ = results.append(pd.Series({\n",
    "    'Kendall without outlier': kendall_correlation_without_outlier,\n",
    "    'Kendall with outlier': kendall_correlation_with_outlier\n",
    "}))\n",
    "\n",
    "display(results_)"
   ]
  },
  {
   "cell_type": "markdown",
   "metadata": {},
   "source": [
    "**How to interpret this result, considering the robustness of the different measures of correlation to outliers?**\n",
    "\n",
    "- In this particular case Person's correlation was definitely impacted by the simulated outlier, as it paints an overly simplistic reallity and provides us with a normalized covariance betweeen values. Whereas Spearman's and Kendall's results remained the same. This shows that categorizing observations in ranks, strengthens the method's correlation robustness, in this example to outliers.   "
   ]
  },
  {
   "cell_type": "markdown",
   "metadata": {},
   "source": [
    "### Tests"
   ]
  },
  {
   "cell_type": "code",
   "execution_count": 34,
   "metadata": {
    "nbgrader": {
     "grade": true,
     "grade_id": "cell-1a7175bdcc21451a",
     "locked": true,
     "points": 4,
     "schema_version": 1,
     "solution": false
    }
   },
   "outputs": [],
   "source": [
    "assert math.isclose((pearson_correlation_with_outlier - pearson_correlation_without_outlier), -0.39814771546286415, abs_tol=.01)\n",
    "assert math.isclose((spearman_correlation_with_outlier - spearman_correlation_without_outlier), 0, abs_tol=.01)\n",
    "assert math.isclose((kendall_correlation_with_outlier - kendall_correlation_without_outlier), 0, abs_tol=.01)"
   ]
  },
  {
   "cell_type": "code",
   "execution_count": null,
   "metadata": {},
   "outputs": [],
   "source": []
  }
 ],
 "metadata": {
  "celltoolbar": "Create Assignment",
  "kernelspec": {
   "display_name": "Python 3",
   "language": "python",
   "name": "python3"
  },
  "language_info": {
   "codemirror_mode": {
    "name": "ipython",
    "version": 3
   },
   "file_extension": ".py",
   "mimetype": "text/x-python",
   "name": "python",
   "nbconvert_exporter": "python",
   "pygments_lexer": "ipython3",
   "version": "3.8.3"
  }
 },
 "nbformat": 4,
 "nbformat_minor": 4
}
